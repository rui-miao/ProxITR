{
 "cells": [
  {
   "cell_type": "code",
   "execution_count": 1,
   "metadata": {
    "execution": {
     "iopub.execute_input": "2022-03-03T22:07:51.628562Z",
     "iopub.status.busy": "2022-03-03T22:07:51.627556Z",
     "iopub.status.idle": "2022-03-03T22:07:51.651208Z",
     "shell.execute_reply": "2022-03-03T22:07:51.652171Z"
    }
   },
   "outputs": [
    {
     "name": "stdout",
     "output_type": "stream",
     "text": [
      "/CCAS/home/ruimiao/mylustre/miniconda3/envs/proxITR/bin/python\n"
     ]
    }
   ],
   "source": [
    "import warnings\n",
    "warnings.filterwarnings('ignore')\n",
    "import sys\n",
    "print(sys.executable) #check jupyter kernel\n",
    "import os\n",
    "module_path = os.path.abspath(os.path.join('..'))\n",
    "if module_path not in sys.path:\n",
    "    sys.path.append(module_path)"
   ]
  },
  {
   "cell_type": "code",
   "execution_count": 2,
   "metadata": {
    "execution": {
     "iopub.execute_input": "2022-03-03T22:07:51.659999Z",
     "iopub.status.busy": "2022-03-03T22:07:51.659380Z",
     "iopub.status.idle": "2022-03-03T22:08:41.993748Z",
     "shell.execute_reply": "2022-03-03T22:08:41.992709Z"
    }
   },
   "outputs": [],
   "source": [
    "from data.simu_setting import prox_data\n",
    "from src.proxITR import proxITR\n",
    "import numpy as np\n",
    "import pandas as pd\n",
    "import sklearn\n",
    "from sklearn.model_selection import train_test_split\n",
    "from sklearn.preprocessing import RobustScaler as Scaler\n",
    "from sklearn.kernel_approximation import Nystroem"
   ]
  },
  {
   "cell_type": "markdown",
   "metadata": {},
   "source": [
    "### Value Function"
   ]
  },
  {
   "cell_type": "code",
   "execution_count": 3,
   "metadata": {
    "execution": {
     "iopub.execute_input": "2022-03-03T22:08:42.005781Z",
     "iopub.status.busy": "2022-03-03T22:08:42.004637Z",
     "iopub.status.idle": "2022-03-03T22:08:42.009045Z",
     "shell.execute_reply": "2022-03-03T22:08:42.007987Z"
    }
   },
   "outputs": [],
   "source": [
    "def value_fun(d,A,Y,X,U):\n",
    "    A = A.to_numpy().reshape(-1)\n",
    "    Y = Y.to_numpy().reshape(-1)\n",
    "    U = U.to_numpy().reshape(-1)\n",
    "    X = X.to_numpy()\n",
    "    return np.mean((np.abs((np.sign(A-0.5)-d))<0.5)*Y*(1. + np.exp(np.sign(A-0.5)*(0.09375+X @ [0.1875, 0.1875] -0.25*U))))"
   ]
  },
  {
   "cell_type": "markdown",
   "metadata": {},
   "source": [
    "## Examples for Different Simulation Settings"
   ]
  },
  {
   "cell_type": "markdown",
   "metadata": {},
   "source": [
    "### Scenario L1"
   ]
  },
  {
   "cell_type": "code",
   "execution_count": 4,
   "metadata": {
    "execution": {
     "iopub.execute_input": "2022-03-03T22:08:42.014743Z",
     "iopub.status.busy": "2022-03-03T22:08:42.013882Z",
     "iopub.status.idle": "2022-03-03T22:08:42.017897Z",
     "shell.execute_reply": "2022-03-03T22:08:42.016997Z"
    }
   },
   "outputs": [],
   "source": [
    "# Setting\n",
    "linearity    = 'linear'\n",
    "Xonly        = 'XW'"
   ]
  },
  {
   "cell_type": "code",
   "execution_count": 5,
   "metadata": {
    "execution": {
     "iopub.execute_input": "2022-03-03T22:08:42.087334Z",
     "iopub.status.busy": "2022-03-03T22:08:42.086148Z",
     "iopub.status.idle": "2022-03-03T22:08:43.769029Z",
     "shell.execute_reply": "2022-03-03T22:08:43.768620Z"
    }
   },
   "outputs": [
    {
     "data": {
      "text/plain": [
       "6.256284945993542"
      ]
     },
     "execution_count": 5,
     "metadata": {},
     "output_type": "execute_result"
    }
   ],
   "source": [
    "# Generate Test Data\n",
    "test = prox_data(500000, add_noise=False).gen_Y(linearity=linearity, Xonly = Xonly)\n",
    "value_fun(test[[\"GOR\"]].to_numpy(int).reshape(-1), test[[\"A\"]],test[[\"Y\"]],test[[\"X0\",\"X1\"]],test[[\"U\"]])"
   ]
  },
  {
   "cell_type": "code",
   "execution_count": 6,
   "metadata": {
    "execution": {
     "iopub.execute_input": "2022-03-03T22:08:43.772874Z",
     "iopub.status.busy": "2022-03-03T22:08:43.772027Z",
     "iopub.status.idle": "2022-03-03T22:08:43.789582Z",
     "shell.execute_reply": "2022-03-03T22:08:43.789151Z"
    }
   },
   "outputs": [],
   "source": [
    "# Generate Training Data\n",
    "samp_size = 2000\n",
    "train = prox_data(samp_size=samp_size, add_noise=True).gen_Y(linearity=linearity, Xonly = Xonly)"
   ]
  },
  {
   "cell_type": "code",
   "execution_count": 7,
   "metadata": {
    "execution": {
     "iopub.execute_input": "2022-03-03T22:08:43.799946Z",
     "iopub.status.busy": "2022-03-03T22:08:43.799494Z",
     "iopub.status.idle": "2022-03-03T22:11:32.681075Z",
     "shell.execute_reply": "2022-03-03T22:11:32.681395Z"
    }
   },
   "outputs": [
    {
     "name": "stdout",
     "output_type": "stream",
     "text": [
      "d1_XZ\n",
      "rho:  [4.       2.       1.       0.5      0.25     0.125    0.0625   0.03125\n",
      " 0.015625]\n",
      "value:  [5.8950567 5.8950567 5.8982506 6.0638638 6.214181  6.2500772 6.2598104\n",
      " 6.265973  6.268476 ]\n",
      "rho_best: 0.015625\n",
      "d2_XW\n",
      "rho:  [4.       2.       1.       0.5      0.25     0.125    0.0625   0.03125\n",
      " 0.015625]\n",
      "value:  [5.88093571 5.88093571 5.88093571 5.88093571 5.88093571 5.92091311\n",
      " 6.14882555 6.11784587 6.21730574]\n",
      "rho_best: 0.015625\n",
      "d_DR\n",
      "rho:  [4.       2.       1.       0.5      0.25     0.125    0.0625   0.03125\n",
      " 0.015625]\n",
      "value:  [5.85533191 5.85533191 5.85533191 5.92025939 6.00078612 6.11854926\n",
      " 6.17626463 6.27231556 6.28126817]\n",
      "rho_best: 0.015625\n",
      "d1_X\n",
      "rho:  [4.       2.       1.       0.5      0.25     0.125    0.0625   0.03125\n",
      " 0.015625]\n",
      "value:  [5.8950567 5.8950567 5.8982506 6.0592422 6.2125154 6.2487807 6.260869\n",
      " 6.267933  6.268437 ]\n",
      "rho_best: 0.015625\n",
      "d2_X\n",
      "rho:  [4.       2.       1.       0.5      0.25     0.125    0.0625   0.03125\n",
      " 0.015625]\n",
      "value:  [5.88093571 5.88093571 5.88093571 5.88093571 5.88093571 5.91909549\n",
      " 6.08265599 6.13724333 6.24375563]\n",
      "rho_best: 0.015625\n"
     ]
    }
   ],
   "source": [
    "# Learn ITRs\n",
    "rhos = np.power(2.,-np.arange(-2,7))\n",
    "proxy = proxITR(A=train[[\"A\"]], X=train[[\"X0\",\"X1\",\"X2\",\"X3\",\"X4\",\"X5\",\"X6\",\"X7\",\"X8\",\"X9\"]], Z=train[[\"Z\"]], W=train[[\"W\"]], Y=train[[\"Y\"]], \n",
    "                                learning_rate= 0.1, n_epoch=2000, opt='LBFGS', verbose=True)\n",
    "d1_XZ = proxy.fit_d1_XZ_cv(gamma_f='auto', n_gamma_hs=10, \n",
    "        alpha_scales=[c for c in np.geomspace(0.5, 1e5, 20)],\n",
    "        linearity=linearity, n_components=int(2*np.sqrt(samp_size)), rhos = rhos)\n",
    "p_d1_XZ = d1_XZ(test[[\"X0\",\"X1\",\"X2\",\"X3\",\"X4\",\"X5\",\"X6\",\"X7\",\"X8\",\"X9\",\"Z\"]])\n",
    "\n",
    "d2_XW = proxy.fit_d2_XW_cv(gamma_f='auto', n_gamma_hs=10, \n",
    "        alpha_scales=[c for c in np.geomspace(0.1, 1e3, 20)],\n",
    "        linearity=linearity, n_components=int(2*np.sqrt(samp_size)), rhos = rhos)\n",
    "p_d2_XW = d2_XW(test[[\"X0\",\"X1\",\"X2\",\"X3\",\"X4\",\"X5\",\"X6\",\"X7\",\"X8\",\"X9\",\"W\"]])\n",
    "\n",
    "d_DR  = proxy.fit_d_DR_cv(gamma_f='auto', n_gamma_hs=10, \n",
    "        h_alpha_scales=[c for c in np.geomspace(0.5, 1e5, 20)],\n",
    "        q_alpha_scales=[c for c in np.geomspace(0.1, 1e3, 20)],\n",
    "        linearity=linearity, n_components=int(2*np.sqrt(samp_size)), rhos = rhos, learning_rate=1e-2)\n",
    "p_d_DR  = d_DR(test[[\"X0\",\"X1\",\"X2\",\"X3\",\"X4\",\"X5\",\"X6\",\"X7\",\"X8\",\"X9\"]])\n",
    "\n",
    "d1_X  = proxy.fit_d1_X_cv(gamma_f='auto', n_gamma_hs=10, \n",
    "        alpha_scales=[c for c in np.geomspace(0.5, 1e5, 20)],\n",
    "        linearity=linearity, n_components=int(2*np.sqrt(samp_size)), rhos = rhos)\n",
    "p_d1_X  = d1_X(test[[\"X0\",\"X1\",\"X2\",\"X3\",\"X4\",\"X5\",\"X6\",\"X7\",\"X8\",\"X9\"]])\n",
    "\n",
    "d2_X  = proxy.fit_d2_X_cv(gamma_f='auto', n_gamma_hs=10, \n",
    "        alpha_scales=[c for c in np.geomspace(0.1, 1e3, 20)],\n",
    "        linearity=linearity, n_components=int(2*np.sqrt(samp_size)), rhos = rhos)\n",
    "p_d2_X  = d2_X(test[[\"X0\",\"X1\",\"X2\",\"X3\",\"X4\",\"X5\",\"X6\",\"X7\",\"X8\",\"X9\"]])"
   ]
  },
  {
   "cell_type": "code",
   "execution_count": 8,
   "metadata": {
    "execution": {
     "iopub.execute_input": "2022-03-03T22:11:32.695857Z",
     "iopub.status.busy": "2022-03-03T22:11:32.695433Z",
     "iopub.status.idle": "2022-03-03T22:11:32.865758Z",
     "shell.execute_reply": "2022-03-03T22:11:32.866192Z"
    }
   },
   "outputs": [
    {
     "data": {
      "text/html": [
       "<div>\n",
       "<style scoped>\n",
       "    .dataframe tbody tr th:only-of-type {\n",
       "        vertical-align: middle;\n",
       "    }\n",
       "\n",
       "    .dataframe tbody tr th {\n",
       "        vertical-align: top;\n",
       "    }\n",
       "\n",
       "    .dataframe thead th {\n",
       "        text-align: right;\n",
       "    }\n",
       "</style>\n",
       "<table border=\"1\" class=\"dataframe\">\n",
       "  <thead>\n",
       "    <tr style=\"text-align: right;\">\n",
       "      <th></th>\n",
       "      <th>method</th>\n",
       "      <th>value</th>\n",
       "    </tr>\n",
       "  </thead>\n",
       "  <tbody>\n",
       "    <tr>\n",
       "      <th>0</th>\n",
       "      <td>d1_XZ</td>\n",
       "      <td>6.141538</td>\n",
       "    </tr>\n",
       "    <tr>\n",
       "      <th>1</th>\n",
       "      <td>d2_XW</td>\n",
       "      <td>6.190247</td>\n",
       "    </tr>\n",
       "    <tr>\n",
       "      <th>2</th>\n",
       "      <td>d4</td>\n",
       "      <td>6.141538</td>\n",
       "    </tr>\n",
       "    <tr>\n",
       "      <th>3</th>\n",
       "      <td>d_DR</td>\n",
       "      <td>6.192596</td>\n",
       "    </tr>\n",
       "    <tr>\n",
       "      <th>4</th>\n",
       "      <td>d1_X</td>\n",
       "      <td>6.166584</td>\n",
       "    </tr>\n",
       "    <tr>\n",
       "      <th>5</th>\n",
       "      <td>d2_X</td>\n",
       "      <td>6.193099</td>\n",
       "    </tr>\n",
       "  </tbody>\n",
       "</table>\n",
       "</div>"
      ],
      "text/plain": [
       "  method     value\n",
       "0  d1_XZ  6.141538\n",
       "1  d2_XW  6.190247\n",
       "2     d4  6.141538\n",
       "3   d_DR  6.192596\n",
       "4   d1_X  6.166584\n",
       "5   d2_X  6.193099"
      ]
     },
     "execution_count": 8,
     "metadata": {},
     "output_type": "execute_result"
    }
   ],
   "source": [
    "# Calculate Value\n",
    "v_d1_XZ = value_fun(p_d1_XZ,test[[\"A\"]],test[[\"Y\"]],test[[\"X0\",\"X1\"]],test[[\"U\"]])\n",
    "v_d2_XW = value_fun(p_d2_XW,test[[\"A\"]],test[[\"Y\"]],test[[\"X0\",\"X1\"]],test[[\"U\"]])\n",
    "v_d_DR  = value_fun(p_d_DR, test[[\"A\"]],test[[\"Y\"]],test[[\"X0\",\"X1\"]],test[[\"U\"]])\n",
    "v_d1_X  = value_fun(p_d1_X, test[[\"A\"]],test[[\"Y\"]],test[[\"X0\",\"X1\"]],test[[\"U\"]])\n",
    "v_d2_X  = value_fun(p_d2_X, test[[\"A\"]],test[[\"Y\"]],test[[\"X0\",\"X1\"]],test[[\"U\"]])\n",
    "if proxy.cv_d1_XZ > proxy.cv_d2_XW:\n",
    "    v_d4 = v_d1_XZ\n",
    "else:\n",
    "    v_d4 = v_d2_XW\n",
    "# Table of values\n",
    "pd.DataFrame.from_dict({'method':['d1_XZ','d2_XW','d4','d_DR','d1_X','d2_X'],\n",
    "                        'value':[v_d1_XZ,v_d2_XW,v_d4,v_d_DR,v_d1_X,v_d2_X]})"
   ]
  },
  {
   "cell_type": "markdown",
   "metadata": {},
   "source": [
    "### Confidence interval of $V(d_3^*)$"
   ]
  },
  {
   "cell_type": "code",
   "execution_count": 9,
   "metadata": {
    "execution": {
     "iopub.execute_input": "2022-03-03T22:11:32.877288Z",
     "iopub.status.busy": "2022-03-03T22:11:32.876842Z",
     "iopub.status.idle": "2022-03-03T22:11:41.521883Z",
     "shell.execute_reply": "2022-03-03T22:11:41.522201Z"
    }
   },
   "outputs": [
    {
     "data": {
      "text/plain": [
       "(6.038944169219989, 6.655130044635315)"
      ]
     },
     "execution_count": 9,
     "metadata": {},
     "output_type": "execute_result"
    }
   ],
   "source": [
    "proxy = proxITR(A=train[[\"A\"]], X=train[[\"X0\",\"X1\",\"X2\",\"X3\",\"X4\",\"X5\",\"X6\",\"X7\",\"X8\",\"X9\"]], Z=train[[\"Z\"]], W=train[[\"W\"]], Y=train[[\"Y\"]], \n",
    "                god=True, d_X_opt = train[[\"GOR_X\"]])\n",
    "CI = proxy.eif_CI(gamma_f='auto', n_gamma_hs=10, n_alphas=20,\n",
    "            h_alpha_scales=[c for c in np.geomspace(0.5, 1e5, 20)],\n",
    "            q_alpha_scales=[c for c in np.geomspace(0.1, 1e3, 20)],\n",
    "            n_components=int(2*np.sqrt(samp_size)))\n",
    "CI"
   ]
  },
  {
   "cell_type": "code",
   "execution_count": 10,
   "metadata": {},
   "outputs": [
    {
     "data": {
      "text/plain": [
       "6.250627821379017"
      ]
     },
     "execution_count": 10,
     "metadata": {},
     "output_type": "execute_result"
    }
   ],
   "source": [
    "# V(d_3^*)\n",
    "value_fun(test[[\"GOR_X\"]].to_numpy(int).reshape(-1), test[[\"A\"]],test[[\"Y\"]],test[[\"X0\",\"X1\"]],test[[\"U\"]])"
   ]
  },
  {
   "cell_type": "markdown",
   "metadata": {},
   "source": [
    "### Scenario L2"
   ]
  },
  {
   "cell_type": "code",
   "execution_count": 11,
   "metadata": {
    "execution": {
     "iopub.execute_input": "2022-03-03T22:11:41.529698Z",
     "iopub.status.busy": "2022-03-03T22:11:41.529330Z",
     "iopub.status.idle": "2022-03-03T22:11:41.531397Z",
     "shell.execute_reply": "2022-03-03T22:11:41.531018Z"
    }
   },
   "outputs": [],
   "source": [
    "# Setting\n",
    "linearity    = 'linear'\n",
    "Xonly        = 'X'"
   ]
  },
  {
   "cell_type": "code",
   "execution_count": 12,
   "metadata": {
    "execution": {
     "iopub.execute_input": "2022-03-03T22:11:41.540718Z",
     "iopub.status.busy": "2022-03-03T22:11:41.540356Z",
     "iopub.status.idle": "2022-03-03T22:11:41.982227Z",
     "shell.execute_reply": "2022-03-03T22:11:41.981754Z"
    }
   },
   "outputs": [
    {
     "data": {
      "text/plain": [
       "6.20088632242159"
      ]
     },
     "execution_count": 12,
     "metadata": {},
     "output_type": "execute_result"
    }
   ],
   "source": [
    "# Generate Test Data\n",
    "test = prox_data(500000, add_noise=False).gen_Y(linearity=linearity, Xonly = Xonly)\n",
    "value_fun(test[[\"GOR\"]].to_numpy(int).reshape(-1), test[[\"A\"]],test[[\"Y\"]],test[[\"X0\",\"X1\"]],test[[\"U\"]])"
   ]
  },
  {
   "cell_type": "code",
   "execution_count": 13,
   "metadata": {
    "execution": {
     "iopub.execute_input": "2022-03-03T22:11:41.991723Z",
     "iopub.status.busy": "2022-03-03T22:11:41.991303Z",
     "iopub.status.idle": "2022-03-03T22:11:41.995028Z",
     "shell.execute_reply": "2022-03-03T22:11:41.994585Z"
    }
   },
   "outputs": [],
   "source": [
    "# Generate Training Data\n",
    "samp_size = 2000\n",
    "train = prox_data(samp_size=samp_size, add_noise=True).gen_Y(linearity=linearity, Xonly = Xonly)"
   ]
  },
  {
   "cell_type": "code",
   "execution_count": 14,
   "metadata": {
    "execution": {
     "iopub.execute_input": "2022-03-03T22:11:42.002228Z",
     "iopub.status.busy": "2022-03-03T22:11:42.001777Z",
     "iopub.status.idle": "2022-03-03T22:12:45.807120Z",
     "shell.execute_reply": "2022-03-03T22:12:45.807660Z"
    }
   },
   "outputs": [
    {
     "name": "stdout",
     "output_type": "stream",
     "text": [
      "d1_XZ\n",
      "rho:  [4.       2.       1.       0.5      0.25     0.125    0.0625   0.03125\n",
      " 0.015625]\n",
      "value:  [5.6966805 5.6966805 6.0558143 6.2464986 6.27661   6.289986  6.2930045\n",
      " 6.295498  6.2933207]\n",
      "rho_best: 0.03125\n",
      "d2_XW\n",
      "rho:  [4.       2.       1.       0.5      0.25     0.125    0.0625   0.03125\n",
      " 0.015625]\n",
      "value:  [5.65959646 5.65959646 5.65959646 5.65959646 5.73920416 6.30154632\n",
      " 6.35389729 6.35663714 6.31120067]\n",
      "rho_best: 0.03125\n",
      "d_DR\n",
      "rho:  [4.       2.       1.       0.5      0.25     0.125    0.0625   0.03125\n",
      " 0.015625]\n",
      "value:  [5.63420332 5.63420332 5.68668403 6.05202427 6.23720298 6.23442043\n",
      " 6.23839025 6.18523893 6.16570121]\n",
      "rho_best: 0.0625\n",
      "d1_X\n",
      "rho:  [4.       2.       1.       0.5      0.25     0.125    0.0625   0.03125\n",
      " 0.015625]\n",
      "value:  [5.6966805 5.6966805 6.0571995 6.2471647 6.2707496 6.2821198 6.2907686\n",
      " 6.291161  6.295474 ]\n",
      "rho_best: 0.015625\n",
      "d2_X\n",
      "rho:  [4.       2.       1.       0.5      0.25     0.125    0.0625   0.03125\n",
      " 0.015625]\n",
      "value:  [5.65959646 5.65959646 5.65959646 5.65959646 5.72126107 6.31192606\n",
      " 6.38455748 6.32959802 6.2540036 ]\n",
      "rho_best: 0.0625\n"
     ]
    }
   ],
   "source": [
    "# Learn ITRs\n",
    "rhos = np.power(2.,-np.arange(-2,7))\n",
    "proxy = proxITR(A=train[[\"A\"]], X=train[[\"X0\",\"X1\",\"X2\",\"X3\",\"X4\",\"X5\",\"X6\",\"X7\",\"X8\",\"X9\"]], Z=train[[\"Z\"]], W=train[[\"W\"]], Y=train[[\"Y\"]], \n",
    "                                learning_rate= 0.1, n_epoch=2000, opt='LBFGS', verbose=True)\n",
    "d1_XZ = proxy.fit_d1_XZ_cv(gamma_f='auto', n_gamma_hs=10, \n",
    "        alpha_scales=[c for c in np.geomspace(0.5, 1e5, 20)],\n",
    "        linearity=linearity, n_components=int(2*np.sqrt(samp_size)), rhos = rhos)\n",
    "p_d1_XZ = d1_XZ(test[[\"X0\",\"X1\",\"X2\",\"X3\",\"X4\",\"X5\",\"X6\",\"X7\",\"X8\",\"X9\",\"Z\"]])\n",
    "\n",
    "d2_XW = proxy.fit_d2_XW_cv(gamma_f='auto', n_gamma_hs=10, \n",
    "        alpha_scales=[c for c in np.geomspace(0.1, 1e3, 20)],\n",
    "        linearity=linearity, n_components=int(2*np.sqrt(samp_size)), rhos = rhos)\n",
    "p_d2_XW = d2_XW(test[[\"X0\",\"X1\",\"X2\",\"X3\",\"X4\",\"X5\",\"X6\",\"X7\",\"X8\",\"X9\",\"W\"]])\n",
    "\n",
    "d_DR  = proxy.fit_d_DR_cv(gamma_f='auto', n_gamma_hs=10, \n",
    "        h_alpha_scales=[c for c in np.geomspace(0.5, 1e5, 20)],\n",
    "        q_alpha_scales=[c for c in np.geomspace(0.1, 1e3, 20)],\n",
    "        linearity=linearity, n_components=int(2*np.sqrt(samp_size)), rhos = rhos, learning_rate=1e-2)\n",
    "p_d_DR  = d_DR(test[[\"X0\",\"X1\",\"X2\",\"X3\",\"X4\",\"X5\",\"X6\",\"X7\",\"X8\",\"X9\"]])\n",
    "\n",
    "d1_X  = proxy.fit_d1_X_cv(gamma_f='auto', n_gamma_hs=10, \n",
    "        alpha_scales=[c for c in np.geomspace(0.5, 1e5, 20)],\n",
    "        linearity=linearity, n_components=int(2*np.sqrt(samp_size)), rhos = rhos)\n",
    "p_d1_X  = d1_X(test[[\"X0\",\"X1\",\"X2\",\"X3\",\"X4\",\"X5\",\"X6\",\"X7\",\"X8\",\"X9\"]])\n",
    "\n",
    "d2_X  = proxy.fit_d2_X_cv(gamma_f='auto', n_gamma_hs=10, \n",
    "        alpha_scales=[c for c in np.geomspace(0.1, 1e3, 20)],\n",
    "        linearity=linearity, n_components=int(2*np.sqrt(samp_size)), rhos = rhos)\n",
    "p_d2_X  = d2_X(test[[\"X0\",\"X1\",\"X2\",\"X3\",\"X4\",\"X5\",\"X6\",\"X7\",\"X8\",\"X9\"]])"
   ]
  },
  {
   "cell_type": "code",
   "execution_count": 15,
   "metadata": {
    "execution": {
     "iopub.execute_input": "2022-03-03T22:12:45.829988Z",
     "iopub.status.busy": "2022-03-03T22:12:45.829568Z",
     "iopub.status.idle": "2022-03-03T22:12:45.923590Z",
     "shell.execute_reply": "2022-03-03T22:12:45.923201Z"
    }
   },
   "outputs": [
    {
     "data": {
      "text/html": [
       "<div>\n",
       "<style scoped>\n",
       "    .dataframe tbody tr th:only-of-type {\n",
       "        vertical-align: middle;\n",
       "    }\n",
       "\n",
       "    .dataframe tbody tr th {\n",
       "        vertical-align: top;\n",
       "    }\n",
       "\n",
       "    .dataframe thead th {\n",
       "        text-align: right;\n",
       "    }\n",
       "</style>\n",
       "<table border=\"1\" class=\"dataframe\">\n",
       "  <thead>\n",
       "    <tr style=\"text-align: right;\">\n",
       "      <th></th>\n",
       "      <th>method</th>\n",
       "      <th>value</th>\n",
       "    </tr>\n",
       "  </thead>\n",
       "  <tbody>\n",
       "    <tr>\n",
       "      <th>0</th>\n",
       "      <td>d1_XZ</td>\n",
       "      <td>6.141174</td>\n",
       "    </tr>\n",
       "    <tr>\n",
       "      <th>1</th>\n",
       "      <td>d2_XW</td>\n",
       "      <td>6.178980</td>\n",
       "    </tr>\n",
       "    <tr>\n",
       "      <th>2</th>\n",
       "      <td>d4</td>\n",
       "      <td>6.178980</td>\n",
       "    </tr>\n",
       "    <tr>\n",
       "      <th>3</th>\n",
       "      <td>d_DR</td>\n",
       "      <td>6.176762</td>\n",
       "    </tr>\n",
       "    <tr>\n",
       "      <th>4</th>\n",
       "      <td>d1_X</td>\n",
       "      <td>6.169085</td>\n",
       "    </tr>\n",
       "    <tr>\n",
       "      <th>5</th>\n",
       "      <td>d2_X</td>\n",
       "      <td>6.186525</td>\n",
       "    </tr>\n",
       "  </tbody>\n",
       "</table>\n",
       "</div>"
      ],
      "text/plain": [
       "  method     value\n",
       "0  d1_XZ  6.141174\n",
       "1  d2_XW  6.178980\n",
       "2     d4  6.178980\n",
       "3   d_DR  6.176762\n",
       "4   d1_X  6.169085\n",
       "5   d2_X  6.186525"
      ]
     },
     "execution_count": 15,
     "metadata": {},
     "output_type": "execute_result"
    }
   ],
   "source": [
    "# Calculate Value\n",
    "v_d1_XZ = value_fun(p_d1_XZ,test[[\"A\"]],test[[\"Y\"]],test[[\"X0\",\"X1\"]],test[[\"U\"]])\n",
    "v_d2_XW = value_fun(p_d2_XW,test[[\"A\"]],test[[\"Y\"]],test[[\"X0\",\"X1\"]],test[[\"U\"]])\n",
    "v_d_DR  = value_fun(p_d_DR, test[[\"A\"]],test[[\"Y\"]],test[[\"X0\",\"X1\"]],test[[\"U\"]])\n",
    "v_d1_X  = value_fun(p_d1_X, test[[\"A\"]],test[[\"Y\"]],test[[\"X0\",\"X1\"]],test[[\"U\"]])\n",
    "v_d2_X  = value_fun(p_d2_X, test[[\"A\"]],test[[\"Y\"]],test[[\"X0\",\"X1\"]],test[[\"U\"]])\n",
    "if proxy.cv_d1_XZ > proxy.cv_d2_XW:\n",
    "    v_d4 = v_d1_XZ\n",
    "else:\n",
    "    v_d4 = v_d2_XW\n",
    "# Table of values\n",
    "pd.DataFrame.from_dict({'method':['d1_XZ','d2_XW','d4','d_DR','d1_X','d2_X'],\n",
    "                        'value':[v_d1_XZ,v_d2_XW,v_d4,v_d_DR,v_d1_X,v_d2_X]})"
   ]
  },
  {
   "cell_type": "markdown",
   "metadata": {},
   "source": [
    "### Confidence interval of $V(d_3^*)$"
   ]
  },
  {
   "cell_type": "code",
   "execution_count": 16,
   "metadata": {
    "execution": {
     "iopub.execute_input": "2022-03-03T22:12:45.942818Z",
     "iopub.status.busy": "2022-03-03T22:12:45.942406Z",
     "iopub.status.idle": "2022-03-03T22:12:55.144178Z",
     "shell.execute_reply": "2022-03-03T22:12:55.143783Z"
    }
   },
   "outputs": [
    {
     "data": {
      "text/plain": [
       "(5.994741351394222, 6.62843162090164)"
      ]
     },
     "execution_count": 16,
     "metadata": {},
     "output_type": "execute_result"
    }
   ],
   "source": [
    "proxy = proxITR(A=train[[\"A\"]], X=train[[\"X0\",\"X1\",\"X2\",\"X3\",\"X4\",\"X5\",\"X6\",\"X7\",\"X8\",\"X9\"]], Z=train[[\"Z\"]], W=train[[\"W\"]], Y=train[[\"Y\"]], \n",
    "                god=True, d_X_opt = train[[\"GOR_X\"]])\n",
    "CI = proxy.eif_CI(gamma_f='auto', n_gamma_hs=10, n_alphas=20,\n",
    "            h_alpha_scales=[c for c in np.geomspace(0.5, 1e5, 20)],\n",
    "            q_alpha_scales=[c for c in np.geomspace(0.1, 1e3, 20)],\n",
    "            n_components=int(2*np.sqrt(samp_size)))\n",
    "CI"
   ]
  },
  {
   "cell_type": "code",
   "execution_count": 17,
   "metadata": {},
   "outputs": [
    {
     "data": {
      "text/plain": [
       "6.20088632242159"
      ]
     },
     "execution_count": 17,
     "metadata": {},
     "output_type": "execute_result"
    }
   ],
   "source": [
    "# V(d_3^*)\n",
    "value_fun(test[[\"GOR_X\"]].to_numpy(int).reshape(-1), test[[\"A\"]],test[[\"Y\"]],test[[\"X0\",\"X1\"]],test[[\"U\"]])"
   ]
  },
  {
   "cell_type": "markdown",
   "metadata": {},
   "source": [
    "### Scenario N1"
   ]
  },
  {
   "cell_type": "code",
   "execution_count": 18,
   "metadata": {
    "execution": {
     "iopub.execute_input": "2022-03-03T22:12:55.147539Z",
     "iopub.status.busy": "2022-03-03T22:12:55.147112Z",
     "iopub.status.idle": "2022-03-03T22:12:55.150059Z",
     "shell.execute_reply": "2022-03-03T22:12:55.149688Z"
    }
   },
   "outputs": [],
   "source": [
    "# Setting\n",
    "linearity    = 'nonlinear'\n",
    "Xonly        = 'XW'"
   ]
  },
  {
   "cell_type": "code",
   "execution_count": 19,
   "metadata": {
    "execution": {
     "iopub.execute_input": "2022-03-03T22:12:55.173572Z",
     "iopub.status.busy": "2022-03-03T22:12:55.173201Z",
     "iopub.status.idle": "2022-03-03T22:12:55.642980Z",
     "shell.execute_reply": "2022-03-03T22:12:55.642636Z"
    }
   },
   "outputs": [
    {
     "data": {
      "text/plain": [
       "4.876093221934032"
      ]
     },
     "execution_count": 19,
     "metadata": {},
     "output_type": "execute_result"
    }
   ],
   "source": [
    "# Generate Test Data\n",
    "test = prox_data(500000, add_noise=False).gen_Y(linearity=linearity, Xonly = Xonly)\n",
    "value_fun(test[[\"GOR\"]].to_numpy(int).reshape(-1), test[[\"A\"]],test[[\"Y\"]],test[[\"X0\",\"X1\"]],test[[\"U\"]])"
   ]
  },
  {
   "cell_type": "code",
   "execution_count": 20,
   "metadata": {
    "execution": {
     "iopub.execute_input": "2022-03-03T22:12:55.654277Z",
     "iopub.status.busy": "2022-03-03T22:12:55.653893Z",
     "iopub.status.idle": "2022-03-03T22:12:55.656643Z",
     "shell.execute_reply": "2022-03-03T22:12:55.656332Z"
    }
   },
   "outputs": [],
   "source": [
    "# Generate Training Data\n",
    "samp_size = 2000\n",
    "train = prox_data(samp_size=samp_size, add_noise=True).gen_Y(linearity=linearity, Xonly = Xonly)"
   ]
  },
  {
   "cell_type": "code",
   "execution_count": 21,
   "metadata": {
    "execution": {
     "iopub.execute_input": "2022-03-03T22:12:55.673325Z",
     "iopub.status.busy": "2022-03-03T22:12:55.672922Z",
     "iopub.status.idle": "2022-03-03T22:14:03.308404Z",
     "shell.execute_reply": "2022-03-03T22:14:03.308748Z"
    }
   },
   "outputs": [
    {
     "name": "stdout",
     "output_type": "stream",
     "text": [
      "d1_XZ\n",
      "rho:  [2.        1.        0.5       0.25      0.125     0.0625    0.03125\n",
      " 0.015625  0.0078125]\n",
      "value:  [4.3217807 4.3391037 4.3159766 4.341706  4.299367  4.3182373 4.3171363\n",
      " 4.3207674 4.327513 ]\n",
      "rho_best: 0.25\n",
      "d2_XW\n",
      "rho:  [2.        1.        0.5       0.25      0.125     0.0625    0.03125\n",
      " 0.015625  0.0078125]\n",
      "value:  [4.28515094 4.36394815 4.29866017 4.27876023 4.31009891 4.29415606\n",
      " 4.35037879 4.3395206  4.27715377]\n",
      "rho_best: 1.0\n",
      "d_DR\n",
      "rho:  [2.        1.        0.5       0.25      0.125     0.0625    0.03125\n",
      " 0.015625  0.0078125]\n",
      "value:  [4.25853748 4.25794429 4.24830367 4.25164098 4.26545232 4.26577962\n",
      " 4.25913953 4.24787517 4.26064287]\n",
      "rho_best: 0.0625\n",
      "d1_X\n",
      "rho:  [2.        1.        0.5       0.25      0.125     0.0625    0.03125\n",
      " 0.015625  0.0078125]\n",
      "value:  [4.187278  4.2072067 4.225553  4.198153  4.1659217 4.176115  4.193451\n",
      " 4.188915  4.1662683]\n",
      "rho_best: 0.5\n",
      "d2_X\n",
      "rho:  [2.        1.        0.5       0.25      0.125     0.0625    0.03125\n",
      " 0.015625  0.0078125]\n",
      "value:  [4.08955333 4.26148535 4.18742739 4.19937757 4.22443492 4.19607813\n",
      " 4.20274756 4.14728934 4.2154172 ]\n",
      "rho_best: 1.0\n"
     ]
    }
   ],
   "source": [
    "rhos = np.power(2.,-np.arange(-1,8))\n",
    "proxy = proxITR(A=train[[\"A\"]], X=train[[\"X0\",\"X1\",\"X2\",\"X3\",\"X4\",\"X5\",\"X6\",\"X7\",\"X8\",\"X9\"]], Z=train[[\"Z\"]], W=train[[\"W\"]], Y=train[[\"Y\"]], \n",
    "learning_rate=0.1, n_epoch=2000, batch_size=300, opt='SGD', verbose=True)\n",
    "d1_XZ = proxy.fit_d1_XZ_cv(gamma_f='auto', n_gamma_hs=10, \n",
    "        alpha_scales=[c for c in np.geomspace(0.5, 1e5, 20)],\n",
    "        linearity=linearity, n_components=int(2*np.sqrt(samp_size)), rhos = rhos)\n",
    "p_d1_XZ = d1_XZ(test[[\"X0\",\"X1\",\"X2\",\"X3\",\"X4\",\"X5\",\"X6\",\"X7\",\"X8\",\"X9\",\"Z\"]])\n",
    "d2_XW = proxy.fit_d2_XW_cv(gamma_f='auto', n_gamma_hs=10, \n",
    "        alpha_scales=[c for c in np.geomspace(0.1, 1e3, 20)],\n",
    "        linearity=linearity, n_components=int(2*np.sqrt(samp_size)), rhos = rhos)\n",
    "p_d2_XW = d2_XW(test[[\"X0\",\"X1\",\"X2\",\"X3\",\"X4\",\"X5\",\"X6\",\"X7\",\"X8\",\"X9\",\"W\"]])\n",
    "d_DR  = proxy.fit_d_DR_cv(gamma_f='auto', n_gamma_hs=10, \n",
    "        h_alpha_scales=[c for c in np.geomspace(0.5, 1e5, 20)],\n",
    "        q_alpha_scales=[c for c in np.geomspace(0.1, 1e3, 20)],\n",
    "        linearity=linearity, n_components=int(2*np.sqrt(samp_size)), rhos = rhos)\n",
    "p_d_DR  = d_DR(test[[\"X0\",\"X1\",\"X2\",\"X3\",\"X4\",\"X5\",\"X6\",\"X7\",\"X8\",\"X9\"]])\n",
    "d1_X  = proxy.fit_d1_X_cv(gamma_f='auto', n_gamma_hs=10, \n",
    "        alpha_scales=[c for c in np.geomspace(0.5, 1e5, 20)],\n",
    "        linearity=linearity, n_components=int(2*np.sqrt(samp_size)), rhos = rhos)\n",
    "p_d1_X  = d1_X(test[[\"X0\",\"X1\",\"X2\",\"X3\",\"X4\",\"X5\",\"X6\",\"X7\",\"X8\",\"X9\"]])\n",
    "d2_X  = proxy.fit_d2_X_cv(gamma_f='auto', n_gamma_hs=10, \n",
    "        alpha_scales=[c for c in np.geomspace(0.1, 1e3, 20)],\n",
    "        linearity=linearity, n_components=int(2*np.sqrt(samp_size)), rhos = rhos)\n",
    "p_d2_X  = d2_X(test[[\"X0\",\"X1\",\"X2\",\"X3\",\"X4\",\"X5\",\"X6\",\"X7\",\"X8\",\"X9\"]])"
   ]
  },
  {
   "cell_type": "code",
   "execution_count": 22,
   "metadata": {
    "execution": {
     "iopub.execute_input": "2022-03-03T22:14:03.329938Z",
     "iopub.status.busy": "2022-03-03T22:14:03.329546Z",
     "iopub.status.idle": "2022-03-03T22:14:03.412512Z",
     "shell.execute_reply": "2022-03-03T22:14:03.412903Z"
    }
   },
   "outputs": [
    {
     "data": {
      "text/html": [
       "<div>\n",
       "<style scoped>\n",
       "    .dataframe tbody tr th:only-of-type {\n",
       "        vertical-align: middle;\n",
       "    }\n",
       "\n",
       "    .dataframe tbody tr th {\n",
       "        vertical-align: top;\n",
       "    }\n",
       "\n",
       "    .dataframe thead th {\n",
       "        text-align: right;\n",
       "    }\n",
       "</style>\n",
       "<table border=\"1\" class=\"dataframe\">\n",
       "  <thead>\n",
       "    <tr style=\"text-align: right;\">\n",
       "      <th></th>\n",
       "      <th>method</th>\n",
       "      <th>value</th>\n",
       "    </tr>\n",
       "  </thead>\n",
       "  <tbody>\n",
       "    <tr>\n",
       "      <th>0</th>\n",
       "      <td>d1_XZ</td>\n",
       "      <td>4.306270</td>\n",
       "    </tr>\n",
       "    <tr>\n",
       "      <th>1</th>\n",
       "      <td>d2_XW</td>\n",
       "      <td>4.413050</td>\n",
       "    </tr>\n",
       "    <tr>\n",
       "      <th>2</th>\n",
       "      <td>d4</td>\n",
       "      <td>4.413050</td>\n",
       "    </tr>\n",
       "    <tr>\n",
       "      <th>3</th>\n",
       "      <td>d_DR</td>\n",
       "      <td>4.212884</td>\n",
       "    </tr>\n",
       "    <tr>\n",
       "      <th>4</th>\n",
       "      <td>d1_X</td>\n",
       "      <td>4.207721</td>\n",
       "    </tr>\n",
       "    <tr>\n",
       "      <th>5</th>\n",
       "      <td>d2_X</td>\n",
       "      <td>4.193253</td>\n",
       "    </tr>\n",
       "  </tbody>\n",
       "</table>\n",
       "</div>"
      ],
      "text/plain": [
       "  method     value\n",
       "0  d1_XZ  4.306270\n",
       "1  d2_XW  4.413050\n",
       "2     d4  4.413050\n",
       "3   d_DR  4.212884\n",
       "4   d1_X  4.207721\n",
       "5   d2_X  4.193253"
      ]
     },
     "execution_count": 22,
     "metadata": {},
     "output_type": "execute_result"
    }
   ],
   "source": [
    "# Calculate Value\n",
    "v_d1_XZ = value_fun(p_d1_XZ,test[[\"A\"]],test[[\"Y\"]],test[[\"X0\",\"X1\"]],test[[\"U\"]])\n",
    "v_d2_XW = value_fun(p_d2_XW,test[[\"A\"]],test[[\"Y\"]],test[[\"X0\",\"X1\"]],test[[\"U\"]])\n",
    "v_d_DR  = value_fun(p_d_DR, test[[\"A\"]],test[[\"Y\"]],test[[\"X0\",\"X1\"]],test[[\"U\"]])\n",
    "v_d1_X  = value_fun(p_d1_X, test[[\"A\"]],test[[\"Y\"]],test[[\"X0\",\"X1\"]],test[[\"U\"]])\n",
    "v_d2_X  = value_fun(p_d2_X, test[[\"A\"]],test[[\"Y\"]],test[[\"X0\",\"X1\"]],test[[\"U\"]])\n",
    "if proxy.cv_d1_XZ > proxy.cv_d2_XW:\n",
    "    v_d4 = v_d1_XZ\n",
    "else:\n",
    "    v_d4 = v_d2_XW\n",
    "# Table of values\n",
    "pd.DataFrame.from_dict({'method':['d1_XZ','d2_XW','d4','d_DR','d1_X','d2_X'],\n",
    "                        'value':[v_d1_XZ,v_d2_XW,v_d4,v_d_DR,v_d1_X,v_d2_X]})"
   ]
  },
  {
   "cell_type": "markdown",
   "metadata": {},
   "source": [
    "### Confidence interval of $V(d_3^*)$"
   ]
  },
  {
   "cell_type": "code",
   "execution_count": 23,
   "metadata": {
    "execution": {
     "iopub.execute_input": "2022-03-03T22:14:03.420378Z",
     "iopub.status.busy": "2022-03-03T22:14:03.420003Z",
     "iopub.status.idle": "2022-03-03T22:14:11.977564Z",
     "shell.execute_reply": "2022-03-03T22:14:11.977157Z"
    }
   },
   "outputs": [
    {
     "data": {
      "text/plain": [
       "(4.120200116546298, 4.450948111696376)"
      ]
     },
     "execution_count": 23,
     "metadata": {},
     "output_type": "execute_result"
    }
   ],
   "source": [
    "proxy = proxITR(A=train[[\"A\"]], X=train[[\"X0\",\"X1\",\"X2\",\"X3\",\"X4\",\"X5\",\"X6\",\"X7\",\"X8\",\"X9\"]], Z=train[[\"Z\"]], W=train[[\"W\"]], Y=train[[\"Y\"]], \n",
    "                god=True, d_X_opt = train[[\"GOR_X\"]])\n",
    "CI = proxy.eif_CI(gamma_f='auto', n_gamma_hs=10, n_alphas=20,\n",
    "            h_alpha_scales=[c for c in np.geomspace(0.5, 1e5, 20)],\n",
    "            q_alpha_scales=[c for c in np.geomspace(0.1, 1e3, 20)],\n",
    "            n_components=int(2*np.sqrt(samp_size)))\n",
    "CI"
   ]
  },
  {
   "cell_type": "code",
   "execution_count": 24,
   "metadata": {},
   "outputs": [
    {
     "data": {
      "text/plain": [
       "4.24388460433744"
      ]
     },
     "execution_count": 24,
     "metadata": {},
     "output_type": "execute_result"
    }
   ],
   "source": [
    "# V(d_3^*)\n",
    "value_fun(test[[\"GOR_X\"]].to_numpy(int).reshape(-1), test[[\"A\"]],test[[\"Y\"]],test[[\"X0\",\"X1\"]],test[[\"U\"]])"
   ]
  },
  {
   "cell_type": "markdown",
   "metadata": {},
   "source": [
    "### Scenario N2"
   ]
  },
  {
   "cell_type": "code",
   "execution_count": 25,
   "metadata": {
    "execution": {
     "iopub.execute_input": "2022-03-03T22:14:11.980525Z",
     "iopub.status.busy": "2022-03-03T22:14:11.980160Z",
     "iopub.status.idle": "2022-03-03T22:14:11.981924Z",
     "shell.execute_reply": "2022-03-03T22:14:11.981608Z"
    }
   },
   "outputs": [],
   "source": [
    "# Setting\n",
    "linearity    = 'nonlinear'\n",
    "Xonly        = 'X'"
   ]
  },
  {
   "cell_type": "code",
   "execution_count": 26,
   "metadata": {
    "execution": {
     "iopub.execute_input": "2022-03-03T22:14:11.993705Z",
     "iopub.status.busy": "2022-03-03T22:14:11.993342Z",
     "iopub.status.idle": "2022-03-03T22:14:12.422105Z",
     "shell.execute_reply": "2022-03-03T22:14:12.421721Z"
    }
   },
   "outputs": [
    {
     "data": {
      "text/plain": [
       "4.594857933479509"
      ]
     },
     "execution_count": 26,
     "metadata": {},
     "output_type": "execute_result"
    }
   ],
   "source": [
    "# Generate Test Data\n",
    "test = prox_data(500000, add_noise=False).gen_Y(linearity=linearity, Xonly = Xonly)\n",
    "value_fun(test[[\"GOR\"]].to_numpy(int).reshape(-1), test[[\"A\"]],test[[\"Y\"]],test[[\"X0\",\"X1\"]],test[[\"U\"]])"
   ]
  },
  {
   "cell_type": "code",
   "execution_count": 27,
   "metadata": {
    "execution": {
     "iopub.execute_input": "2022-03-03T22:14:12.433152Z",
     "iopub.status.busy": "2022-03-03T22:14:12.432751Z",
     "iopub.status.idle": "2022-03-03T22:14:12.435440Z",
     "shell.execute_reply": "2022-03-03T22:14:12.435128Z"
    }
   },
   "outputs": [],
   "source": [
    "# Generate Training Data\n",
    "samp_size = 2000\n",
    "train = prox_data(samp_size=samp_size, add_noise=True).gen_Y(linearity=linearity, Xonly = Xonly)"
   ]
  },
  {
   "cell_type": "code",
   "execution_count": 28,
   "metadata": {
    "execution": {
     "iopub.execute_input": "2022-03-03T22:14:12.447751Z",
     "iopub.status.busy": "2022-03-03T22:14:12.444408Z",
     "iopub.status.idle": "2022-03-03T22:15:17.168482Z",
     "shell.execute_reply": "2022-03-03T22:15:17.168811Z"
    }
   },
   "outputs": [
    {
     "name": "stdout",
     "output_type": "stream",
     "text": [
      "d1_XZ\n",
      "rho:  [2.        1.        0.5       0.25      0.125     0.0625    0.03125\n",
      " 0.015625  0.0078125]\n",
      "value:  [4.4775558 4.484598  4.486319  4.4849863 4.488392  4.488771  4.4868493\n",
      " 4.4868455 4.487235 ]\n",
      "rho_best: 0.0625\n",
      "d2_XW\n",
      "rho:  [2.        1.        0.5       0.25      0.125     0.0625    0.03125\n",
      " 0.015625  0.0078125]\n",
      "value:  [4.3900914  4.44973586 4.38763282 4.30227377 4.33981581 4.3734924\n",
      " 4.45231745 4.35230872 4.33392341]\n",
      "rho_best: 0.03125\n",
      "d_DR\n",
      "rho:  [2.        1.        0.5       0.25      0.125     0.0625    0.03125\n",
      " 0.015625  0.0078125]\n",
      "value:  [4.40526537 4.48159457 4.47938369 4.48930593 4.48476484 4.51620178\n",
      " 4.4994138  4.45630692 4.49719566]\n",
      "rho_best: 0.0625\n",
      "d1_X\n",
      "rho:  [2.        1.        0.5       0.25      0.125     0.0625    0.03125\n",
      " 0.015625  0.0078125]\n",
      "value:  [4.4709473 4.479787  4.4825077 4.4825945 4.4820294 4.4813094 4.481656\n",
      " 4.4805665 4.4819627]\n",
      "rho_best: 0.25\n",
      "d2_X\n",
      "rho:  [2.        1.        0.5       0.25      0.125     0.0625    0.03125\n",
      " 0.015625  0.0078125]\n",
      "value:  [4.47911602 4.39834424 4.30945946 4.30425794 4.37290275 4.38195641\n",
      " 4.34148403 4.3334587  4.3103861 ]\n",
      "rho_best: 2.0\n"
     ]
    }
   ],
   "source": [
    "rhos = np.power(2.,-np.arange(-1,8))\n",
    "proxy = proxITR(A=train[[\"A\"]], X=train[[\"X0\",\"X1\",\"X2\",\"X3\",\"X4\",\"X5\",\"X6\",\"X7\",\"X8\",\"X9\"]], Z=train[[\"Z\"]], W=train[[\"W\"]], Y=train[[\"Y\"]], \n",
    "learning_rate=0.1, n_epoch=2000, batch_size=300, opt='SGD', verbose=True)\n",
    "d1_XZ = proxy.fit_d1_XZ_cv(gamma_f='auto', n_gamma_hs=10, \n",
    "        alpha_scales=[c for c in np.geomspace(0.5, 1e5, 20)],\n",
    "        linearity=linearity, n_components=int(2*np.sqrt(samp_size)), rhos = rhos)\n",
    "p_d1_XZ = d1_XZ(test[[\"X0\",\"X1\",\"X2\",\"X3\",\"X4\",\"X5\",\"X6\",\"X7\",\"X8\",\"X9\",\"Z\"]])\n",
    "d2_XW = proxy.fit_d2_XW_cv(gamma_f='auto', n_gamma_hs=10, \n",
    "        alpha_scales=[c for c in np.geomspace(0.1, 1e3, 20)],\n",
    "        linearity=linearity, n_components=int(2*np.sqrt(samp_size)), rhos = rhos)\n",
    "p_d2_XW = d2_XW(test[[\"X0\",\"X1\",\"X2\",\"X3\",\"X4\",\"X5\",\"X6\",\"X7\",\"X8\",\"X9\",\"W\"]])\n",
    "d_DR  = proxy.fit_d_DR_cv(gamma_f='auto', n_gamma_hs=10, \n",
    "        h_alpha_scales=[c for c in np.geomspace(0.5, 1e5, 20)],\n",
    "        q_alpha_scales=[c for c in np.geomspace(0.1, 1e3, 20)],\n",
    "        linearity=linearity, n_components=int(2*np.sqrt(samp_size)), rhos = rhos)\n",
    "p_d_DR  = d_DR(test[[\"X0\",\"X1\",\"X2\",\"X3\",\"X4\",\"X5\",\"X6\",\"X7\",\"X8\",\"X9\"]])\n",
    "d1_X  = proxy.fit_d1_X_cv(gamma_f='auto', n_gamma_hs=10, \n",
    "        alpha_scales=[c for c in np.geomspace(0.5, 1e5, 20)],\n",
    "        linearity=linearity, n_components=int(2*np.sqrt(samp_size)), rhos = rhos)\n",
    "p_d1_X  = d1_X(test[[\"X0\",\"X1\",\"X2\",\"X3\",\"X4\",\"X5\",\"X6\",\"X7\",\"X8\",\"X9\"]])\n",
    "d2_X  = proxy.fit_d2_X_cv(gamma_f='auto', n_gamma_hs=10, \n",
    "        alpha_scales=[c for c in np.geomspace(0.1, 1e3, 20)],\n",
    "        linearity=linearity, n_components=int(2*np.sqrt(samp_size)), rhos = rhos)\n",
    "p_d2_X  = d2_X(test[[\"X0\",\"X1\",\"X2\",\"X3\",\"X4\",\"X5\",\"X6\",\"X7\",\"X8\",\"X9\"]])"
   ]
  },
  {
   "cell_type": "code",
   "execution_count": 29,
   "metadata": {
    "execution": {
     "iopub.execute_input": "2022-03-03T22:15:17.181812Z",
     "iopub.status.busy": "2022-03-03T22:15:17.181412Z",
     "iopub.status.idle": "2022-03-03T22:15:17.268908Z",
     "shell.execute_reply": "2022-03-03T22:15:17.269293Z"
    }
   },
   "outputs": [
    {
     "data": {
      "text/html": [
       "<div>\n",
       "<style scoped>\n",
       "    .dataframe tbody tr th:only-of-type {\n",
       "        vertical-align: middle;\n",
       "    }\n",
       "\n",
       "    .dataframe tbody tr th {\n",
       "        vertical-align: top;\n",
       "    }\n",
       "\n",
       "    .dataframe thead th {\n",
       "        text-align: right;\n",
       "    }\n",
       "</style>\n",
       "<table border=\"1\" class=\"dataframe\">\n",
       "  <thead>\n",
       "    <tr style=\"text-align: right;\">\n",
       "      <th></th>\n",
       "      <th>method</th>\n",
       "      <th>value</th>\n",
       "    </tr>\n",
       "  </thead>\n",
       "  <tbody>\n",
       "    <tr>\n",
       "      <th>0</th>\n",
       "      <td>d1_XZ</td>\n",
       "      <td>4.483465</td>\n",
       "    </tr>\n",
       "    <tr>\n",
       "      <th>1</th>\n",
       "      <td>d2_XW</td>\n",
       "      <td>4.494700</td>\n",
       "    </tr>\n",
       "    <tr>\n",
       "      <th>2</th>\n",
       "      <td>d4</td>\n",
       "      <td>4.483465</td>\n",
       "    </tr>\n",
       "    <tr>\n",
       "      <th>3</th>\n",
       "      <td>d_DR</td>\n",
       "      <td>4.530027</td>\n",
       "    </tr>\n",
       "    <tr>\n",
       "      <th>4</th>\n",
       "      <td>d1_X</td>\n",
       "      <td>4.538844</td>\n",
       "    </tr>\n",
       "    <tr>\n",
       "      <th>5</th>\n",
       "      <td>d2_X</td>\n",
       "      <td>4.501892</td>\n",
       "    </tr>\n",
       "  </tbody>\n",
       "</table>\n",
       "</div>"
      ],
      "text/plain": [
       "  method     value\n",
       "0  d1_XZ  4.483465\n",
       "1  d2_XW  4.494700\n",
       "2     d4  4.483465\n",
       "3   d_DR  4.530027\n",
       "4   d1_X  4.538844\n",
       "5   d2_X  4.501892"
      ]
     },
     "execution_count": 29,
     "metadata": {},
     "output_type": "execute_result"
    }
   ],
   "source": [
    "# Calculate Value\n",
    "v_d1_XZ = value_fun(p_d1_XZ,test[[\"A\"]],test[[\"Y\"]],test[[\"X0\",\"X1\"]],test[[\"U\"]])\n",
    "v_d2_XW = value_fun(p_d2_XW,test[[\"A\"]],test[[\"Y\"]],test[[\"X0\",\"X1\"]],test[[\"U\"]])\n",
    "v_d_DR  = value_fun(p_d_DR, test[[\"A\"]],test[[\"Y\"]],test[[\"X0\",\"X1\"]],test[[\"U\"]])\n",
    "v_d1_X  = value_fun(p_d1_X, test[[\"A\"]],test[[\"Y\"]],test[[\"X0\",\"X1\"]],test[[\"U\"]])\n",
    "v_d2_X  = value_fun(p_d2_X, test[[\"A\"]],test[[\"Y\"]],test[[\"X0\",\"X1\"]],test[[\"U\"]])\n",
    "if proxy.cv_d1_XZ > proxy.cv_d2_XW:\n",
    "    v_d4 = v_d1_XZ\n",
    "else:\n",
    "    v_d4 = v_d2_XW\n",
    "# Table of values\n",
    "pd.DataFrame.from_dict({'method':['d1_XZ','d2_XW','d4','d_DR','d1_X','d2_X'],\n",
    "                        'value':[v_d1_XZ,v_d2_XW,v_d4,v_d_DR,v_d1_X,v_d2_X]})"
   ]
  },
  {
   "cell_type": "markdown",
   "metadata": {},
   "source": [
    "### Confidence interval of $V(d_3^*)$"
   ]
  },
  {
   "cell_type": "code",
   "execution_count": 30,
   "metadata": {
    "execution": {
     "iopub.execute_input": "2022-03-03T22:15:17.276692Z",
     "iopub.status.busy": "2022-03-03T22:15:17.276323Z",
     "iopub.status.idle": "2022-03-03T22:15:25.189329Z",
     "shell.execute_reply": "2022-03-03T22:15:25.188999Z"
    }
   },
   "outputs": [
    {
     "data": {
      "text/plain": [
       "(4.285745655923722, 4.665195771756086)"
      ]
     },
     "execution_count": 30,
     "metadata": {},
     "output_type": "execute_result"
    }
   ],
   "source": [
    "proxy = proxITR(A=train[[\"A\"]], X=train[[\"X0\",\"X1\",\"X2\",\"X3\",\"X4\",\"X5\",\"X6\",\"X7\",\"X8\",\"X9\"]], Z=train[[\"Z\"]], W=train[[\"W\"]], Y=train[[\"Y\"]], \n",
    "                god=True, d_X_opt = train[[\"GOR_X\"]])\n",
    "CI = proxy.eif_CI(gamma_f='auto', n_gamma_hs=10, n_alphas=20,\n",
    "            h_alpha_scales=[c for c in np.geomspace(0.5, 1e5, 20)],\n",
    "            q_alpha_scales=[c for c in np.geomspace(0.1, 1e3, 20)],\n",
    "            n_components=int(2*np.sqrt(samp_size)))\n",
    "CI"
   ]
  },
  {
   "cell_type": "code",
   "execution_count": 31,
   "metadata": {},
   "outputs": [
    {
     "data": {
      "text/plain": [
       "4.594857933479509"
      ]
     },
     "execution_count": 31,
     "metadata": {},
     "output_type": "execute_result"
    }
   ],
   "source": [
    "# V(d_3^*)\n",
    "value_fun(test[[\"GOR_X\"]].to_numpy(int).reshape(-1), test[[\"A\"]],test[[\"Y\"]],test[[\"X0\",\"X1\"]],test[[\"U\"]])"
   ]
  }
 ],
 "metadata": {
  "interpreter": {
   "hash": "b9bcd8cdc2bdb7a8887cb358e8d821a141d38f97891772cd8e4ff62edfd37598"
  },
  "kernelspec": {
   "display_name": "Python 3.9.2 64-bit ('proxITR': conda)",
   "language": "python",
   "name": "python3"
  },
  "language_info": {
   "codemirror_mode": {
    "name": "ipython",
    "version": 3
   },
   "file_extension": ".py",
   "mimetype": "text/x-python",
   "name": "python",
   "nbconvert_exporter": "python",
   "pygments_lexer": "ipython3",
   "version": "3.9.9"
  },
  "metadata": {
   "interpreter": {
    "hash": "8194bde729486d9e9ad3e66d209f7a7b7f6ea043ea5bfb0c9c84f6d6d89f5ac9"
   }
  }
 },
 "nbformat": 4,
 "nbformat_minor": 2
}
