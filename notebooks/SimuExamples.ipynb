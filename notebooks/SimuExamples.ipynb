{
 "cells": [
  {
   "cell_type": "code",
   "execution_count": 1,
   "metadata": {
    "execution": {
     "iopub.execute_input": "2022-03-03T22:07:51.628562Z",
     "iopub.status.busy": "2022-03-03T22:07:51.627556Z",
     "iopub.status.idle": "2022-03-03T22:07:51.651208Z",
     "shell.execute_reply": "2022-03-03T22:07:51.652171Z"
    }
   },
   "outputs": [],
   "source": [
    "import warnings\n",
    "warnings.filterwarnings('ignore')\n",
    "import sys\n",
    "# print(sys.executable) #check jupyter kernel\n",
    "import os\n",
    "module_path = os.path.abspath(os.path.join('..'))\n",
    "if module_path not in sys.path:\n",
    "    sys.path.append(module_path)"
   ]
  },
  {
   "cell_type": "code",
   "execution_count": 2,
   "metadata": {
    "execution": {
     "iopub.execute_input": "2022-03-03T22:07:51.659999Z",
     "iopub.status.busy": "2022-03-03T22:07:51.659380Z",
     "iopub.status.idle": "2022-03-03T22:08:41.993748Z",
     "shell.execute_reply": "2022-03-03T22:08:41.992709Z"
    }
   },
   "outputs": [],
   "source": [
    "from data.simu_setting import prox_data\n",
    "from src.proxITR import proxITR\n",
    "import numpy as np\n",
    "import pandas as pd\n",
    "import sklearn\n",
    "from sklearn.model_selection import train_test_split\n",
    "from sklearn.preprocessing import RobustScaler as Scaler\n",
    "from sklearn.kernel_approximation import Nystroem"
   ]
  },
  {
   "cell_type": "markdown",
   "metadata": {},
   "source": [
    "### Value Function"
   ]
  },
  {
   "cell_type": "code",
   "execution_count": 3,
   "metadata": {
    "execution": {
     "iopub.execute_input": "2022-03-03T22:08:42.005781Z",
     "iopub.status.busy": "2022-03-03T22:08:42.004637Z",
     "iopub.status.idle": "2022-03-03T22:08:42.009045Z",
     "shell.execute_reply": "2022-03-03T22:08:42.007987Z"
    }
   },
   "outputs": [],
   "source": [
    "def value_fun(d,A,Y,X,U):\n",
    "    A = A.to_numpy().reshape(-1)\n",
    "    Y = Y.to_numpy().reshape(-1)\n",
    "    U = U.to_numpy().reshape(-1)\n",
    "    X = X.to_numpy()\n",
    "    return np.mean((np.abs((np.sign(A-0.5)-d))<0.5)*Y*(1. + np.exp(np.sign(A-0.5)*(0.09375+X @ [0.1875, 0.1875] -0.25*U))))"
   ]
  },
  {
   "cell_type": "markdown",
   "metadata": {},
   "source": [
    "# Examples for Different Simulation Settings"
   ]
  },
  {
   "cell_type": "markdown",
   "metadata": {},
   "source": [
    "## Scenario L1"
   ]
  },
  {
   "cell_type": "code",
   "execution_count": 4,
   "metadata": {
    "execution": {
     "iopub.execute_input": "2022-03-03T22:08:42.014743Z",
     "iopub.status.busy": "2022-03-03T22:08:42.013882Z",
     "iopub.status.idle": "2022-03-03T22:08:42.017897Z",
     "shell.execute_reply": "2022-03-03T22:08:42.016997Z"
    }
   },
   "outputs": [],
   "source": [
    "# Setting\n",
    "linearity    = 'linear'\n",
    "Xonly        = 'XW'\n",
    "# Selected quantile for dPESS\n",
    "qtl = 0.4"
   ]
  },
  {
   "cell_type": "code",
   "execution_count": 5,
   "metadata": {
    "execution": {
     "iopub.execute_input": "2022-03-03T22:08:42.087334Z",
     "iopub.status.busy": "2022-03-03T22:08:42.086148Z",
     "iopub.status.idle": "2022-03-03T22:08:43.769029Z",
     "shell.execute_reply": "2022-03-03T22:08:43.768620Z"
    }
   },
   "outputs": [
    {
     "data": {
      "text/plain": [
       "6.2625704480648805"
      ]
     },
     "execution_count": 5,
     "metadata": {},
     "output_type": "execute_result"
    }
   ],
   "source": [
    "# Generate Test Data\n",
    "test = prox_data(500000, add_noise=False).gen_Y(linearity=linearity, Xonly = Xonly)\n",
    "value_fun(test[[\"GOR\"]].to_numpy(int).reshape(-1), test[[\"A\"]],test[[\"Y\"]],test[[\"X0\",\"X1\"]],test[[\"U\"]])"
   ]
  },
  {
   "cell_type": "code",
   "execution_count": 6,
   "metadata": {
    "execution": {
     "iopub.execute_input": "2022-03-03T22:08:43.772874Z",
     "iopub.status.busy": "2022-03-03T22:08:43.772027Z",
     "iopub.status.idle": "2022-03-03T22:08:43.789582Z",
     "shell.execute_reply": "2022-03-03T22:08:43.789151Z"
    }
   },
   "outputs": [],
   "source": [
    "# Generate Training Data\n",
    "samp_size = 2000\n",
    "train = prox_data(samp_size=samp_size, add_noise=True).gen_Y(linearity=linearity, Xonly = Xonly)"
   ]
  },
  {
   "cell_type": "markdown",
   "metadata": {},
   "source": [
    "### With 8 noisy variables in $L$"
   ]
  },
  {
   "cell_type": "code",
   "execution_count": 7,
   "metadata": {
    "execution": {
     "iopub.execute_input": "2022-03-03T22:08:43.799946Z",
     "iopub.status.busy": "2022-03-03T22:08:43.799494Z",
     "iopub.status.idle": "2022-03-03T22:11:32.681075Z",
     "shell.execute_reply": "2022-03-03T22:11:32.681395Z"
    }
   },
   "outputs": [
    {
     "name": "stdout",
     "output_type": "stream",
     "text": [
      "d1_XZ\n",
      "rho:  [4.       2.       1.       0.5      0.25     0.125    0.0625   0.03125\n",
      " 0.015625]\n",
      "value:  [5.9514875 5.9514875 5.9514875 6.0924215 6.28064   6.312313  6.3245764\n",
      " 6.32756   6.331319 ]\n",
      "rho_best: 0.015625\n",
      "qtl_best: 6.264737510681153\n",
      "d2_XW\n",
      "rho:  [4.       2.       1.       0.5      0.25     0.125    0.0625   0.03125\n",
      " 0.015625]\n",
      "value:  [5.8791139  5.8791139  5.8791139  5.8791139  5.8791139  5.91107977\n",
      " 6.03214941 6.18337359 6.19809671]\n",
      "rho_best: 0.015625\n",
      "qtl_best: 6.137591316570853\n",
      "d_DR\n",
      "rho:  [4.       2.       1.       0.5      0.25     0.125    0.0625   0.03125\n",
      " 0.015625]\n",
      "value:  [5.92338758 5.92338758 5.92338758 5.92338758 5.95174946 6.24468107\n",
      " 6.26293971 6.22771066 6.21461856]\n",
      "rho_best: 0.0625\n",
      "qtl_best: 6.309328672604761\n",
      "d1_X\n",
      "rho:  [4.       2.       1.       0.5      0.25     0.125    0.0625   0.03125\n",
      " 0.015625]\n",
      "value:  [5.9514875 5.9514875 5.9514875 6.092349  6.2750435 6.305437  6.322032\n",
      " 6.326463  6.3281045]\n",
      "rho_best: 0.015625\n",
      "qtl_best: 6.260542678833008\n",
      "d2_X\n",
      "rho:  [4.       2.       1.       0.5      0.25     0.125    0.0625   0.03125\n",
      " 0.015625]\n",
      "value:  [5.8791139  5.8791139  5.8791139  5.8791139  5.8791139  5.91003888\n",
      " 6.0449747  6.20660404 6.15185437]\n",
      "rho_best: 0.03125\n",
      "qtl_best: 6.182870376176424\n"
     ]
    }
   ],
   "source": [
    "# Learn ITRs\n",
    "rhos = np.power(2.,-np.arange(-2,7))\n",
    "proxy = proxITR(A=train[[\"A\"]], X=train[[\"X0\",\"X1\",\"X2\",\"X3\",\"X4\",\"X5\",\"X6\",\"X7\",\"X8\",\"X9\"]], Z=train[[\"Z\"]], W=train[[\"W\"]], Y=train[[\"Y\"]], \n",
    "                                learning_rate= 0.1, n_epoch=2000, opt='LBFGS', verbose=True, qtl = qtl)\n",
    "d1_XZ = proxy.fit_d1_XZ_cv(gamma_f='auto', n_gamma_hs=10, \n",
    "        alpha_scales=[c for c in np.geomspace(0.5, 1e5, 20)],\n",
    "        linearity=linearity, n_components=int(2*np.sqrt(samp_size)), rhos = rhos)\n",
    "p_d1_XZ = d1_XZ(test[[\"X0\",\"X1\",\"X2\",\"X3\",\"X4\",\"X5\",\"X6\",\"X7\",\"X8\",\"X9\",\"Z\"]])\n",
    "\n",
    "d2_XW = proxy.fit_d2_XW_cv(gamma_f='auto', n_gamma_hs=10, \n",
    "        alpha_scales=[c for c in np.geomspace(0.1, 1e3, 20)],\n",
    "        linearity=linearity, n_components=int(2*np.sqrt(samp_size)), rhos = rhos)\n",
    "p_d2_XW = d2_XW(test[[\"X0\",\"X1\",\"X2\",\"X3\",\"X4\",\"X5\",\"X6\",\"X7\",\"X8\",\"X9\",\"W\"]])\n",
    "\n",
    "d_DR  = proxy.fit_d_DR_cv(gamma_f='auto', n_gamma_hs=10, \n",
    "        h_alpha_scales=[c for c in np.geomspace(0.5, 1e5, 20)],\n",
    "        q_alpha_scales=[c for c in np.geomspace(0.1, 1e3, 20)],\n",
    "        linearity=linearity, n_components=int(2*np.sqrt(samp_size)), rhos = rhos, learning_rate=1e-2)\n",
    "p_d_DR  = d_DR(test[[\"X0\",\"X1\",\"X2\",\"X3\",\"X4\",\"X5\",\"X6\",\"X7\",\"X8\",\"X9\"]])\n",
    "\n",
    "d1_X  = proxy.fit_d1_X_cv(gamma_f='auto', n_gamma_hs=10, \n",
    "        alpha_scales=[c for c in np.geomspace(0.5, 1e5, 20)],\n",
    "        linearity=linearity, n_components=int(2*np.sqrt(samp_size)), rhos = rhos)\n",
    "p_d1_X  = d1_X(test[[\"X0\",\"X1\",\"X2\",\"X3\",\"X4\",\"X5\",\"X6\",\"X7\",\"X8\",\"X9\"]])\n",
    "\n",
    "d2_X  = proxy.fit_d2_X_cv(gamma_f='auto', n_gamma_hs=10, \n",
    "        alpha_scales=[c for c in np.geomspace(0.1, 1e3, 20)],\n",
    "        linearity=linearity, n_components=int(2*np.sqrt(samp_size)), rhos = rhos)\n",
    "p_d2_X  = d2_X(test[[\"X0\",\"X1\",\"X2\",\"X3\",\"X4\",\"X5\",\"X6\",\"X7\",\"X8\",\"X9\"]])"
   ]
  },
  {
   "cell_type": "code",
   "execution_count": 8,
   "metadata": {
    "execution": {
     "iopub.execute_input": "2022-03-03T22:11:32.695857Z",
     "iopub.status.busy": "2022-03-03T22:11:32.695433Z",
     "iopub.status.idle": "2022-03-03T22:11:32.865758Z",
     "shell.execute_reply": "2022-03-03T22:11:32.866192Z"
    }
   },
   "outputs": [
    {
     "data": {
      "text/html": [
       "<div>\n",
       "<style scoped>\n",
       "    .dataframe tbody tr th:only-of-type {\n",
       "        vertical-align: middle;\n",
       "    }\n",
       "\n",
       "    .dataframe tbody tr th {\n",
       "        vertical-align: top;\n",
       "    }\n",
       "\n",
       "    .dataframe thead th {\n",
       "        text-align: right;\n",
       "    }\n",
       "</style>\n",
       "<table border=\"1\" class=\"dataframe\">\n",
       "  <thead>\n",
       "    <tr style=\"text-align: right;\">\n",
       "      <th></th>\n",
       "      <th>method</th>\n",
       "      <th>value</th>\n",
       "    </tr>\n",
       "  </thead>\n",
       "  <tbody>\n",
       "    <tr>\n",
       "      <th>0</th>\n",
       "      <td>d1_XZ</td>\n",
       "      <td>6.215024</td>\n",
       "    </tr>\n",
       "    <tr>\n",
       "      <th>1</th>\n",
       "      <td>d2_XW</td>\n",
       "      <td>6.197092</td>\n",
       "    </tr>\n",
       "    <tr>\n",
       "      <th>2</th>\n",
       "      <td>d4</td>\n",
       "      <td>6.215024</td>\n",
       "    </tr>\n",
       "    <tr>\n",
       "      <th>3</th>\n",
       "      <td>d_DR</td>\n",
       "      <td>6.193553</td>\n",
       "    </tr>\n",
       "    <tr>\n",
       "      <th>4</th>\n",
       "      <td>d1_X</td>\n",
       "      <td>6.209450</td>\n",
       "    </tr>\n",
       "    <tr>\n",
       "      <th>5</th>\n",
       "      <td>d2_X</td>\n",
       "      <td>6.184956</td>\n",
       "    </tr>\n",
       "    <tr>\n",
       "      <th>6</th>\n",
       "      <td>dPESS</td>\n",
       "      <td>6.193553</td>\n",
       "    </tr>\n",
       "  </tbody>\n",
       "</table>\n",
       "</div>"
      ],
      "text/plain": [
       "  method     value\n",
       "0  d1_XZ  6.215024\n",
       "1  d2_XW  6.197092\n",
       "2     d4  6.215024\n",
       "3   d_DR  6.193553\n",
       "4   d1_X  6.209450\n",
       "5   d2_X  6.184956\n",
       "6  dPESS  6.193553"
      ]
     },
     "execution_count": 8,
     "metadata": {},
     "output_type": "execute_result"
    }
   ],
   "source": [
    "# Calculate Value\n",
    "v_d1_XZ = value_fun(p_d1_XZ,test[[\"A\"]],test[[\"Y\"]],test[[\"X0\",\"X1\"]],test[[\"U\"]])\n",
    "v_d2_XW = value_fun(p_d2_XW,test[[\"A\"]],test[[\"Y\"]],test[[\"X0\",\"X1\"]],test[[\"U\"]])\n",
    "v_d_DR  = value_fun(p_d_DR, test[[\"A\"]],test[[\"Y\"]],test[[\"X0\",\"X1\"]],test[[\"U\"]])\n",
    "v_d1_X  = value_fun(p_d1_X, test[[\"A\"]],test[[\"Y\"]],test[[\"X0\",\"X1\"]],test[[\"U\"]])\n",
    "v_d2_X  = value_fun(p_d2_X, test[[\"A\"]],test[[\"Y\"]],test[[\"X0\",\"X1\"]],test[[\"U\"]])\n",
    "if proxy.cv_d1_XZ > proxy.cv_d2_XW:\n",
    "    v_d4 = v_d1_XZ\n",
    "else:\n",
    "    v_d4 = v_d2_XW\n",
    "dPESS = max(proxy.qtl_value, key = lambda k: proxy.qtl_value[k])\n",
    "if dPESS == 'd1_XZ':\n",
    "    v_dPESS = v_d1_XZ\n",
    "elif dPESS == 'd1_X':\n",
    "    v_dPESS = v_d1_X\n",
    "elif dPESS == 'd2_XW':\n",
    "    v_dPESS = v_d2_XW\n",
    "elif dPESS == 'd2_X':\n",
    "    v_dPESS = v_d2_X\n",
    "else:\n",
    "    v_dPESS = v_d_DR\n",
    "\n",
    "# Table of values\n",
    "pd.DataFrame.from_dict({'method':['d1_XZ','d2_XW','d4','d_DR','d1_X','d2_X', 'dPESS'],\n",
    "                        'value':[v_d1_XZ,v_d2_XW,v_d4,v_d_DR,v_d1_X,v_d2_X, v_dPESS]})\n"
   ]
  },
  {
   "cell_type": "markdown",
   "metadata": {},
   "source": [
    "#### Confidence interval of $V(d_3^*)$"
   ]
  },
  {
   "cell_type": "code",
   "execution_count": 9,
   "metadata": {
    "execution": {
     "iopub.execute_input": "2022-03-03T22:11:32.877288Z",
     "iopub.status.busy": "2022-03-03T22:11:32.876842Z",
     "iopub.status.idle": "2022-03-03T22:11:41.521883Z",
     "shell.execute_reply": "2022-03-03T22:11:41.522201Z"
    }
   },
   "outputs": [
    {
     "data": {
      "text/plain": [
       "(5.886812760679199, 6.510887764456495)"
      ]
     },
     "execution_count": 9,
     "metadata": {},
     "output_type": "execute_result"
    }
   ],
   "source": [
    "proxy = proxITR(A=train[[\"A\"]], X=train[[\"X0\",\"X1\",\"X2\",\"X3\",\"X4\",\"X5\",\"X6\",\"X7\",\"X8\",\"X9\"]], Z=train[[\"Z\"]], W=train[[\"W\"]], Y=train[[\"Y\"]], \n",
    "                god=True, d_X_opt = train[[\"GOR_X\"]])\n",
    "CI = proxy.eif_CI(gamma_f='auto', n_gamma_hs=10, n_alphas=20,\n",
    "            h_alpha_scales=[c for c in np.geomspace(0.5, 1e5, 20)],\n",
    "            q_alpha_scales=[c for c in np.geomspace(0.1, 1e3, 20)],\n",
    "            n_components=int(2*np.sqrt(samp_size)))\n",
    "CI"
   ]
  },
  {
   "cell_type": "code",
   "execution_count": 10,
   "metadata": {},
   "outputs": [
    {
     "data": {
      "text/plain": [
       "6.2533986805635955"
      ]
     },
     "execution_count": 10,
     "metadata": {},
     "output_type": "execute_result"
    }
   ],
   "source": [
    "# V(d_3^*)\n",
    "value_fun(test[[\"GOR_X\"]].to_numpy(int).reshape(-1), test[[\"A\"]],test[[\"Y\"]],test[[\"X0\",\"X1\"]],test[[\"U\"]])"
   ]
  },
  {
   "cell_type": "markdown",
   "metadata": {},
   "source": [
    "### No noisy variables in $L$"
   ]
  },
  {
   "cell_type": "code",
   "execution_count": 11,
   "metadata": {
    "execution": {
     "iopub.execute_input": "2022-03-03T22:08:43.799946Z",
     "iopub.status.busy": "2022-03-03T22:08:43.799494Z",
     "iopub.status.idle": "2022-03-03T22:11:32.681075Z",
     "shell.execute_reply": "2022-03-03T22:11:32.681395Z"
    }
   },
   "outputs": [
    {
     "name": "stdout",
     "output_type": "stream",
     "text": [
      "d1_XZ\n",
      "rho:  [4.       2.       1.       0.5      0.25     0.125    0.0625   0.03125\n",
      " 0.015625]\n",
      "value:  [6.014016  6.014016  6.0154986 6.1422205 6.323061  6.354909  6.361145\n",
      " 6.362258  6.362891 ]\n",
      "rho_best: 0.015625\n",
      "qtl_best: 6.265060615539551\n",
      "d2_XW\n",
      "rho:  [4.       2.       1.       0.5      0.25     0.125    0.0625   0.03125\n",
      " 0.015625]\n",
      "value:  [6.03331282 6.03331282 6.03331282 6.03331282 6.03331282 6.03331282\n",
      " 6.1148833  6.00306287 6.12897269]\n",
      "rho_best: 0.015625\n",
      "qtl_best: 6.059894736976906\n",
      "d_DR\n",
      "rho:  [4.       2.       1.       0.5      0.25     0.125    0.0625   0.03125\n",
      " 0.015625]\n",
      "value:  [6.01829409 6.01829409 6.01829409 6.01829409 6.01829409 6.14041519\n",
      " 6.31541996 6.34929852 6.35926338]\n",
      "rho_best: 0.015625\n",
      "qtl_best: 6.323737149243965\n",
      "d1_X\n",
      "rho:  [4.       2.       1.       0.5      0.25     0.125    0.0625   0.03125\n",
      " 0.015625]\n",
      "value:  [6.014016  6.014016  6.0154986 6.139896  6.325326  6.354786  6.3619313\n",
      " 6.362399  6.3647146]\n",
      "rho_best: 0.015625\n",
      "qtl_best: 6.265409088134765\n",
      "d2_X\n",
      "rho:  [4.       2.       1.       0.5      0.25     0.125    0.0625   0.03125\n",
      " 0.015625]\n",
      "value:  [6.03331282 6.03331282 6.03331282 6.03331282 6.03331282 6.03331282\n",
      " 6.11110347 6.05504199 6.18939083]\n",
      "rho_best: 0.015625\n",
      "qtl_best: 6.075658732434993\n"
     ]
    }
   ],
   "source": [
    "# Learn ITRs\n",
    "rhos = np.power(2.,-np.arange(-2,7))\n",
    "proxy = proxITR(A=train[[\"A\"]], X=train[[\"X0\",\"X1\"]], Z=train[[\"Z\"]], W=train[[\"W\"]], Y=train[[\"Y\"]], \n",
    "                                learning_rate= 0.1, n_epoch=2000, opt='LBFGS', verbose=True, qtl = qtl)\n",
    "d1_XZ = proxy.fit_d1_XZ_cv(gamma_f='auto', n_gamma_hs=10, \n",
    "        alpha_scales=[c for c in np.geomspace(0.5, 1e5, 20)],\n",
    "        linearity=linearity, n_components=int(2*np.sqrt(samp_size)), rhos = rhos)\n",
    "p_d1_XZ = d1_XZ(test[[\"X0\",\"X1\",\"Z\"]])\n",
    "\n",
    "d2_XW = proxy.fit_d2_XW_cv(gamma_f='auto', n_gamma_hs=10, \n",
    "        alpha_scales=[c for c in np.geomspace(0.1, 1e3, 20)],\n",
    "        linearity=linearity, n_components=int(2*np.sqrt(samp_size)), rhos = rhos)\n",
    "p_d2_XW = d2_XW(test[[\"X0\",\"X1\",\"W\"]])\n",
    "\n",
    "d_DR  = proxy.fit_d_DR_cv(gamma_f='auto', n_gamma_hs=10, \n",
    "        h_alpha_scales=[c for c in np.geomspace(0.5, 1e5, 20)],\n",
    "        q_alpha_scales=[c for c in np.geomspace(0.1, 1e3, 20)],\n",
    "        linearity=linearity, n_components=int(2*np.sqrt(samp_size)), rhos = rhos, learning_rate=1e-2)\n",
    "p_d_DR  = d_DR(test[[\"X0\",\"X1\"]])\n",
    "\n",
    "d1_X  = proxy.fit_d1_X_cv(gamma_f='auto', n_gamma_hs=10, \n",
    "        alpha_scales=[c for c in np.geomspace(0.5, 1e5, 20)],\n",
    "        linearity=linearity, n_components=int(2*np.sqrt(samp_size)), rhos = rhos)\n",
    "p_d1_X  = d1_X(test[[\"X0\",\"X1\"]])\n",
    "\n",
    "d2_X  = proxy.fit_d2_X_cv(gamma_f='auto', n_gamma_hs=10, \n",
    "        alpha_scales=[c for c in np.geomspace(0.1, 1e3, 20)],\n",
    "        linearity=linearity, n_components=int(2*np.sqrt(samp_size)), rhos = rhos)\n",
    "p_d2_X  = d2_X(test[[\"X0\",\"X1\"]])"
   ]
  },
  {
   "cell_type": "code",
   "execution_count": 12,
   "metadata": {
    "execution": {
     "iopub.execute_input": "2022-03-03T22:11:32.695857Z",
     "iopub.status.busy": "2022-03-03T22:11:32.695433Z",
     "iopub.status.idle": "2022-03-03T22:11:32.865758Z",
     "shell.execute_reply": "2022-03-03T22:11:32.866192Z"
    }
   },
   "outputs": [
    {
     "data": {
      "text/html": [
       "<div>\n",
       "<style scoped>\n",
       "    .dataframe tbody tr th:only-of-type {\n",
       "        vertical-align: middle;\n",
       "    }\n",
       "\n",
       "    .dataframe tbody tr th {\n",
       "        vertical-align: top;\n",
       "    }\n",
       "\n",
       "    .dataframe thead th {\n",
       "        text-align: right;\n",
       "    }\n",
       "</style>\n",
       "<table border=\"1\" class=\"dataframe\">\n",
       "  <thead>\n",
       "    <tr style=\"text-align: right;\">\n",
       "      <th></th>\n",
       "      <th>method</th>\n",
       "      <th>value</th>\n",
       "    </tr>\n",
       "  </thead>\n",
       "  <tbody>\n",
       "    <tr>\n",
       "      <th>0</th>\n",
       "      <td>d1_XZ</td>\n",
       "      <td>6.209243</td>\n",
       "    </tr>\n",
       "    <tr>\n",
       "      <th>1</th>\n",
       "      <td>d2_XW</td>\n",
       "      <td>6.134681</td>\n",
       "    </tr>\n",
       "    <tr>\n",
       "      <th>2</th>\n",
       "      <td>d4</td>\n",
       "      <td>6.209243</td>\n",
       "    </tr>\n",
       "    <tr>\n",
       "      <th>3</th>\n",
       "      <td>d_DR</td>\n",
       "      <td>6.217575</td>\n",
       "    </tr>\n",
       "    <tr>\n",
       "      <th>4</th>\n",
       "      <td>d1_X</td>\n",
       "      <td>6.210902</td>\n",
       "    </tr>\n",
       "    <tr>\n",
       "      <th>5</th>\n",
       "      <td>d2_X</td>\n",
       "      <td>6.143944</td>\n",
       "    </tr>\n",
       "    <tr>\n",
       "      <th>6</th>\n",
       "      <td>dPESS</td>\n",
       "      <td>6.217575</td>\n",
       "    </tr>\n",
       "  </tbody>\n",
       "</table>\n",
       "</div>"
      ],
      "text/plain": [
       "  method     value\n",
       "0  d1_XZ  6.209243\n",
       "1  d2_XW  6.134681\n",
       "2     d4  6.209243\n",
       "3   d_DR  6.217575\n",
       "4   d1_X  6.210902\n",
       "5   d2_X  6.143944\n",
       "6  dPESS  6.217575"
      ]
     },
     "execution_count": 12,
     "metadata": {},
     "output_type": "execute_result"
    }
   ],
   "source": [
    "# Calculate Value\n",
    "v_d1_XZ = value_fun(p_d1_XZ,test[[\"A\"]],test[[\"Y\"]],test[[\"X0\",\"X1\"]],test[[\"U\"]])\n",
    "v_d2_XW = value_fun(p_d2_XW,test[[\"A\"]],test[[\"Y\"]],test[[\"X0\",\"X1\"]],test[[\"U\"]])\n",
    "v_d_DR  = value_fun(p_d_DR, test[[\"A\"]],test[[\"Y\"]],test[[\"X0\",\"X1\"]],test[[\"U\"]])\n",
    "v_d1_X  = value_fun(p_d1_X, test[[\"A\"]],test[[\"Y\"]],test[[\"X0\",\"X1\"]],test[[\"U\"]])\n",
    "v_d2_X  = value_fun(p_d2_X, test[[\"A\"]],test[[\"Y\"]],test[[\"X0\",\"X1\"]],test[[\"U\"]])\n",
    "if proxy.cv_d1_XZ > proxy.cv_d2_XW:\n",
    "    v_d4 = v_d1_XZ\n",
    "else:\n",
    "    v_d4 = v_d2_XW\n",
    "dPESS = max(proxy.qtl_value, key = lambda k: proxy.qtl_value[k])\n",
    "if dPESS == 'd1_XZ':\n",
    "    v_dPESS = v_d1_XZ\n",
    "elif dPESS == 'd1_X':\n",
    "    v_dPESS = v_d1_X\n",
    "elif dPESS == 'd2_XW':\n",
    "    v_dPESS = v_d2_XW\n",
    "elif dPESS == 'd2_X':\n",
    "    v_dPESS = v_d2_X\n",
    "else:\n",
    "    v_dPESS = v_d_DR\n",
    "\n",
    "# Table of values\n",
    "pd.DataFrame.from_dict({'method':['d1_XZ','d2_XW','d4','d_DR','d1_X','d2_X', 'dPESS'],\n",
    "                        'value':[v_d1_XZ,v_d2_XW,v_d4,v_d_DR,v_d1_X,v_d2_X, v_dPESS]})\n"
   ]
  },
  {
   "cell_type": "markdown",
   "metadata": {},
   "source": [
    "## Scenario L2"
   ]
  },
  {
   "cell_type": "code",
   "execution_count": 13,
   "metadata": {
    "execution": {
     "iopub.execute_input": "2022-03-03T22:11:41.529698Z",
     "iopub.status.busy": "2022-03-03T22:11:41.529330Z",
     "iopub.status.idle": "2022-03-03T22:11:41.531397Z",
     "shell.execute_reply": "2022-03-03T22:11:41.531018Z"
    }
   },
   "outputs": [],
   "source": [
    "# Setting\n",
    "linearity    = 'linear'\n",
    "Xonly        = 'X'\n",
    "# Selected quantile for dPESS\n",
    "qtl = 0.4"
   ]
  },
  {
   "cell_type": "code",
   "execution_count": 14,
   "metadata": {
    "execution": {
     "iopub.execute_input": "2022-03-03T22:11:41.540718Z",
     "iopub.status.busy": "2022-03-03T22:11:41.540356Z",
     "iopub.status.idle": "2022-03-03T22:11:41.982227Z",
     "shell.execute_reply": "2022-03-03T22:11:41.981754Z"
    }
   },
   "outputs": [
    {
     "data": {
      "text/plain": [
       "6.22827853742395"
      ]
     },
     "execution_count": 14,
     "metadata": {},
     "output_type": "execute_result"
    }
   ],
   "source": [
    "# Generate Test Data\n",
    "test = prox_data(500000, add_noise=False).gen_Y(linearity=linearity, Xonly = Xonly)\n",
    "value_fun(test[[\"GOR\"]].to_numpy(int).reshape(-1), test[[\"A\"]],test[[\"Y\"]],test[[\"X0\",\"X1\"]],test[[\"U\"]])"
   ]
  },
  {
   "cell_type": "code",
   "execution_count": 15,
   "metadata": {
    "execution": {
     "iopub.execute_input": "2022-03-03T22:11:41.991723Z",
     "iopub.status.busy": "2022-03-03T22:11:41.991303Z",
     "iopub.status.idle": "2022-03-03T22:11:41.995028Z",
     "shell.execute_reply": "2022-03-03T22:11:41.994585Z"
    }
   },
   "outputs": [],
   "source": [
    "# Generate Training Data\n",
    "samp_size = 2000\n",
    "train = prox_data(samp_size=samp_size, add_noise=True).gen_Y(linearity=linearity, Xonly = Xonly)"
   ]
  },
  {
   "cell_type": "markdown",
   "metadata": {},
   "source": [
    "### With 8 noisy variables in $L$"
   ]
  },
  {
   "cell_type": "code",
   "execution_count": 16,
   "metadata": {
    "execution": {
     "iopub.execute_input": "2022-03-03T22:11:42.002228Z",
     "iopub.status.busy": "2022-03-03T22:11:42.001777Z",
     "iopub.status.idle": "2022-03-03T22:12:45.807120Z",
     "shell.execute_reply": "2022-03-03T22:12:45.807660Z"
    }
   },
   "outputs": [
    {
     "name": "stdout",
     "output_type": "stream",
     "text": [
      "d1_XZ\n",
      "rho:  [4.       2.       1.       0.5      0.25     0.125    0.0625   0.03125\n",
      " 0.015625]\n",
      "value:  [5.580619  5.7193885 6.0439234 6.097657  6.10592   6.103588  6.105073\n",
      " 6.1056123 6.106444 ]\n",
      "rho_best: 0.015625\n",
      "qtl_best: 6.073304653167725\n",
      "d2_XW\n",
      "rho:  [4.       2.       1.       0.5      0.25     0.125    0.0625   0.03125\n",
      " 0.015625]\n",
      "value:  [5.59061503 5.74318459 5.74965346 5.672645   5.76768782 6.10143003\n",
      " 6.01196042 5.99583343 5.96308703]\n",
      "rho_best: 0.125\n",
      "qtl_best: 5.832251435782033\n",
      "d_DR\n",
      "rho:  [4.       2.       1.       0.5      0.25     0.125    0.0625   0.03125\n",
      " 0.015625]\n",
      "value:  [5.71221604 5.71221604 5.71221604 5.71595492 5.87053384 6.01558491\n",
      " 5.98666929 6.01197745 6.04459393]\n",
      "rho_best: 0.015625\n",
      "qtl_best: 5.876942617556247\n",
      "d1_X\n",
      "rho:  [4.       2.       1.       0.5      0.25     0.125    0.0625   0.03125\n",
      " 0.015625]\n",
      "value:  [5.580619  5.7154894 6.047496  6.0999794 6.106101  6.1064196 6.106518\n",
      " 6.1058025 6.1069694]\n",
      "rho_best: 0.015625\n",
      "qtl_best: 6.072558975219726\n",
      "d2_X\n",
      "rho:  [4.       2.       1.       0.5      0.25     0.125    0.0625   0.03125\n",
      " 0.015625]\n",
      "value:  [5.57777626 5.7410837  5.72262261 5.87052346 5.70743808 6.0370705\n",
      " 6.08572483 6.03642791 6.01347499]\n",
      "rho_best: 0.0625\n",
      "qtl_best: 5.834718253050482\n"
     ]
    }
   ],
   "source": [
    "# Learn ITRs\n",
    "rhos = np.power(2.,-np.arange(-2,7))\n",
    "proxy = proxITR(A=train[[\"A\"]], X=train[[\"X0\",\"X1\",\"X2\",\"X3\",\"X4\",\"X5\",\"X6\",\"X7\",\"X8\",\"X9\"]], Z=train[[\"Z\"]], W=train[[\"W\"]], Y=train[[\"Y\"]], \n",
    "                                learning_rate= 0.1, n_epoch=2000, opt='LBFGS', verbose=True, qtl=qtl)\n",
    "d1_XZ = proxy.fit_d1_XZ_cv(gamma_f='auto', n_gamma_hs=10, \n",
    "        alpha_scales=[c for c in np.geomspace(0.5, 1e5, 20)],\n",
    "        linearity=linearity, n_components=int(2*np.sqrt(samp_size)), rhos = rhos)\n",
    "p_d1_XZ = d1_XZ(test[[\"X0\",\"X1\",\"X2\",\"X3\",\"X4\",\"X5\",\"X6\",\"X7\",\"X8\",\"X9\",\"Z\"]])\n",
    "\n",
    "d2_XW = proxy.fit_d2_XW_cv(gamma_f='auto', n_gamma_hs=10, \n",
    "        alpha_scales=[c for c in np.geomspace(0.1, 1e3, 20)],\n",
    "        linearity=linearity, n_components=int(2*np.sqrt(samp_size)), rhos = rhos)\n",
    "p_d2_XW = d2_XW(test[[\"X0\",\"X1\",\"X2\",\"X3\",\"X4\",\"X5\",\"X6\",\"X7\",\"X8\",\"X9\",\"W\"]])\n",
    "\n",
    "d_DR  = proxy.fit_d_DR_cv(gamma_f='auto', n_gamma_hs=10, \n",
    "        h_alpha_scales=[c for c in np.geomspace(0.5, 1e5, 20)],\n",
    "        q_alpha_scales=[c for c in np.geomspace(0.1, 1e3, 20)],\n",
    "        linearity=linearity, n_components=int(2*np.sqrt(samp_size)), rhos = rhos, learning_rate=1e-2)\n",
    "p_d_DR  = d_DR(test[[\"X0\",\"X1\",\"X2\",\"X3\",\"X4\",\"X5\",\"X6\",\"X7\",\"X8\",\"X9\"]])\n",
    "\n",
    "d1_X  = proxy.fit_d1_X_cv(gamma_f='auto', n_gamma_hs=10, \n",
    "        alpha_scales=[c for c in np.geomspace(0.5, 1e5, 20)],\n",
    "        linearity=linearity, n_components=int(2*np.sqrt(samp_size)), rhos = rhos)\n",
    "p_d1_X  = d1_X(test[[\"X0\",\"X1\",\"X2\",\"X3\",\"X4\",\"X5\",\"X6\",\"X7\",\"X8\",\"X9\"]])\n",
    "\n",
    "d2_X  = proxy.fit_d2_X_cv(gamma_f='auto', n_gamma_hs=10, \n",
    "        alpha_scales=[c for c in np.geomspace(0.1, 1e3, 20)],\n",
    "        linearity=linearity, n_components=int(2*np.sqrt(samp_size)), rhos = rhos)\n",
    "p_d2_X  = d2_X(test[[\"X0\",\"X1\",\"X2\",\"X3\",\"X4\",\"X5\",\"X6\",\"X7\",\"X8\",\"X9\"]])"
   ]
  },
  {
   "cell_type": "code",
   "execution_count": 17,
   "metadata": {
    "execution": {
     "iopub.execute_input": "2022-03-03T22:12:45.829988Z",
     "iopub.status.busy": "2022-03-03T22:12:45.829568Z",
     "iopub.status.idle": "2022-03-03T22:12:45.923590Z",
     "shell.execute_reply": "2022-03-03T22:12:45.923201Z"
    }
   },
   "outputs": [
    {
     "data": {
      "text/html": [
       "<div>\n",
       "<style scoped>\n",
       "    .dataframe tbody tr th:only-of-type {\n",
       "        vertical-align: middle;\n",
       "    }\n",
       "\n",
       "    .dataframe tbody tr th {\n",
       "        vertical-align: top;\n",
       "    }\n",
       "\n",
       "    .dataframe thead th {\n",
       "        text-align: right;\n",
       "    }\n",
       "</style>\n",
       "<table border=\"1\" class=\"dataframe\">\n",
       "  <thead>\n",
       "    <tr style=\"text-align: right;\">\n",
       "      <th></th>\n",
       "      <th>method</th>\n",
       "      <th>value</th>\n",
       "    </tr>\n",
       "  </thead>\n",
       "  <tbody>\n",
       "    <tr>\n",
       "      <th>0</th>\n",
       "      <td>d1_XZ</td>\n",
       "      <td>6.177315</td>\n",
       "    </tr>\n",
       "    <tr>\n",
       "      <th>1</th>\n",
       "      <td>d2_XW</td>\n",
       "      <td>6.132798</td>\n",
       "    </tr>\n",
       "    <tr>\n",
       "      <th>2</th>\n",
       "      <td>d4</td>\n",
       "      <td>6.177315</td>\n",
       "    </tr>\n",
       "    <tr>\n",
       "      <th>3</th>\n",
       "      <td>d_DR</td>\n",
       "      <td>6.188073</td>\n",
       "    </tr>\n",
       "    <tr>\n",
       "      <th>4</th>\n",
       "      <td>d1_X</td>\n",
       "      <td>6.192021</td>\n",
       "    </tr>\n",
       "    <tr>\n",
       "      <th>5</th>\n",
       "      <td>d2_X</td>\n",
       "      <td>6.152076</td>\n",
       "    </tr>\n",
       "    <tr>\n",
       "      <th>6</th>\n",
       "      <td>dPESS</td>\n",
       "      <td>6.177315</td>\n",
       "    </tr>\n",
       "  </tbody>\n",
       "</table>\n",
       "</div>"
      ],
      "text/plain": [
       "  method     value\n",
       "0  d1_XZ  6.177315\n",
       "1  d2_XW  6.132798\n",
       "2     d4  6.177315\n",
       "3   d_DR  6.188073\n",
       "4   d1_X  6.192021\n",
       "5   d2_X  6.152076\n",
       "6  dPESS  6.177315"
      ]
     },
     "execution_count": 17,
     "metadata": {},
     "output_type": "execute_result"
    }
   ],
   "source": [
    "# Calculate Value\n",
    "v_d1_XZ = value_fun(p_d1_XZ,test[[\"A\"]],test[[\"Y\"]],test[[\"X0\",\"X1\"]],test[[\"U\"]])\n",
    "v_d2_XW = value_fun(p_d2_XW,test[[\"A\"]],test[[\"Y\"]],test[[\"X0\",\"X1\"]],test[[\"U\"]])\n",
    "v_d_DR  = value_fun(p_d_DR, test[[\"A\"]],test[[\"Y\"]],test[[\"X0\",\"X1\"]],test[[\"U\"]])\n",
    "v_d1_X  = value_fun(p_d1_X, test[[\"A\"]],test[[\"Y\"]],test[[\"X0\",\"X1\"]],test[[\"U\"]])\n",
    "v_d2_X  = value_fun(p_d2_X, test[[\"A\"]],test[[\"Y\"]],test[[\"X0\",\"X1\"]],test[[\"U\"]])\n",
    "if proxy.cv_d1_XZ > proxy.cv_d2_XW:\n",
    "    v_d4 = v_d1_XZ\n",
    "else:\n",
    "    v_d4 = v_d2_XW\n",
    "dPESS = max(proxy.qtl_value, key = lambda k: proxy.qtl_value[k])\n",
    "if dPESS == 'd1_XZ':\n",
    "    v_dPESS = v_d1_XZ\n",
    "elif dPESS == 'd1_X':\n",
    "    v_dPESS = v_d1_X\n",
    "elif dPESS == 'd2_XW':\n",
    "    v_dPESS = v_d2_XW\n",
    "elif dPESS == 'd2_X':\n",
    "    v_dPESS = v_d2_X\n",
    "else:\n",
    "    v_dPESS = v_d_DR\n",
    "\n",
    "# Table of values\n",
    "pd.DataFrame.from_dict({'method':['d1_XZ','d2_XW','d4','d_DR','d1_X','d2_X', 'dPESS'],\n",
    "                        'value':[v_d1_XZ,v_d2_XW,v_d4,v_d_DR,v_d1_X,v_d2_X, v_dPESS]})"
   ]
  },
  {
   "cell_type": "markdown",
   "metadata": {},
   "source": [
    "#### Confidence interval of $V(d_3^*)$"
   ]
  },
  {
   "cell_type": "code",
   "execution_count": 18,
   "metadata": {
    "execution": {
     "iopub.execute_input": "2022-03-03T22:12:45.942818Z",
     "iopub.status.busy": "2022-03-03T22:12:45.942406Z",
     "iopub.status.idle": "2022-03-03T22:12:55.144178Z",
     "shell.execute_reply": "2022-03-03T22:12:55.143783Z"
    }
   },
   "outputs": [
    {
     "data": {
      "text/plain": [
       "(5.823806851540759, 6.425964060033808)"
      ]
     },
     "execution_count": 18,
     "metadata": {},
     "output_type": "execute_result"
    }
   ],
   "source": [
    "proxy = proxITR(A=train[[\"A\"]], X=train[[\"X0\",\"X1\",\"X2\",\"X3\",\"X4\",\"X5\",\"X6\",\"X7\",\"X8\",\"X9\"]], Z=train[[\"Z\"]], W=train[[\"W\"]], Y=train[[\"Y\"]], \n",
    "                god=True, d_X_opt = train[[\"GOR_X\"]])\n",
    "CI = proxy.eif_CI(gamma_f='auto', n_gamma_hs=10, n_alphas=20,\n",
    "            h_alpha_scales=[c for c in np.geomspace(0.5, 1e5, 20)],\n",
    "            q_alpha_scales=[c for c in np.geomspace(0.1, 1e3, 20)],\n",
    "            n_components=int(2*np.sqrt(samp_size)))\n",
    "CI"
   ]
  },
  {
   "cell_type": "code",
   "execution_count": 19,
   "metadata": {},
   "outputs": [
    {
     "data": {
      "text/plain": [
       "6.22827853742395"
      ]
     },
     "execution_count": 19,
     "metadata": {},
     "output_type": "execute_result"
    }
   ],
   "source": [
    "# V(d_3^*)\n",
    "value_fun(test[[\"GOR_X\"]].to_numpy(int).reshape(-1), test[[\"A\"]],test[[\"Y\"]],test[[\"X0\",\"X1\"]],test[[\"U\"]])"
   ]
  },
  {
   "cell_type": "markdown",
   "metadata": {},
   "source": [
    "### No noisy variables in $L$"
   ]
  },
  {
   "cell_type": "code",
   "execution_count": 20,
   "metadata": {
    "execution": {
     "iopub.execute_input": "2022-03-03T22:11:42.002228Z",
     "iopub.status.busy": "2022-03-03T22:11:42.001777Z",
     "iopub.status.idle": "2022-03-03T22:12:45.807120Z",
     "shell.execute_reply": "2022-03-03T22:12:45.807660Z"
    }
   },
   "outputs": [
    {
     "name": "stdout",
     "output_type": "stream",
     "text": [
      "d1_XZ\n",
      "rho:  [4.       2.       1.       0.5      0.25     0.125    0.0625   0.03125\n",
      " 0.015625]\n",
      "value:  [5.6969595 5.75727   5.9549956 6.0795155 6.086185  6.0868254 6.0854387\n",
      " 6.085077  6.0853887]\n",
      "rho_best: 0.125\n",
      "qtl_best: 5.990200138092041\n",
      "d2_XW\n",
      "rho:  [4.       2.       1.       0.5      0.25     0.125    0.0625   0.03125\n",
      " 0.015625]\n",
      "value:  [5.73023491 5.73023491 5.73023491 5.73023491 5.73023491 5.76427354\n",
      " 5.93752671 5.98221315 6.06008836]\n",
      "rho_best: 0.015625\n",
      "qtl_best: 5.825384740897132\n",
      "d_DR\n",
      "rho:  [4.       2.       1.       0.5      0.25     0.125    0.0625   0.03125\n",
      " 0.015625]\n",
      "value:  [5.77547822 5.77547822 5.77547822 5.77547822 5.77547822 5.85717903\n",
      " 6.14243865 6.0696809  6.08275013]\n",
      "rho_best: 0.0625\n",
      "qtl_best: 6.052245705655884\n",
      "d1_X\n",
      "rho:  [4.       2.       1.       0.5      0.25     0.125    0.0625   0.03125\n",
      " 0.015625]\n",
      "value:  [5.6969595 5.75727   5.954468  6.0796204 6.083568  6.087056  6.088091\n",
      " 6.0875664 6.0871954]\n",
      "rho_best: 0.0625\n",
      "qtl_best: 5.992678928375244\n",
      "d2_X\n",
      "rho:  [4.       2.       1.       0.5      0.25     0.125    0.0625   0.03125\n",
      " 0.015625]\n",
      "value:  [5.73023491 5.73023491 5.73023491 5.73023491 5.73023491 5.75651758\n",
      " 6.12668422 6.13141344 6.04656686]\n",
      "rho_best: 0.03125\n",
      "qtl_best: 5.829497869277779\n"
     ]
    }
   ],
   "source": [
    "# Learn ITRs\n",
    "rhos = np.power(2.,-np.arange(-2,7))\n",
    "proxy = proxITR(A=train[[\"A\"]], X=train[[\"X0\",\"X1\"]], Z=train[[\"Z\"]], W=train[[\"W\"]], Y=train[[\"Y\"]], \n",
    "                                learning_rate= 0.1, n_epoch=2000, opt='LBFGS', verbose=True, qtl=qtl)\n",
    "d1_XZ = proxy.fit_d1_XZ_cv(gamma_f='auto', n_gamma_hs=10, \n",
    "        alpha_scales=[c for c in np.geomspace(0.5, 1e5, 20)],\n",
    "        linearity=linearity, n_components=int(2*np.sqrt(samp_size)), rhos = rhos)\n",
    "p_d1_XZ = d1_XZ(test[[\"X0\",\"X1\",\"Z\"]])\n",
    "\n",
    "d2_XW = proxy.fit_d2_XW_cv(gamma_f='auto', n_gamma_hs=10, \n",
    "        alpha_scales=[c for c in np.geomspace(0.1, 1e3, 20)],\n",
    "        linearity=linearity, n_components=int(2*np.sqrt(samp_size)), rhos = rhos)\n",
    "p_d2_XW = d2_XW(test[[\"X0\",\"X1\",\"W\"]])\n",
    "\n",
    "d_DR  = proxy.fit_d_DR_cv(gamma_f='auto', n_gamma_hs=10, \n",
    "        h_alpha_scales=[c for c in np.geomspace(0.5, 1e5, 20)],\n",
    "        q_alpha_scales=[c for c in np.geomspace(0.1, 1e3, 20)],\n",
    "        linearity=linearity, n_components=int(2*np.sqrt(samp_size)), rhos = rhos, learning_rate=1e-2)\n",
    "p_d_DR  = d_DR(test[[\"X0\",\"X1\"]])\n",
    "\n",
    "d1_X  = proxy.fit_d1_X_cv(gamma_f='auto', n_gamma_hs=10, \n",
    "        alpha_scales=[c for c in np.geomspace(0.5, 1e5, 20)],\n",
    "        linearity=linearity, n_components=int(2*np.sqrt(samp_size)), rhos = rhos)\n",
    "p_d1_X  = d1_X(test[[\"X0\",\"X1\"]])\n",
    "\n",
    "d2_X  = proxy.fit_d2_X_cv(gamma_f='auto', n_gamma_hs=10, \n",
    "        alpha_scales=[c for c in np.geomspace(0.1, 1e3, 20)],\n",
    "        linearity=linearity, n_components=int(2*np.sqrt(samp_size)), rhos = rhos)\n",
    "p_d2_X  = d2_X(test[[\"X0\",\"X1\"]])"
   ]
  },
  {
   "cell_type": "code",
   "execution_count": 21,
   "metadata": {
    "execution": {
     "iopub.execute_input": "2022-03-03T22:12:45.829988Z",
     "iopub.status.busy": "2022-03-03T22:12:45.829568Z",
     "iopub.status.idle": "2022-03-03T22:12:45.923590Z",
     "shell.execute_reply": "2022-03-03T22:12:45.923201Z"
    }
   },
   "outputs": [
    {
     "data": {
      "text/html": [
       "<div>\n",
       "<style scoped>\n",
       "    .dataframe tbody tr th:only-of-type {\n",
       "        vertical-align: middle;\n",
       "    }\n",
       "\n",
       "    .dataframe tbody tr th {\n",
       "        vertical-align: top;\n",
       "    }\n",
       "\n",
       "    .dataframe thead th {\n",
       "        text-align: right;\n",
       "    }\n",
       "</style>\n",
       "<table border=\"1\" class=\"dataframe\">\n",
       "  <thead>\n",
       "    <tr style=\"text-align: right;\">\n",
       "      <th></th>\n",
       "      <th>method</th>\n",
       "      <th>value</th>\n",
       "    </tr>\n",
       "  </thead>\n",
       "  <tbody>\n",
       "    <tr>\n",
       "      <th>0</th>\n",
       "      <td>d1_XZ</td>\n",
       "      <td>6.198131</td>\n",
       "    </tr>\n",
       "    <tr>\n",
       "      <th>1</th>\n",
       "      <td>d2_XW</td>\n",
       "      <td>6.160256</td>\n",
       "    </tr>\n",
       "    <tr>\n",
       "      <th>2</th>\n",
       "      <td>d4</td>\n",
       "      <td>6.198131</td>\n",
       "    </tr>\n",
       "    <tr>\n",
       "      <th>3</th>\n",
       "      <td>d_DR</td>\n",
       "      <td>6.101156</td>\n",
       "    </tr>\n",
       "    <tr>\n",
       "      <th>4</th>\n",
       "      <td>d1_X</td>\n",
       "      <td>6.206344</td>\n",
       "    </tr>\n",
       "    <tr>\n",
       "      <th>5</th>\n",
       "      <td>d2_X</td>\n",
       "      <td>6.138676</td>\n",
       "    </tr>\n",
       "    <tr>\n",
       "      <th>6</th>\n",
       "      <td>dPESS</td>\n",
       "      <td>6.101156</td>\n",
       "    </tr>\n",
       "  </tbody>\n",
       "</table>\n",
       "</div>"
      ],
      "text/plain": [
       "  method     value\n",
       "0  d1_XZ  6.198131\n",
       "1  d2_XW  6.160256\n",
       "2     d4  6.198131\n",
       "3   d_DR  6.101156\n",
       "4   d1_X  6.206344\n",
       "5   d2_X  6.138676\n",
       "6  dPESS  6.101156"
      ]
     },
     "execution_count": 21,
     "metadata": {},
     "output_type": "execute_result"
    }
   ],
   "source": [
    "# Calculate Value\n",
    "v_d1_XZ = value_fun(p_d1_XZ,test[[\"A\"]],test[[\"Y\"]],test[[\"X0\",\"X1\"]],test[[\"U\"]])\n",
    "v_d2_XW = value_fun(p_d2_XW,test[[\"A\"]],test[[\"Y\"]],test[[\"X0\",\"X1\"]],test[[\"U\"]])\n",
    "v_d_DR  = value_fun(p_d_DR, test[[\"A\"]],test[[\"Y\"]],test[[\"X0\",\"X1\"]],test[[\"U\"]])\n",
    "v_d1_X  = value_fun(p_d1_X, test[[\"A\"]],test[[\"Y\"]],test[[\"X0\",\"X1\"]],test[[\"U\"]])\n",
    "v_d2_X  = value_fun(p_d2_X, test[[\"A\"]],test[[\"Y\"]],test[[\"X0\",\"X1\"]],test[[\"U\"]])\n",
    "if proxy.cv_d1_XZ > proxy.cv_d2_XW:\n",
    "    v_d4 = v_d1_XZ\n",
    "else:\n",
    "    v_d4 = v_d2_XW\n",
    "dPESS = max(proxy.qtl_value, key = lambda k: proxy.qtl_value[k])\n",
    "if dPESS == 'd1_XZ':\n",
    "    v_dPESS = v_d1_XZ\n",
    "elif dPESS == 'd1_X':\n",
    "    v_dPESS = v_d1_X\n",
    "elif dPESS == 'd2_XW':\n",
    "    v_dPESS = v_d2_XW\n",
    "elif dPESS == 'd2_X':\n",
    "    v_dPESS = v_d2_X\n",
    "else:\n",
    "    v_dPESS = v_d_DR\n",
    "\n",
    "# Table of values\n",
    "pd.DataFrame.from_dict({'method':['d1_XZ','d2_XW','d4','d_DR','d1_X','d2_X', 'dPESS'],\n",
    "                        'value':[v_d1_XZ,v_d2_XW,v_d4,v_d_DR,v_d1_X,v_d2_X, v_dPESS]})"
   ]
  },
  {
   "cell_type": "markdown",
   "metadata": {},
   "source": [
    "## Scenario N1"
   ]
  },
  {
   "cell_type": "code",
   "execution_count": 22,
   "metadata": {
    "execution": {
     "iopub.execute_input": "2022-03-03T22:12:55.147539Z",
     "iopub.status.busy": "2022-03-03T22:12:55.147112Z",
     "iopub.status.idle": "2022-03-03T22:12:55.150059Z",
     "shell.execute_reply": "2022-03-03T22:12:55.149688Z"
    }
   },
   "outputs": [],
   "source": [
    "# Setting\n",
    "linearity    = 'nonlinear'\n",
    "Xonly        = 'XW'\n",
    "# Selected quantile for dPESS\n",
    "qtl = 0.4"
   ]
  },
  {
   "cell_type": "code",
   "execution_count": 23,
   "metadata": {
    "execution": {
     "iopub.execute_input": "2022-03-03T22:12:55.173572Z",
     "iopub.status.busy": "2022-03-03T22:12:55.173201Z",
     "iopub.status.idle": "2022-03-03T22:12:55.642980Z",
     "shell.execute_reply": "2022-03-03T22:12:55.642636Z"
    }
   },
   "outputs": [
    {
     "data": {
      "text/plain": [
       "4.870391598434449"
      ]
     },
     "execution_count": 23,
     "metadata": {},
     "output_type": "execute_result"
    }
   ],
   "source": [
    "# Generate Test Data\n",
    "test = prox_data(500000, add_noise=False).gen_Y(linearity=linearity, Xonly = Xonly)\n",
    "value_fun(test[[\"GOR\"]].to_numpy(int).reshape(-1), test[[\"A\"]],test[[\"Y\"]],test[[\"X0\",\"X1\"]],test[[\"U\"]])"
   ]
  },
  {
   "cell_type": "code",
   "execution_count": 24,
   "metadata": {
    "execution": {
     "iopub.execute_input": "2022-03-03T22:12:55.654277Z",
     "iopub.status.busy": "2022-03-03T22:12:55.653893Z",
     "iopub.status.idle": "2022-03-03T22:12:55.656643Z",
     "shell.execute_reply": "2022-03-03T22:12:55.656332Z"
    }
   },
   "outputs": [],
   "source": [
    "# Generate Training Data\n",
    "samp_size = 2000\n",
    "train = prox_data(samp_size=samp_size, add_noise=True).gen_Y(linearity=linearity, Xonly = Xonly)"
   ]
  },
  {
   "cell_type": "markdown",
   "metadata": {},
   "source": [
    "### With 8 noisy variables in $L$"
   ]
  },
  {
   "cell_type": "code",
   "execution_count": 25,
   "metadata": {
    "execution": {
     "iopub.execute_input": "2022-03-03T22:12:55.673325Z",
     "iopub.status.busy": "2022-03-03T22:12:55.672922Z",
     "iopub.status.idle": "2022-03-03T22:14:03.308404Z",
     "shell.execute_reply": "2022-03-03T22:14:03.308748Z"
    }
   },
   "outputs": [
    {
     "name": "stdout",
     "output_type": "stream",
     "text": [
      "d1_XZ\n",
      "rho:  [2.        1.        0.5       0.25      0.125     0.0625    0.03125\n",
      " 0.015625  0.0078125]\n",
      "value:  [4.2986097 4.2880673 4.2853193 4.287113  4.274395  4.297773  4.2886543\n",
      " 4.2935667 4.3052197]\n",
      "rho_best: 0.0078125\n",
      "qtl_best: 4.2843523025512695\n",
      "d2_XW\n",
      "rho:  [2.        1.        0.5       0.25      0.125     0.0625    0.03125\n",
      " 0.015625  0.0078125]\n",
      "value:  [4.23546225 4.22803906 4.14340169 4.21492152 4.01685271 4.03998754\n",
      " 4.07499267 4.12032465 4.10362886]\n",
      "rho_best: 2.0\n",
      "qtl_best: 4.083964439663492\n",
      "d_DR\n",
      "rho:  [2.        1.        0.5       0.25      0.125     0.0625    0.03125\n",
      " 0.015625  0.0078125]\n",
      "value:  [4.17220062 4.14806023 4.15030152 4.1498565  4.18871015 4.16276233\n",
      " 4.18512537 4.17072382 4.15004237]\n",
      "rho_best: 0.125\n",
      "qtl_best: 4.2152463282831905\n",
      "d1_X\n",
      "rho:  [2.        1.        0.5       0.25      0.125     0.0625    0.03125\n",
      " 0.015625  0.0078125]\n",
      "value:  [4.1093287 4.08628   4.080932  4.0735183 4.028838  4.041281  4.0226235\n",
      " 4.0491076 4.018029 ]\n",
      "rho_best: 2.0\n",
      "qtl_best: 4.104413795471191\n",
      "d2_X\n",
      "rho:  [2.        1.        0.5       0.25      0.125     0.0625    0.03125\n",
      " 0.015625  0.0078125]\n",
      "value:  [3.95365995 4.00379488 4.07253866 3.98626677 3.94726063 4.03231903\n",
      " 3.97557341 3.91894763 3.86632749]\n",
      "rho_best: 0.5\n",
      "qtl_best: 3.922425419889967\n"
     ]
    }
   ],
   "source": [
    "rhos = np.power(2.,-np.arange(-1,8))\n",
    "proxy = proxITR(A=train[[\"A\"]], X=train[[\"X0\",\"X1\",\"X2\",\"X3\",\"X4\",\"X5\",\"X6\",\"X7\",\"X8\",\"X9\"]], Z=train[[\"Z\"]], W=train[[\"W\"]], Y=train[[\"Y\"]], \n",
    "learning_rate=0.1, n_epoch=2000, batch_size=300, opt='SGD', verbose=True, qtl=qtl)\n",
    "d1_XZ = proxy.fit_d1_XZ_cv(gamma_f='auto', n_gamma_hs=10, \n",
    "        alpha_scales=[c for c in np.geomspace(0.5, 1e5, 20)],\n",
    "        linearity=linearity, n_components=int(2*np.sqrt(samp_size)), rhos = rhos)\n",
    "p_d1_XZ = d1_XZ(test[[\"X0\",\"X1\",\"X2\",\"X3\",\"X4\",\"X5\",\"X6\",\"X7\",\"X8\",\"X9\",\"Z\"]])\n",
    "d2_XW = proxy.fit_d2_XW_cv(gamma_f='auto', n_gamma_hs=10, \n",
    "        alpha_scales=[c for c in np.geomspace(0.1, 1e3, 20)],\n",
    "        linearity=linearity, n_components=int(2*np.sqrt(samp_size)), rhos = rhos)\n",
    "p_d2_XW = d2_XW(test[[\"X0\",\"X1\",\"X2\",\"X3\",\"X4\",\"X5\",\"X6\",\"X7\",\"X8\",\"X9\",\"W\"]])\n",
    "d_DR  = proxy.fit_d_DR_cv(gamma_f='auto', n_gamma_hs=10, \n",
    "        h_alpha_scales=[c for c in np.geomspace(0.5, 1e5, 20)],\n",
    "        q_alpha_scales=[c for c in np.geomspace(0.1, 1e3, 20)],\n",
    "        linearity=linearity, n_components=int(2*np.sqrt(samp_size)), rhos = rhos)\n",
    "p_d_DR  = d_DR(test[[\"X0\",\"X1\",\"X2\",\"X3\",\"X4\",\"X5\",\"X6\",\"X7\",\"X8\",\"X9\"]])\n",
    "d1_X  = proxy.fit_d1_X_cv(gamma_f='auto', n_gamma_hs=10, \n",
    "        alpha_scales=[c for c in np.geomspace(0.5, 1e5, 20)],\n",
    "        linearity=linearity, n_components=int(2*np.sqrt(samp_size)), rhos = rhos)\n",
    "p_d1_X  = d1_X(test[[\"X0\",\"X1\",\"X2\",\"X3\",\"X4\",\"X5\",\"X6\",\"X7\",\"X8\",\"X9\"]])\n",
    "d2_X  = proxy.fit_d2_X_cv(gamma_f='auto', n_gamma_hs=10, \n",
    "        alpha_scales=[c for c in np.geomspace(0.1, 1e3, 20)],\n",
    "        linearity=linearity, n_components=int(2*np.sqrt(samp_size)), rhos = rhos)\n",
    "p_d2_X  = d2_X(test[[\"X0\",\"X1\",\"X2\",\"X3\",\"X4\",\"X5\",\"X6\",\"X7\",\"X8\",\"X9\"]])"
   ]
  },
  {
   "cell_type": "code",
   "execution_count": 26,
   "metadata": {
    "execution": {
     "iopub.execute_input": "2022-03-03T22:14:03.329938Z",
     "iopub.status.busy": "2022-03-03T22:14:03.329546Z",
     "iopub.status.idle": "2022-03-03T22:14:03.412512Z",
     "shell.execute_reply": "2022-03-03T22:14:03.412903Z"
    }
   },
   "outputs": [
    {
     "data": {
      "text/html": [
       "<div>\n",
       "<style scoped>\n",
       "    .dataframe tbody tr th:only-of-type {\n",
       "        vertical-align: middle;\n",
       "    }\n",
       "\n",
       "    .dataframe tbody tr th {\n",
       "        vertical-align: top;\n",
       "    }\n",
       "\n",
       "    .dataframe thead th {\n",
       "        text-align: right;\n",
       "    }\n",
       "</style>\n",
       "<table border=\"1\" class=\"dataframe\">\n",
       "  <thead>\n",
       "    <tr style=\"text-align: right;\">\n",
       "      <th></th>\n",
       "      <th>method</th>\n",
       "      <th>value</th>\n",
       "    </tr>\n",
       "  </thead>\n",
       "  <tbody>\n",
       "    <tr>\n",
       "      <th>0</th>\n",
       "      <td>d1_XZ</td>\n",
       "      <td>4.290830</td>\n",
       "    </tr>\n",
       "    <tr>\n",
       "      <th>1</th>\n",
       "      <td>d2_XW</td>\n",
       "      <td>4.453872</td>\n",
       "    </tr>\n",
       "    <tr>\n",
       "      <th>2</th>\n",
       "      <td>d4</td>\n",
       "      <td>4.290830</td>\n",
       "    </tr>\n",
       "    <tr>\n",
       "      <th>3</th>\n",
       "      <td>d_DR</td>\n",
       "      <td>4.218969</td>\n",
       "    </tr>\n",
       "    <tr>\n",
       "      <th>4</th>\n",
       "      <td>d1_X</td>\n",
       "      <td>4.216405</td>\n",
       "    </tr>\n",
       "    <tr>\n",
       "      <th>5</th>\n",
       "      <td>d2_X</td>\n",
       "      <td>4.210019</td>\n",
       "    </tr>\n",
       "    <tr>\n",
       "      <th>6</th>\n",
       "      <td>dPESS</td>\n",
       "      <td>4.290830</td>\n",
       "    </tr>\n",
       "  </tbody>\n",
       "</table>\n",
       "</div>"
      ],
      "text/plain": [
       "  method     value\n",
       "0  d1_XZ  4.290830\n",
       "1  d2_XW  4.453872\n",
       "2     d4  4.290830\n",
       "3   d_DR  4.218969\n",
       "4   d1_X  4.216405\n",
       "5   d2_X  4.210019\n",
       "6  dPESS  4.290830"
      ]
     },
     "execution_count": 26,
     "metadata": {},
     "output_type": "execute_result"
    }
   ],
   "source": [
    "# Calculate Value\n",
    "v_d1_XZ = value_fun(p_d1_XZ,test[[\"A\"]],test[[\"Y\"]],test[[\"X0\",\"X1\"]],test[[\"U\"]])\n",
    "v_d2_XW = value_fun(p_d2_XW,test[[\"A\"]],test[[\"Y\"]],test[[\"X0\",\"X1\"]],test[[\"U\"]])\n",
    "v_d_DR  = value_fun(p_d_DR, test[[\"A\"]],test[[\"Y\"]],test[[\"X0\",\"X1\"]],test[[\"U\"]])\n",
    "v_d1_X  = value_fun(p_d1_X, test[[\"A\"]],test[[\"Y\"]],test[[\"X0\",\"X1\"]],test[[\"U\"]])\n",
    "v_d2_X  = value_fun(p_d2_X, test[[\"A\"]],test[[\"Y\"]],test[[\"X0\",\"X1\"]],test[[\"U\"]])\n",
    "if proxy.cv_d1_XZ > proxy.cv_d2_XW:\n",
    "    v_d4 = v_d1_XZ\n",
    "else:\n",
    "    v_d4 = v_d2_XW\n",
    "dPESS = max(proxy.qtl_value, key = lambda k: proxy.qtl_value[k])\n",
    "if dPESS == 'd1_XZ':\n",
    "    v_dPESS = v_d1_XZ\n",
    "elif dPESS == 'd1_X':\n",
    "    v_dPESS = v_d1_X\n",
    "elif dPESS == 'd2_XW':\n",
    "    v_dPESS = v_d2_XW\n",
    "elif dPESS == 'd2_X':\n",
    "    v_dPESS = v_d2_X\n",
    "else:\n",
    "    v_dPESS = v_d_DR\n",
    "\n",
    "# Table of values\n",
    "pd.DataFrame.from_dict({'method':['d1_XZ','d2_XW','d4','d_DR','d1_X','d2_X', 'dPESS'],\n",
    "                        'value':[v_d1_XZ,v_d2_XW,v_d4,v_d_DR,v_d1_X,v_d2_X, v_dPESS]})"
   ]
  },
  {
   "cell_type": "markdown",
   "metadata": {},
   "source": [
    "#### Confidence interval of $V(d_3^*)$"
   ]
  },
  {
   "cell_type": "code",
   "execution_count": 27,
   "metadata": {
    "execution": {
     "iopub.execute_input": "2022-03-03T22:14:03.420378Z",
     "iopub.status.busy": "2022-03-03T22:14:03.420003Z",
     "iopub.status.idle": "2022-03-03T22:14:11.977564Z",
     "shell.execute_reply": "2022-03-03T22:14:11.977157Z"
    }
   },
   "outputs": [
    {
     "data": {
      "text/plain": [
       "(4.029383450285143, 4.3666400451684195)"
      ]
     },
     "execution_count": 27,
     "metadata": {},
     "output_type": "execute_result"
    }
   ],
   "source": [
    "proxy = proxITR(A=train[[\"A\"]], X=train[[\"X0\",\"X1\",\"X2\",\"X3\",\"X4\",\"X5\",\"X6\",\"X7\",\"X8\",\"X9\"]], Z=train[[\"Z\"]], W=train[[\"W\"]], Y=train[[\"Y\"]], \n",
    "                god=True, d_X_opt = train[[\"GOR_X\"]])\n",
    "CI = proxy.eif_CI(gamma_f='auto', n_gamma_hs=10, n_alphas=20,\n",
    "            h_alpha_scales=[c for c in np.geomspace(0.5, 1e5, 20)],\n",
    "            q_alpha_scales=[c for c in np.geomspace(0.1, 1e3, 20)],\n",
    "            n_components=int(2*np.sqrt(samp_size)))\n",
    "CI"
   ]
  },
  {
   "cell_type": "code",
   "execution_count": 28,
   "metadata": {},
   "outputs": [
    {
     "data": {
      "text/plain": [
       "4.250354885754258"
      ]
     },
     "execution_count": 28,
     "metadata": {},
     "output_type": "execute_result"
    }
   ],
   "source": [
    "# V(d_3^*)\n",
    "value_fun(test[[\"GOR_X\"]].to_numpy(int).reshape(-1), test[[\"A\"]],test[[\"Y\"]],test[[\"X0\",\"X1\"]],test[[\"U\"]])"
   ]
  },
  {
   "cell_type": "markdown",
   "metadata": {},
   "source": [
    "### No noisy variables in $L$"
   ]
  },
  {
   "cell_type": "code",
   "execution_count": 29,
   "metadata": {
    "execution": {
     "iopub.execute_input": "2022-03-03T22:12:55.673325Z",
     "iopub.status.busy": "2022-03-03T22:12:55.672922Z",
     "iopub.status.idle": "2022-03-03T22:14:03.308404Z",
     "shell.execute_reply": "2022-03-03T22:14:03.308748Z"
    }
   },
   "outputs": [
    {
     "name": "stdout",
     "output_type": "stream",
     "text": [
      "d1_XZ\n",
      "rho:  [2.        1.        0.5       0.25      0.125     0.0625    0.03125\n",
      " 0.015625  0.0078125]\n",
      "value:  [4.364379  4.3467884 4.366391  4.3472257 4.357066  4.347789  4.3415213\n",
      " 4.3605943 4.3423157]\n",
      "rho_best: 0.5\n",
      "qtl_best: 4.346104717254638\n",
      "d2_XW\n",
      "rho:  [2.        1.        0.5       0.25      0.125     0.0625    0.03125\n",
      " 0.015625  0.0078125]\n",
      "value:  [4.2126339  4.25065518 4.2225391  4.15402895 4.20690765 4.27796796\n",
      " 4.23874077 4.23369821 4.30777825]\n",
      "rho_best: 0.0078125\n",
      "qtl_best: 4.24772349527454\n",
      "d_DR\n",
      "rho:  [2.        1.        0.5       0.25      0.125     0.0625    0.03125\n",
      " 0.015625  0.0078125]\n",
      "value:  [4.17805524 4.16813309 4.17937046 4.18420187 4.16603453 4.15891751\n",
      " 4.18177106 4.1890331  4.18679384]\n",
      "rho_best: 0.015625\n",
      "qtl_best: 4.153469099458004\n",
      "d1_X\n",
      "rho:  [2.        1.        0.5       0.25      0.125     0.0625    0.03125\n",
      " 0.015625  0.0078125]\n",
      "value:  [4.159342  4.151763  4.1709127 4.1756563 4.1920753 4.169508  4.1789255\n",
      " 4.1923294 4.182952 ]\n",
      "rho_best: 0.015625\n",
      "qtl_best: 4.156179618835449\n",
      "d2_X\n",
      "rho:  [2.        1.        0.5       0.25      0.125     0.0625    0.03125\n",
      " 0.015625  0.0078125]\n",
      "value:  [4.08790702 4.00441644 4.03143208 4.06514728 4.02004395 4.1323982\n",
      " 4.12265447 4.07111628 4.08895886]\n",
      "rho_best: 0.0625\n",
      "qtl_best: 4.089037615335383\n"
     ]
    }
   ],
   "source": [
    "rhos = np.power(2.,-np.arange(-1,8))\n",
    "proxy = proxITR(A=train[[\"A\"]], X=train[[\"X0\",\"X1\"]], Z=train[[\"Z\"]], W=train[[\"W\"]], Y=train[[\"Y\"]], \n",
    "learning_rate=0.1, n_epoch=2000, batch_size=300, opt='SGD', verbose=True, qtl=qtl)\n",
    "d1_XZ = proxy.fit_d1_XZ_cv(gamma_f='auto', n_gamma_hs=10, \n",
    "        alpha_scales=[c for c in np.geomspace(0.5, 1e5, 20)],\n",
    "        linearity=linearity, n_components=int(2*np.sqrt(samp_size)), rhos = rhos)\n",
    "p_d1_XZ = d1_XZ(test[[\"X0\",\"X1\",\"Z\"]])\n",
    "d2_XW = proxy.fit_d2_XW_cv(gamma_f='auto', n_gamma_hs=10, \n",
    "        alpha_scales=[c for c in np.geomspace(0.1, 1e3, 20)],\n",
    "        linearity=linearity, n_components=int(2*np.sqrt(samp_size)), rhos = rhos)\n",
    "p_d2_XW = d2_XW(test[[\"X0\",\"X1\",\"W\"]])\n",
    "d_DR  = proxy.fit_d_DR_cv(gamma_f='auto', n_gamma_hs=10, \n",
    "        h_alpha_scales=[c for c in np.geomspace(0.5, 1e5, 20)],\n",
    "        q_alpha_scales=[c for c in np.geomspace(0.1, 1e3, 20)],\n",
    "        linearity=linearity, n_components=int(2*np.sqrt(samp_size)), rhos = rhos)\n",
    "p_d_DR  = d_DR(test[[\"X0\",\"X1\"]])\n",
    "d1_X  = proxy.fit_d1_X_cv(gamma_f='auto', n_gamma_hs=10, \n",
    "        alpha_scales=[c for c in np.geomspace(0.5, 1e5, 20)],\n",
    "        linearity=linearity, n_components=int(2*np.sqrt(samp_size)), rhos = rhos)\n",
    "p_d1_X  = d1_X(test[[\"X0\",\"X1\"]])\n",
    "d2_X  = proxy.fit_d2_X_cv(gamma_f='auto', n_gamma_hs=10, \n",
    "        alpha_scales=[c for c in np.geomspace(0.1, 1e3, 20)],\n",
    "        linearity=linearity, n_components=int(2*np.sqrt(samp_size)), rhos = rhos)\n",
    "p_d2_X  = d2_X(test[[\"X0\",\"X1\"]])"
   ]
  },
  {
   "cell_type": "code",
   "execution_count": 30,
   "metadata": {
    "execution": {
     "iopub.execute_input": "2022-03-03T22:14:03.329938Z",
     "iopub.status.busy": "2022-03-03T22:14:03.329546Z",
     "iopub.status.idle": "2022-03-03T22:14:03.412512Z",
     "shell.execute_reply": "2022-03-03T22:14:03.412903Z"
    }
   },
   "outputs": [
    {
     "data": {
      "text/html": [
       "<div>\n",
       "<style scoped>\n",
       "    .dataframe tbody tr th:only-of-type {\n",
       "        vertical-align: middle;\n",
       "    }\n",
       "\n",
       "    .dataframe tbody tr th {\n",
       "        vertical-align: top;\n",
       "    }\n",
       "\n",
       "    .dataframe thead th {\n",
       "        text-align: right;\n",
       "    }\n",
       "</style>\n",
       "<table border=\"1\" class=\"dataframe\">\n",
       "  <thead>\n",
       "    <tr style=\"text-align: right;\">\n",
       "      <th></th>\n",
       "      <th>method</th>\n",
       "      <th>value</th>\n",
       "    </tr>\n",
       "  </thead>\n",
       "  <tbody>\n",
       "    <tr>\n",
       "      <th>0</th>\n",
       "      <td>d1_XZ</td>\n",
       "      <td>4.304451</td>\n",
       "    </tr>\n",
       "    <tr>\n",
       "      <th>1</th>\n",
       "      <td>d2_XW</td>\n",
       "      <td>4.380044</td>\n",
       "    </tr>\n",
       "    <tr>\n",
       "      <th>2</th>\n",
       "      <td>d4</td>\n",
       "      <td>4.304451</td>\n",
       "    </tr>\n",
       "    <tr>\n",
       "      <th>3</th>\n",
       "      <td>d_DR</td>\n",
       "      <td>4.216553</td>\n",
       "    </tr>\n",
       "    <tr>\n",
       "      <th>4</th>\n",
       "      <td>d1_X</td>\n",
       "      <td>4.197964</td>\n",
       "    </tr>\n",
       "    <tr>\n",
       "      <th>5</th>\n",
       "      <td>d2_X</td>\n",
       "      <td>4.133906</td>\n",
       "    </tr>\n",
       "    <tr>\n",
       "      <th>6</th>\n",
       "      <td>dPESS</td>\n",
       "      <td>4.304451</td>\n",
       "    </tr>\n",
       "  </tbody>\n",
       "</table>\n",
       "</div>"
      ],
      "text/plain": [
       "  method     value\n",
       "0  d1_XZ  4.304451\n",
       "1  d2_XW  4.380044\n",
       "2     d4  4.304451\n",
       "3   d_DR  4.216553\n",
       "4   d1_X  4.197964\n",
       "5   d2_X  4.133906\n",
       "6  dPESS  4.304451"
      ]
     },
     "execution_count": 30,
     "metadata": {},
     "output_type": "execute_result"
    }
   ],
   "source": [
    "# Calculate Value\n",
    "v_d1_XZ = value_fun(p_d1_XZ,test[[\"A\"]],test[[\"Y\"]],test[[\"X0\",\"X1\"]],test[[\"U\"]])\n",
    "v_d2_XW = value_fun(p_d2_XW,test[[\"A\"]],test[[\"Y\"]],test[[\"X0\",\"X1\"]],test[[\"U\"]])\n",
    "v_d_DR  = value_fun(p_d_DR, test[[\"A\"]],test[[\"Y\"]],test[[\"X0\",\"X1\"]],test[[\"U\"]])\n",
    "v_d1_X  = value_fun(p_d1_X, test[[\"A\"]],test[[\"Y\"]],test[[\"X0\",\"X1\"]],test[[\"U\"]])\n",
    "v_d2_X  = value_fun(p_d2_X, test[[\"A\"]],test[[\"Y\"]],test[[\"X0\",\"X1\"]],test[[\"U\"]])\n",
    "if proxy.cv_d1_XZ > proxy.cv_d2_XW:\n",
    "    v_d4 = v_d1_XZ\n",
    "else:\n",
    "    v_d4 = v_d2_XW\n",
    "dPESS = max(proxy.qtl_value, key = lambda k: proxy.qtl_value[k])\n",
    "if dPESS == 'd1_XZ':\n",
    "    v_dPESS = v_d1_XZ\n",
    "elif dPESS == 'd1_X':\n",
    "    v_dPESS = v_d1_X\n",
    "elif dPESS == 'd2_XW':\n",
    "    v_dPESS = v_d2_XW\n",
    "elif dPESS == 'd2_X':\n",
    "    v_dPESS = v_d2_X\n",
    "else:\n",
    "    v_dPESS = v_d_DR\n",
    "\n",
    "# Table of values\n",
    "pd.DataFrame.from_dict({'method':['d1_XZ','d2_XW','d4','d_DR','d1_X','d2_X', 'dPESS'],\n",
    "                        'value':[v_d1_XZ,v_d2_XW,v_d4,v_d_DR,v_d1_X,v_d2_X, v_dPESS]})"
   ]
  },
  {
   "cell_type": "markdown",
   "metadata": {},
   "source": [
    "## Scenario N2"
   ]
  },
  {
   "cell_type": "code",
   "execution_count": 31,
   "metadata": {
    "execution": {
     "iopub.execute_input": "2022-03-03T22:14:11.980525Z",
     "iopub.status.busy": "2022-03-03T22:14:11.980160Z",
     "iopub.status.idle": "2022-03-03T22:14:11.981924Z",
     "shell.execute_reply": "2022-03-03T22:14:11.981608Z"
    }
   },
   "outputs": [],
   "source": [
    "# Setting\n",
    "linearity    = 'nonlinear'\n",
    "Xonly        = 'X'\n",
    "# Selected quantile for dPESS\n",
    "qtl = 0.4"
   ]
  },
  {
   "cell_type": "code",
   "execution_count": 33,
   "metadata": {
    "execution": {
     "iopub.execute_input": "2022-03-03T22:14:11.993705Z",
     "iopub.status.busy": "2022-03-03T22:14:11.993342Z",
     "iopub.status.idle": "2022-03-03T22:14:12.422105Z",
     "shell.execute_reply": "2022-03-03T22:14:12.421721Z"
    }
   },
   "outputs": [
    {
     "data": {
      "text/plain": [
       "4.60435930503352"
      ]
     },
     "execution_count": 33,
     "metadata": {},
     "output_type": "execute_result"
    }
   ],
   "source": [
    "# Generate Test Data\n",
    "test = prox_data(500000, add_noise=False).gen_Y(linearity=linearity, Xonly = Xonly)\n",
    "value_fun(test[[\"GOR\"]].to_numpy(int).reshape(-1), test[[\"A\"]],test[[\"Y\"]],test[[\"X0\",\"X1\"]],test[[\"U\"]])"
   ]
  },
  {
   "cell_type": "code",
   "execution_count": 41,
   "metadata": {
    "execution": {
     "iopub.execute_input": "2022-03-03T22:14:12.433152Z",
     "iopub.status.busy": "2022-03-03T22:14:12.432751Z",
     "iopub.status.idle": "2022-03-03T22:14:12.435440Z",
     "shell.execute_reply": "2022-03-03T22:14:12.435128Z"
    }
   },
   "outputs": [],
   "source": [
    "# Generate Training Data\n",
    "samp_size = 2000\n",
    "train = prox_data(samp_size=samp_size, add_noise=True).gen_Y(linearity=linearity, Xonly = Xonly)"
   ]
  },
  {
   "cell_type": "markdown",
   "metadata": {},
   "source": [
    "### With 8 noisy variables in $L$"
   ]
  },
  {
   "cell_type": "code",
   "execution_count": 42,
   "metadata": {
    "execution": {
     "iopub.execute_input": "2022-03-03T22:14:12.447751Z",
     "iopub.status.busy": "2022-03-03T22:14:12.444408Z",
     "iopub.status.idle": "2022-03-03T22:15:17.168482Z",
     "shell.execute_reply": "2022-03-03T22:15:17.168811Z"
    }
   },
   "outputs": [
    {
     "name": "stdout",
     "output_type": "stream",
     "text": [
      "d1_XZ\n",
      "rho:  [2.        1.        0.5       0.25      0.125     0.0625    0.03125\n",
      " 0.015625  0.0078125]\n",
      "value:  [4.5255237 4.5340533 4.5370793 4.539077  4.5376635 4.538344  4.5404077\n",
      " 4.5405917 4.5388765]\n",
      "rho_best: 0.015625\n",
      "qtl_best: 4.526229286193848\n",
      "d2_XW\n",
      "rho:  [2.        1.        0.5       0.25      0.125     0.0625    0.03125\n",
      " 0.015625  0.0078125]\n",
      "value:  [4.4969357  4.47378898 4.47693317 4.39729138 4.43298152 4.43159366\n",
      " 4.35032925 4.40424452 4.28193355]\n",
      "rho_best: 2.0\n",
      "qtl_best: 4.468713090594857\n",
      "d_DR\n",
      "rho:  [2.        1.        0.5       0.25      0.125     0.0625    0.03125\n",
      " 0.015625  0.0078125]\n",
      "value:  [4.52904534 4.54462684 4.58692758 4.55576565 4.56011986 4.57399574\n",
      " 4.5692388  4.57850317 4.54197506]\n",
      "rho_best: 0.5\n",
      "qtl_best: 4.5204602507910145\n",
      "d1_X\n",
      "rho:  [2.        1.        0.5       0.25      0.125     0.0625    0.03125\n",
      " 0.015625  0.0078125]\n",
      "value:  [4.5265994 4.532241  4.5334644 4.5336294 4.531118  4.5330696 4.533219\n",
      " 4.533044  4.5326853]\n",
      "rho_best: 0.25\n",
      "qtl_best: 4.520444011688232\n",
      "d2_X\n",
      "rho:  [2.        1.        0.5       0.25      0.125     0.0625    0.03125\n",
      " 0.015625  0.0078125]\n",
      "value:  [4.39182947 4.28322401 4.32590471 4.26077991 4.21499068 4.2723384\n",
      " 4.13892888 4.21007158 4.31347649]\n",
      "rho_best: 2.0\n",
      "qtl_best: 4.438246024854448\n"
     ]
    }
   ],
   "source": [
    "rhos = np.power(2.,-np.arange(-1,8))\n",
    "proxy = proxITR(A=train[[\"A\"]], X=train[[\"X0\",\"X1\",\"X2\",\"X3\",\"X4\",\"X5\",\"X6\",\"X7\",\"X8\",\"X9\"]], Z=train[[\"Z\"]], W=train[[\"W\"]], Y=train[[\"Y\"]], \n",
    "learning_rate=0.1, n_epoch=2000, batch_size=300, opt='SGD', verbose=True, qtl=qtl)\n",
    "d1_XZ = proxy.fit_d1_XZ_cv(gamma_f='auto', n_gamma_hs=10, \n",
    "        alpha_scales=[c for c in np.geomspace(0.5, 1e5, 20)],\n",
    "        linearity=linearity, n_components=int(2*np.sqrt(samp_size)), rhos = rhos)\n",
    "p_d1_XZ = d1_XZ(test[[\"X0\",\"X1\",\"X2\",\"X3\",\"X4\",\"X5\",\"X6\",\"X7\",\"X8\",\"X9\",\"Z\"]])\n",
    "d2_XW = proxy.fit_d2_XW_cv(gamma_f='auto', n_gamma_hs=10, \n",
    "        alpha_scales=[c for c in np.geomspace(0.1, 1e3, 20)],\n",
    "        linearity=linearity, n_components=int(2*np.sqrt(samp_size)), rhos = rhos)\n",
    "p_d2_XW = d2_XW(test[[\"X0\",\"X1\",\"X2\",\"X3\",\"X4\",\"X5\",\"X6\",\"X7\",\"X8\",\"X9\",\"W\"]])\n",
    "d_DR  = proxy.fit_d_DR_cv(gamma_f='auto', n_gamma_hs=10, \n",
    "        h_alpha_scales=[c for c in np.geomspace(0.5, 1e5, 20)],\n",
    "        q_alpha_scales=[c for c in np.geomspace(0.1, 1e3, 20)],\n",
    "        linearity=linearity, n_components=int(2*np.sqrt(samp_size)), rhos = rhos)\n",
    "p_d_DR  = d_DR(test[[\"X0\",\"X1\",\"X2\",\"X3\",\"X4\",\"X5\",\"X6\",\"X7\",\"X8\",\"X9\"]])\n",
    "d1_X  = proxy.fit_d1_X_cv(gamma_f='auto', n_gamma_hs=10, \n",
    "        alpha_scales=[c for c in np.geomspace(0.5, 1e5, 20)],\n",
    "        linearity=linearity, n_components=int(2*np.sqrt(samp_size)), rhos = rhos)\n",
    "p_d1_X  = d1_X(test[[\"X0\",\"X1\",\"X2\",\"X3\",\"X4\",\"X5\",\"X6\",\"X7\",\"X8\",\"X9\"]])\n",
    "d2_X  = proxy.fit_d2_X_cv(gamma_f='auto', n_gamma_hs=10, \n",
    "        alpha_scales=[c for c in np.geomspace(0.1, 1e3, 20)],\n",
    "        linearity=linearity, n_components=int(2*np.sqrt(samp_size)), rhos = rhos)\n",
    "p_d2_X  = d2_X(test[[\"X0\",\"X1\",\"X2\",\"X3\",\"X4\",\"X5\",\"X6\",\"X7\",\"X8\",\"X9\"]])"
   ]
  },
  {
   "cell_type": "code",
   "execution_count": 43,
   "metadata": {
    "execution": {
     "iopub.execute_input": "2022-03-03T22:15:17.181812Z",
     "iopub.status.busy": "2022-03-03T22:15:17.181412Z",
     "iopub.status.idle": "2022-03-03T22:15:17.268908Z",
     "shell.execute_reply": "2022-03-03T22:15:17.269293Z"
    }
   },
   "outputs": [
    {
     "data": {
      "text/html": [
       "<div>\n",
       "<style scoped>\n",
       "    .dataframe tbody tr th:only-of-type {\n",
       "        vertical-align: middle;\n",
       "    }\n",
       "\n",
       "    .dataframe tbody tr th {\n",
       "        vertical-align: top;\n",
       "    }\n",
       "\n",
       "    .dataframe thead th {\n",
       "        text-align: right;\n",
       "    }\n",
       "</style>\n",
       "<table border=\"1\" class=\"dataframe\">\n",
       "  <thead>\n",
       "    <tr style=\"text-align: right;\">\n",
       "      <th></th>\n",
       "      <th>method</th>\n",
       "      <th>value</th>\n",
       "    </tr>\n",
       "  </thead>\n",
       "  <tbody>\n",
       "    <tr>\n",
       "      <th>0</th>\n",
       "      <td>d1_XZ</td>\n",
       "      <td>4.602774</td>\n",
       "    </tr>\n",
       "    <tr>\n",
       "      <th>1</th>\n",
       "      <td>d2_XW</td>\n",
       "      <td>4.546749</td>\n",
       "    </tr>\n",
       "    <tr>\n",
       "      <th>2</th>\n",
       "      <td>d4</td>\n",
       "      <td>4.602774</td>\n",
       "    </tr>\n",
       "    <tr>\n",
       "      <th>3</th>\n",
       "      <td>d_DR</td>\n",
       "      <td>4.555626</td>\n",
       "    </tr>\n",
       "    <tr>\n",
       "      <th>4</th>\n",
       "      <td>d1_X</td>\n",
       "      <td>4.570476</td>\n",
       "    </tr>\n",
       "    <tr>\n",
       "      <th>5</th>\n",
       "      <td>d2_X</td>\n",
       "      <td>4.547743</td>\n",
       "    </tr>\n",
       "    <tr>\n",
       "      <th>6</th>\n",
       "      <td>dPESS</td>\n",
       "      <td>4.602774</td>\n",
       "    </tr>\n",
       "  </tbody>\n",
       "</table>\n",
       "</div>"
      ],
      "text/plain": [
       "  method     value\n",
       "0  d1_XZ  4.602774\n",
       "1  d2_XW  4.546749\n",
       "2     d4  4.602774\n",
       "3   d_DR  4.555626\n",
       "4   d1_X  4.570476\n",
       "5   d2_X  4.547743\n",
       "6  dPESS  4.602774"
      ]
     },
     "execution_count": 43,
     "metadata": {},
     "output_type": "execute_result"
    }
   ],
   "source": [
    "# Calculate Value\n",
    "v_d1_XZ = value_fun(p_d1_XZ,test[[\"A\"]],test[[\"Y\"]],test[[\"X0\",\"X1\"]],test[[\"U\"]])\n",
    "v_d2_XW = value_fun(p_d2_XW,test[[\"A\"]],test[[\"Y\"]],test[[\"X0\",\"X1\"]],test[[\"U\"]])\n",
    "v_d_DR  = value_fun(p_d_DR, test[[\"A\"]],test[[\"Y\"]],test[[\"X0\",\"X1\"]],test[[\"U\"]])\n",
    "v_d1_X  = value_fun(p_d1_X, test[[\"A\"]],test[[\"Y\"]],test[[\"X0\",\"X1\"]],test[[\"U\"]])\n",
    "v_d2_X  = value_fun(p_d2_X, test[[\"A\"]],test[[\"Y\"]],test[[\"X0\",\"X1\"]],test[[\"U\"]])\n",
    "if proxy.cv_d1_XZ > proxy.cv_d2_XW:\n",
    "    v_d4 = v_d1_XZ\n",
    "else:\n",
    "    v_d4 = v_d2_XW\n",
    "dPESS = max(proxy.qtl_value, key = lambda k: proxy.qtl_value[k])\n",
    "if dPESS == 'd1_XZ':\n",
    "    v_dPESS = v_d1_XZ\n",
    "elif dPESS == 'd1_X':\n",
    "    v_dPESS = v_d1_X\n",
    "elif dPESS == 'd2_XW':\n",
    "    v_dPESS = v_d2_XW\n",
    "elif dPESS == 'd2_X':\n",
    "    v_dPESS = v_d2_X\n",
    "else:\n",
    "    v_dPESS = v_d_DR\n",
    "\n",
    "# Table of values\n",
    "pd.DataFrame.from_dict({'method':['d1_XZ','d2_XW','d4','d_DR','d1_X','d2_X', 'dPESS'],\n",
    "                        'value':[v_d1_XZ,v_d2_XW,v_d4,v_d_DR,v_d1_X,v_d2_X, v_dPESS]})"
   ]
  },
  {
   "cell_type": "markdown",
   "metadata": {},
   "source": [
    "#### Confidence interval of $V(d_3^*)$"
   ]
  },
  {
   "cell_type": "code",
   "execution_count": 44,
   "metadata": {
    "execution": {
     "iopub.execute_input": "2022-03-03T22:15:17.276692Z",
     "iopub.status.busy": "2022-03-03T22:15:17.276323Z",
     "iopub.status.idle": "2022-03-03T22:15:25.189329Z",
     "shell.execute_reply": "2022-03-03T22:15:25.188999Z"
    }
   },
   "outputs": [
    {
     "data": {
      "text/plain": [
       "(4.417750435385084, 4.804429725383926)"
      ]
     },
     "execution_count": 44,
     "metadata": {},
     "output_type": "execute_result"
    }
   ],
   "source": [
    "proxy = proxITR(A=train[[\"A\"]], X=train[[\"X0\",\"X1\",\"X2\",\"X3\",\"X4\",\"X5\",\"X6\",\"X7\",\"X8\",\"X9\"]], Z=train[[\"Z\"]], W=train[[\"W\"]], Y=train[[\"Y\"]], \n",
    "                god=True, d_X_opt = train[[\"GOR_X\"]])\n",
    "CI = proxy.eif_CI(gamma_f='auto', n_gamma_hs=10, n_alphas=20,\n",
    "            h_alpha_scales=[c for c in np.geomspace(0.5, 1e5, 20)],\n",
    "            q_alpha_scales=[c for c in np.geomspace(0.1, 1e3, 20)],\n",
    "            n_components=int(2*np.sqrt(samp_size)))\n",
    "CI"
   ]
  },
  {
   "cell_type": "code",
   "execution_count": 45,
   "metadata": {},
   "outputs": [
    {
     "data": {
      "text/plain": [
       "4.60435930503352"
      ]
     },
     "execution_count": 45,
     "metadata": {},
     "output_type": "execute_result"
    }
   ],
   "source": [
    "# V(d_3^*)\n",
    "value_fun(test[[\"GOR_X\"]].to_numpy(int).reshape(-1), test[[\"A\"]],test[[\"Y\"]],test[[\"X0\",\"X1\"]],test[[\"U\"]])"
   ]
  },
  {
   "cell_type": "markdown",
   "metadata": {},
   "source": [
    "### No noisy variables in $L$"
   ]
  },
  {
   "cell_type": "code",
   "execution_count": 39,
   "metadata": {
    "execution": {
     "iopub.execute_input": "2022-03-03T22:14:12.447751Z",
     "iopub.status.busy": "2022-03-03T22:14:12.444408Z",
     "iopub.status.idle": "2022-03-03T22:15:17.168482Z",
     "shell.execute_reply": "2022-03-03T22:15:17.168811Z"
    }
   },
   "outputs": [
    {
     "name": "stdout",
     "output_type": "stream",
     "text": [
      "d1_XZ\n",
      "rho:  [2.        1.        0.5       0.25      0.125     0.0625    0.03125\n",
      " 0.015625  0.0078125]\n",
      "value:  [4.438733  4.4422164 4.446004  4.44682   4.44615   4.4492474 4.448072\n",
      " 4.446369  4.449357 ]\n",
      "rho_best: 0.0078125\n",
      "qtl_best: 4.432885456085205\n",
      "d2_XW\n",
      "rho:  [2.        1.        0.5       0.25      0.125     0.0625    0.03125\n",
      " 0.015625  0.0078125]\n",
      "value:  [4.35677946 4.3601676  4.33068293 4.34075112 4.42459624 4.3706139\n",
      " 4.35615776 4.44076871 4.30313906]\n",
      "rho_best: 0.015625\n",
      "qtl_best: 4.3489978350157354\n",
      "d_DR\n",
      "rho:  [2.        1.        0.5       0.25      0.125     0.0625    0.03125\n",
      " 0.015625  0.0078125]\n",
      "value:  [4.25001601 4.32931601 4.34887609 4.35236831 4.33712042 4.31970512\n",
      " 4.31491592 4.32197856 4.32306092]\n",
      "rho_best: 0.25\n",
      "qtl_best: 4.335475639134442\n",
      "d1_X\n",
      "rho:  [2.        1.        0.5       0.25      0.125     0.0625    0.03125\n",
      " 0.015625  0.0078125]\n",
      "value:  [4.4376044 4.4415865 4.439994  4.4403553 4.4398413 4.4428883 4.441358\n",
      " 4.4418435 4.441231 ]\n",
      "rho_best: 0.0625\n",
      "qtl_best: 4.422850131988525\n",
      "d2_X\n",
      "rho:  [2.        1.        0.5       0.25      0.125     0.0625    0.03125\n",
      " 0.015625  0.0078125]\n",
      "value:  [4.39316647 4.50316307 4.41723988 4.31407064 4.36439026 4.39164741\n",
      " 4.32946844 4.34587512 4.43209806]\n",
      "rho_best: 1.0\n",
      "qtl_best: 4.3882264160895135\n"
     ]
    }
   ],
   "source": [
    "rhos = np.power(2.,-np.arange(-1,8))\n",
    "proxy = proxITR(A=train[[\"A\"]], X=train[[\"X0\",\"X1\"]], Z=train[[\"Z\"]], W=train[[\"W\"]], Y=train[[\"Y\"]], \n",
    "learning_rate=0.1, n_epoch=2000, batch_size=300, opt='SGD', verbose=True, qtl=qtl)\n",
    "d1_XZ = proxy.fit_d1_XZ_cv(gamma_f='auto', n_gamma_hs=10, \n",
    "        alpha_scales=[c for c in np.geomspace(0.5, 1e5, 20)],\n",
    "        linearity=linearity, n_components=int(2*np.sqrt(samp_size)), rhos = rhos)\n",
    "p_d1_XZ = d1_XZ(test[[\"X0\",\"X1\",\"Z\"]])\n",
    "d2_XW = proxy.fit_d2_XW_cv(gamma_f='auto', n_gamma_hs=10, \n",
    "        alpha_scales=[c for c in np.geomspace(0.1, 1e3, 20)],\n",
    "        linearity=linearity, n_components=int(2*np.sqrt(samp_size)), rhos = rhos)\n",
    "p_d2_XW = d2_XW(test[[\"X0\",\"X1\",\"W\"]])\n",
    "d_DR  = proxy.fit_d_DR_cv(gamma_f='auto', n_gamma_hs=10, \n",
    "        h_alpha_scales=[c for c in np.geomspace(0.5, 1e5, 20)],\n",
    "        q_alpha_scales=[c for c in np.geomspace(0.1, 1e3, 20)],\n",
    "        linearity=linearity, n_components=int(2*np.sqrt(samp_size)), rhos = rhos)\n",
    "p_d_DR  = d_DR(test[[\"X0\",\"X1\"]])\n",
    "d1_X  = proxy.fit_d1_X_cv(gamma_f='auto', n_gamma_hs=10, \n",
    "        alpha_scales=[c for c in np.geomspace(0.5, 1e5, 20)],\n",
    "        linearity=linearity, n_components=int(2*np.sqrt(samp_size)), rhos = rhos)\n",
    "p_d1_X  = d1_X(test[[\"X0\",\"X1\"]])\n",
    "d2_X  = proxy.fit_d2_X_cv(gamma_f='auto', n_gamma_hs=10, \n",
    "        alpha_scales=[c for c in np.geomspace(0.1, 1e3, 20)],\n",
    "        linearity=linearity, n_components=int(2*np.sqrt(samp_size)), rhos = rhos)\n",
    "p_d2_X  = d2_X(test[[\"X0\",\"X1\"]])"
   ]
  },
  {
   "cell_type": "code",
   "execution_count": 40,
   "metadata": {
    "execution": {
     "iopub.execute_input": "2022-03-03T22:15:17.181812Z",
     "iopub.status.busy": "2022-03-03T22:15:17.181412Z",
     "iopub.status.idle": "2022-03-03T22:15:17.268908Z",
     "shell.execute_reply": "2022-03-03T22:15:17.269293Z"
    }
   },
   "outputs": [
    {
     "data": {
      "text/html": [
       "<div>\n",
       "<style scoped>\n",
       "    .dataframe tbody tr th:only-of-type {\n",
       "        vertical-align: middle;\n",
       "    }\n",
       "\n",
       "    .dataframe tbody tr th {\n",
       "        vertical-align: top;\n",
       "    }\n",
       "\n",
       "    .dataframe thead th {\n",
       "        text-align: right;\n",
       "    }\n",
       "</style>\n",
       "<table border=\"1\" class=\"dataframe\">\n",
       "  <thead>\n",
       "    <tr style=\"text-align: right;\">\n",
       "      <th></th>\n",
       "      <th>method</th>\n",
       "      <th>value</th>\n",
       "    </tr>\n",
       "  </thead>\n",
       "  <tbody>\n",
       "    <tr>\n",
       "      <th>0</th>\n",
       "      <td>d1_XZ</td>\n",
       "      <td>4.614229</td>\n",
       "    </tr>\n",
       "    <tr>\n",
       "      <th>1</th>\n",
       "      <td>d2_XW</td>\n",
       "      <td>4.488250</td>\n",
       "    </tr>\n",
       "    <tr>\n",
       "      <th>2</th>\n",
       "      <td>d4</td>\n",
       "      <td>4.614229</td>\n",
       "    </tr>\n",
       "    <tr>\n",
       "      <th>3</th>\n",
       "      <td>d_DR</td>\n",
       "      <td>4.566325</td>\n",
       "    </tr>\n",
       "    <tr>\n",
       "      <th>4</th>\n",
       "      <td>d1_X</td>\n",
       "      <td>4.568357</td>\n",
       "    </tr>\n",
       "    <tr>\n",
       "      <th>5</th>\n",
       "      <td>d2_X</td>\n",
       "      <td>4.524626</td>\n",
       "    </tr>\n",
       "    <tr>\n",
       "      <th>6</th>\n",
       "      <td>dPESS</td>\n",
       "      <td>4.614229</td>\n",
       "    </tr>\n",
       "  </tbody>\n",
       "</table>\n",
       "</div>"
      ],
      "text/plain": [
       "  method     value\n",
       "0  d1_XZ  4.614229\n",
       "1  d2_XW  4.488250\n",
       "2     d4  4.614229\n",
       "3   d_DR  4.566325\n",
       "4   d1_X  4.568357\n",
       "5   d2_X  4.524626\n",
       "6  dPESS  4.614229"
      ]
     },
     "execution_count": 40,
     "metadata": {},
     "output_type": "execute_result"
    }
   ],
   "source": [
    "# Calculate Value\n",
    "v_d1_XZ = value_fun(p_d1_XZ,test[[\"A\"]],test[[\"Y\"]],test[[\"X0\",\"X1\"]],test[[\"U\"]])\n",
    "v_d2_XW = value_fun(p_d2_XW,test[[\"A\"]],test[[\"Y\"]],test[[\"X0\",\"X1\"]],test[[\"U\"]])\n",
    "v_d_DR  = value_fun(p_d_DR, test[[\"A\"]],test[[\"Y\"]],test[[\"X0\",\"X1\"]],test[[\"U\"]])\n",
    "v_d1_X  = value_fun(p_d1_X, test[[\"A\"]],test[[\"Y\"]],test[[\"X0\",\"X1\"]],test[[\"U\"]])\n",
    "v_d2_X  = value_fun(p_d2_X, test[[\"A\"]],test[[\"Y\"]],test[[\"X0\",\"X1\"]],test[[\"U\"]])\n",
    "if proxy.cv_d1_XZ > proxy.cv_d2_XW:\n",
    "    v_d4 = v_d1_XZ\n",
    "else:\n",
    "    v_d4 = v_d2_XW\n",
    "dPESS = max(proxy.qtl_value, key = lambda k: proxy.qtl_value[k])\n",
    "if dPESS == 'd1_XZ':\n",
    "    v_dPESS = v_d1_XZ\n",
    "elif dPESS == 'd1_X':\n",
    "    v_dPESS = v_d1_X\n",
    "elif dPESS == 'd2_XW':\n",
    "    v_dPESS = v_d2_XW\n",
    "elif dPESS == 'd2_X':\n",
    "    v_dPESS = v_d2_X\n",
    "else:\n",
    "    v_dPESS = v_d_DR\n",
    "\n",
    "# Table of values\n",
    "pd.DataFrame.from_dict({'method':['d1_XZ','d2_XW','d4','d_DR','d1_X','d2_X', 'dPESS'],\n",
    "                        'value':[v_d1_XZ,v_d2_XW,v_d4,v_d_DR,v_d1_X,v_d2_X, v_dPESS]})"
   ]
  }
 ],
 "metadata": {
  "interpreter": {
   "hash": "b9bcd8cdc2bdb7a8887cb358e8d821a141d38f97891772cd8e4ff62edfd37598"
  },
  "kernelspec": {
   "display_name": "Python 3.9.2 64-bit ('proxITR': conda)",
   "language": "python",
   "name": "python3"
  },
  "language_info": {
   "codemirror_mode": {
    "name": "ipython",
    "version": 3
   },
   "file_extension": ".py",
   "mimetype": "text/x-python",
   "name": "python",
   "nbconvert_exporter": "python",
   "pygments_lexer": "ipython3",
   "version": "3.10.6"
  },
  "metadata": {
   "interpreter": {
    "hash": "8194bde729486d9e9ad3e66d209f7a7b7f6ea043ea5bfb0c9c84f6d6d89f5ac9"
   }
  }
 },
 "nbformat": 4,
 "nbformat_minor": 2
}
