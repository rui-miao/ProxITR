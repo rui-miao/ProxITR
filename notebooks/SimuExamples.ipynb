{
 "cells": [
  {
   "cell_type": "code",
   "execution_count": null,
   "metadata": {},
   "outputs": [],
   "source": [
    "import sys\n",
    "print(sys.executable) #check jupyter kernel\n",
    "import os\n",
    "module_path = os.path.abspath(os.path.join('..'))\n",
    "if module_path not in sys.path:\n",
    "    sys.path.append(module_path)"
   ]
  },
  {
   "cell_type": "code",
   "execution_count": 2,
   "metadata": {},
   "outputs": [],
   "source": [
    "from data.simu_setting import prox_data\n",
    "from src.proxITR import proxITR\n",
    "import numpy as np\n",
    "import pandas as pd\n",
    "import sklearn\n",
    "from sklearn.model_selection import train_test_split\n",
    "from sklearn.preprocessing import RobustScaler as Scaler\n",
    "from sklearn.kernel_approximation import Nystroem"
   ]
  },
  {
   "cell_type": "markdown",
   "metadata": {},
   "source": [
    "### Value Function"
   ]
  },
  {
   "cell_type": "code",
   "execution_count": 3,
   "metadata": {},
   "outputs": [],
   "source": [
    "def value_fun(d,A,Y,X,U):\n",
    "    A = A.to_numpy().reshape(-1)\n",
    "    Y = Y.to_numpy().reshape(-1)\n",
    "    U = U.to_numpy().reshape(-1)\n",
    "    X = X.to_numpy()\n",
    "    return np.mean((np.abs((np.sign(A-0.5)-d))<0.5)*Y*(1. + np.exp(np.sign(A-0.5)*(0.09375+X @ [0.1875, 0.1875] -0.25*U))))"
   ]
  },
  {
   "source": [
    "## Examples for Different Simulation Settings"
   ],
   "cell_type": "markdown",
   "metadata": {}
  },
  {
   "cell_type": "markdown",
   "metadata": {},
   "source": [
    "### L1, Assumption 10 holds"
   ]
  },
  {
   "source": [
    "# Setting\n",
    "linearity    = 'linear'\n",
    "indepOutProx = 'WindepY'\n",
    "Xonly        = 'XW'"
   ],
   "cell_type": "code",
   "metadata": {},
   "execution_count": 4,
   "outputs": []
  },
  {
   "cell_type": "code",
   "execution_count": 5,
   "metadata": {},
   "outputs": [
    {
     "output_type": "execute_result",
     "data": {
      "text/plain": [
       "4.821781763821496"
      ]
     },
     "metadata": {},
     "execution_count": 5
    }
   ],
   "source": [
    "# Generate Test Data\n",
    "test = prox_data(500000, add_noise=False).gen_Y(linearity=linearity, indepOutProx= indepOutProx, Xonly = Xonly)\n",
    "value_fun(test[[\"GOR\"]].to_numpy(int).reshape(-1), test[[\"A\"]],test[[\"Y\"]],test[[\"X0\",\"X1\"]],test[[\"U\"]])"
   ]
  },
  {
   "cell_type": "code",
   "execution_count": 6,
   "metadata": {},
   "outputs": [],
   "source": [
    "# Generate Training Data\n",
    "samp_size = 2000\n",
    "train = prox_data(samp_size=samp_size, add_noise=True).gen_Y(linearity=linearity, indepOutProx= indepOutProx, Xonly = Xonly)"
   ]
  },
  {
   "cell_type": "code",
   "execution_count": 7,
   "metadata": {},
   "outputs": [
    {
     "output_type": "stream",
     "name": "stdout",
     "text": [
      "d1_X\n",
      "rho:  [1.e-01 1.e-02 1.e-03 1.e-04 1.e-05]\n",
      "value:  [4.6199927 4.620571  4.6166573 4.6156683 4.6156683]\n",
      "rho_best: 0.01\n",
      "d1_XZ\n",
      "rho:  [1.e-01 1.e-02 1.e-03 1.e-04 1.e-05]\n",
      "value:  [4.632531  4.629891  4.63208   4.6317472 4.6321497]\n",
      "rho_best: 0.1\n",
      "d2_XW\n",
      "rho:  [1.e-01 1.e-02 1.e-03 1.e-04 1.e-05]\n",
      "value:  [4.69487389 4.75974807 4.72378523 4.72953349 4.73446469]\n",
      "rho_best: 0.01\n",
      "d3_X\n",
      "rho:  [1.e-01 1.e-02 1.e-03 1.e-04 1.e-05]\n",
      "value:  [4.4139306  4.65816047 4.64694045 4.64581986 4.65575417]\n",
      "rho_best: 0.01\n",
      "d_DR\n",
      "rho:  [1.e-01 1.e-02 1.e-03 1.e-04 1.e-05]\n",
      "value:  [4.39773466 4.50440144 4.52716255 4.53894663 4.51059279]\n",
      "rho_best: 0.0001\n"
     ]
    }
   ],
   "source": [
    "# Learn ITRs\n",
    "proxy = proxITR(A=train[[\"A\"]], X=train[[\"X0\",\"X1\",\"X2\"]], Z=train[[\"Z\"]], W=train[[\"W\"]], Y=train[[\"Y\"]], learning_rate=0.1, n_epoch=2000, opt='LBFGS', verbose=True)\n",
    "d1_X  = proxy.fit_d1_X_cv(gamma_f='auto', n_gamma_hs=10, linearity=linearity, n_components=int(2*np.sqrt(samp_size)), rhos = np.power(10.,-np.arange(1,6)))\n",
    "p_d1_X  = d1_X(test[[\"X0\",\"X1\",\"X2\"]])\n",
    "d1_XZ = proxy.fit_d1_XZ_cv(gamma_f='auto', n_gamma_hs=10, linearity=linearity, n_components=int(2*np.sqrt(samp_size)), rhos = np.power(10.,-np.arange(1,6)))\n",
    "p_d1_XZ = d1_XZ(test[[\"X0\",\"X1\",\"X2\",\"Z\"]])\n",
    "d2_XW = proxy.fit_d2_XW_cv(gamma_f='auto', n_gamma_hs=10, linearity=linearity, n_components=int(2*np.sqrt(samp_size)), rhos = np.power(10.,-np.arange(1,6)))\n",
    "p_d2_XW = d2_XW(test[[\"X0\",\"X1\",\"X2\",\"W\"]])\n",
    "d3_X  = proxy.fit_d3_X_cv(gamma_f='auto', n_gamma_hs=10, linearity=linearity, n_components=int(2*np.sqrt(samp_size)), rhos = np.power(10.,-np.arange(1,6)))\n",
    "p_d3_X  = d3_X(test[[\"X0\",\"X1\",\"X2\"]])\n",
    "d_DR  = proxy.fit_d_DR_cv(gamma_f='auto', n_gamma_hs=10, linearity=linearity, n_components=int(2*np.sqrt(samp_size)), rhos = np.power(10.,-np.arange(1,6)), learning_rate=0.01)\n",
    "p_d_DR  = d_DR(test[[\"X0\",\"X1\",\"X2\"]])"
   ]
  },
  {
   "cell_type": "code",
   "execution_count": 8,
   "metadata": {},
   "outputs": [
    {
     "output_type": "execute_result",
     "data": {
      "text/plain": [
       "  method     value\n",
       "0   d1_X  4.650971\n",
       "1  d1_XZ  4.776976\n",
       "2  d2_XW  4.693326\n",
       "3   d3_X  4.651836\n",
       "4   d_DR  4.637801\n",
       "5     d4  4.693326"
      ],
      "text/html": "<div>\n<style scoped>\n    .dataframe tbody tr th:only-of-type {\n        vertical-align: middle;\n    }\n\n    .dataframe tbody tr th {\n        vertical-align: top;\n    }\n\n    .dataframe thead th {\n        text-align: right;\n    }\n</style>\n<table border=\"1\" class=\"dataframe\">\n  <thead>\n    <tr style=\"text-align: right;\">\n      <th></th>\n      <th>method</th>\n      <th>value</th>\n    </tr>\n  </thead>\n  <tbody>\n    <tr>\n      <th>0</th>\n      <td>d1_X</td>\n      <td>4.650971</td>\n    </tr>\n    <tr>\n      <th>1</th>\n      <td>d1_XZ</td>\n      <td>4.776976</td>\n    </tr>\n    <tr>\n      <th>2</th>\n      <td>d2_XW</td>\n      <td>4.693326</td>\n    </tr>\n    <tr>\n      <th>3</th>\n      <td>d3_X</td>\n      <td>4.651836</td>\n    </tr>\n    <tr>\n      <th>4</th>\n      <td>d_DR</td>\n      <td>4.637801</td>\n    </tr>\n    <tr>\n      <th>5</th>\n      <td>d4</td>\n      <td>4.693326</td>\n    </tr>\n  </tbody>\n</table>\n</div>"
     },
     "metadata": {},
     "execution_count": 8
    }
   ],
   "source": [
    "# Calculate Value\n",
    "v_d1_X  = value_fun(p_d1_X, test[[\"A\"]],test[[\"Y\"]],test[[\"X0\",\"X1\"]],test[[\"U\"]])\n",
    "v_d1_XZ = value_fun(p_d1_XZ,test[[\"A\"]],test[[\"Y\"]],test[[\"X0\",\"X1\"]],test[[\"U\"]])\n",
    "v_d2_XW = value_fun(p_d2_XW,test[[\"A\"]],test[[\"Y\"]],test[[\"X0\",\"X1\"]],test[[\"U\"]])\n",
    "v_d3_X  = value_fun(p_d3_X, test[[\"A\"]],test[[\"Y\"]],test[[\"X0\",\"X1\"]],test[[\"U\"]])\n",
    "v_d_DR  = value_fun(p_d_DR, test[[\"A\"]],test[[\"Y\"]],test[[\"X0\",\"X1\"]],test[[\"U\"]])\n",
    "if proxy.cv_d1_XZ > proxy.cv_d2_XW:\n",
    "    v_d4 = v_d1_XZ\n",
    "else:\n",
    "    v_d4 = v_d2_XW\n",
    "pd.DataFrame.from_dict({'method':['d1_X','d1_XZ','d2_XW','d3_X','d_DR','d4'],\n",
    "                        'value':[v_d1_X,v_d1_XZ,v_d2_XW,v_d3_X,v_d_DR,v_d4]})"
   ]
  },
  {
   "source": [
    "### L1, Assumption 10 fails"
   ],
   "cell_type": "markdown",
   "metadata": {}
  },
  {
   "cell_type": "code",
   "execution_count": 9,
   "metadata": {},
   "outputs": [],
   "source": [
    "# Setting\n",
    "linearity    = 'linear'\n",
    "indepOutProx = 'WdepY'\n",
    "Xonly        = 'XW'"
   ]
  },
  {
   "cell_type": "code",
   "execution_count": 10,
   "metadata": {},
   "outputs": [
    {
     "output_type": "execute_result",
     "data": {
      "text/plain": [
       "4.83827125339926"
      ]
     },
     "metadata": {},
     "execution_count": 10
    }
   ],
   "source": [
    "# Generate Test Data\n",
    "test = prox_data(500000, add_noise=False).gen_Y(linearity=linearity, indepOutProx= indepOutProx, Xonly = Xonly)\n",
    "value_fun(test[[\"GOR\"]].to_numpy(int).reshape(-1), test[[\"A\"]],test[[\"Y\"]],test[[\"X0\",\"X1\"]],test[[\"U\"]])"
   ]
  },
  {
   "cell_type": "code",
   "execution_count": 11,
   "metadata": {},
   "outputs": [],
   "source": [
    "# Generate Training Data\n",
    "samp_size = 2000\n",
    "train = prox_data(samp_size=samp_size, add_noise=True).gen_Y(linearity=linearity, indepOutProx= indepOutProx, Xonly = Xonly)"
   ]
  },
  {
   "cell_type": "code",
   "execution_count": 12,
   "metadata": {},
   "outputs": [
    {
     "output_type": "stream",
     "name": "stdout",
     "text": [
      "d1_X\n",
      "rho:  [1.e-01 1.e-02 1.e-03 1.e-04 1.e-05]\n",
      "value:  [4.821906  4.8192954 4.818541  4.822725  4.8222136]\n",
      "rho_best: 0.0001\n",
      "d1_XZ\n",
      "rho:  [1.e-01 1.e-02 1.e-03 1.e-04 1.e-05]\n",
      "value:  [4.833283  4.8340816 4.838622  4.8381047 4.838045 ]\n",
      "rho_best: 0.001\n",
      "d2_XW\n",
      "rho:  [1.e-01 1.e-02 1.e-03 1.e-04 1.e-05]\n",
      "value:  [4.81301842 4.77651586 4.77425711 4.78162299 4.78430967]\n",
      "rho_best: 0.1\n",
      "d3_X\n",
      "rho:  [1.e-01 1.e-02 1.e-03 1.e-04 1.e-05]\n",
      "value:  [4.55759692 4.73673337 4.72354019 4.74214892 4.72640199]\n",
      "rho_best: 0.0001\n",
      "d_DR\n",
      "rho:  [1.e-01 1.e-02 1.e-03 1.e-04 1.e-05]\n",
      "value:  [4.73473551 4.80566572 4.79716629 4.80163369 4.80233798]\n",
      "rho_best: 0.01\n"
     ]
    }
   ],
   "source": [
    "# Learn ITRs\n",
    "proxy = proxITR(A=train[[\"A\"]], X=train[[\"X0\",\"X1\",\"X2\"]], Z=train[[\"Z\"]], W=train[[\"W\"]], Y=train[[\"Y\"]], learning_rate=0.1, n_epoch=2000, opt='LBFGS', verbose=True)\n",
    "d1_X  = proxy.fit_d1_X_cv(gamma_f='auto', n_gamma_hs=10, linearity=linearity, n_components=int(2*np.sqrt(samp_size)), rhos = np.power(10.,-np.arange(1,6)))\n",
    "p_d1_X  = d1_X(test[[\"X0\",\"X1\",\"X2\"]])\n",
    "d1_XZ = proxy.fit_d1_XZ_cv(gamma_f='auto', n_gamma_hs=10, linearity=linearity, n_components=int(2*np.sqrt(samp_size)), rhos = np.power(10.,-np.arange(1,6)))\n",
    "p_d1_XZ = d1_XZ(test[[\"X0\",\"X1\",\"X2\",\"Z\"]])\n",
    "d2_XW = proxy.fit_d2_XW_cv(gamma_f='auto', n_gamma_hs=10, linearity=linearity, n_components=int(2*np.sqrt(samp_size)), rhos = np.power(10.,-np.arange(1,6)))\n",
    "p_d2_XW = d2_XW(test[[\"X0\",\"X1\",\"X2\",\"W\"]])\n",
    "d3_X  = proxy.fit_d3_X_cv(gamma_f='auto', n_gamma_hs=10, linearity=linearity, n_components=int(2*np.sqrt(samp_size)), rhos = np.power(10.,-np.arange(1,6)))\n",
    "p_d3_X  = d3_X(test[[\"X0\",\"X1\",\"X2\"]])\n",
    "d_DR  = proxy.fit_d_DR_cv(gamma_f='auto', n_gamma_hs=10, linearity=linearity, n_components=int(2*np.sqrt(samp_size)), rhos = np.power(10.,-np.arange(1,6)), learning_rate=0.01)\n",
    "p_d_DR  = d_DR(test[[\"X0\",\"X1\",\"X2\"]])"
   ]
  },
  {
   "cell_type": "code",
   "execution_count": 13,
   "metadata": {},
   "outputs": [
    {
     "output_type": "execute_result",
     "data": {
      "text/plain": [
       "  method     value\n",
       "0   d1_X  4.677209\n",
       "1  d1_XZ  4.771229\n",
       "2  d2_XW  4.722843\n",
       "3   d3_X  4.682077\n",
       "4   d_DR  4.675412\n",
       "5     d4  4.771229"
      ],
      "text/html": "<div>\n<style scoped>\n    .dataframe tbody tr th:only-of-type {\n        vertical-align: middle;\n    }\n\n    .dataframe tbody tr th {\n        vertical-align: top;\n    }\n\n    .dataframe thead th {\n        text-align: right;\n    }\n</style>\n<table border=\"1\" class=\"dataframe\">\n  <thead>\n    <tr style=\"text-align: right;\">\n      <th></th>\n      <th>method</th>\n      <th>value</th>\n    </tr>\n  </thead>\n  <tbody>\n    <tr>\n      <th>0</th>\n      <td>d1_X</td>\n      <td>4.677209</td>\n    </tr>\n    <tr>\n      <th>1</th>\n      <td>d1_XZ</td>\n      <td>4.771229</td>\n    </tr>\n    <tr>\n      <th>2</th>\n      <td>d2_XW</td>\n      <td>4.722843</td>\n    </tr>\n    <tr>\n      <th>3</th>\n      <td>d3_X</td>\n      <td>4.682077</td>\n    </tr>\n    <tr>\n      <th>4</th>\n      <td>d_DR</td>\n      <td>4.675412</td>\n    </tr>\n    <tr>\n      <th>5</th>\n      <td>d4</td>\n      <td>4.771229</td>\n    </tr>\n  </tbody>\n</table>\n</div>"
     },
     "metadata": {},
     "execution_count": 13
    }
   ],
   "source": [
    "# Calculate Value\n",
    "v_d1_X  = value_fun(p_d1_X, test[[\"A\"]],test[[\"Y\"]],test[[\"X0\",\"X1\"]],test[[\"U\"]])\n",
    "v_d1_XZ = value_fun(p_d1_XZ,test[[\"A\"]],test[[\"Y\"]],test[[\"X0\",\"X1\"]],test[[\"U\"]])\n",
    "v_d2_XW = value_fun(p_d2_XW,test[[\"A\"]],test[[\"Y\"]],test[[\"X0\",\"X1\"]],test[[\"U\"]])\n",
    "v_d3_X  = value_fun(p_d3_X, test[[\"A\"]],test[[\"Y\"]],test[[\"X0\",\"X1\"]],test[[\"U\"]])\n",
    "v_d_DR  = value_fun(p_d_DR, test[[\"A\"]],test[[\"Y\"]],test[[\"X0\",\"X1\"]],test[[\"U\"]])\n",
    "if proxy.cv_d1_XZ > proxy.cv_d2_XW:\n",
    "    v_d4 = v_d1_XZ\n",
    "else:\n",
    "    v_d4 = v_d2_XW\n",
    "pd.DataFrame.from_dict({'method':['d1_X','d1_XZ','d2_XW','d3_X','d_DR','d4'],\n",
    "                        'value':[v_d1_X,v_d1_XZ,v_d2_XW,v_d3_X,v_d_DR,v_d4]})"
   ]
  },
  {
   "source": [
    "### L2, Assumption 10 holds"
   ],
   "cell_type": "markdown",
   "metadata": {}
  },
  {
   "cell_type": "code",
   "execution_count": 14,
   "metadata": {},
   "outputs": [],
   "source": [
    "# Setting\n",
    "linearity    = 'linear'\n",
    "indepOutProx = 'WindepY'\n",
    "Xonly        = 'X'"
   ]
  },
  {
   "cell_type": "code",
   "execution_count": 15,
   "metadata": {},
   "outputs": [
    {
     "output_type": "execute_result",
     "data": {
      "text/plain": [
       "6.184434626485812"
      ]
     },
     "metadata": {},
     "execution_count": 15
    }
   ],
   "source": [
    "# Generate Test Data\n",
    "test = prox_data(500000, add_noise=False).gen_Y(linearity=linearity, indepOutProx= indepOutProx, Xonly = Xonly)\n",
    "value_fun(test[[\"GOR\"]].to_numpy(int).reshape(-1), test[[\"A\"]],test[[\"Y\"]],test[[\"X0\",\"X1\"]],test[[\"U\"]])"
   ]
  },
  {
   "cell_type": "code",
   "execution_count": 16,
   "metadata": {},
   "outputs": [],
   "source": [
    "# Generate Training Data\n",
    "samp_size = 2000\n",
    "train = prox_data(samp_size=samp_size, add_noise=True).gen_Y(linearity=linearity, indepOutProx= indepOutProx, Xonly = Xonly)"
   ]
  },
  {
   "cell_type": "code",
   "execution_count": 17,
   "metadata": {},
   "outputs": [
    {
     "output_type": "stream",
     "name": "stdout",
     "text": [
      "d1_X\n",
      "rho:  [1.e-01 1.e-02 1.e-03 1.e-04 1.e-05]\n",
      "value:  [6.1722665 6.160823  6.1612873 6.1623726 6.161882 ]\n",
      "rho_best: 0.1\n",
      "d1_XZ\n",
      "rho:  [1.e-01 1.e-02 1.e-03 1.e-04 1.e-05]\n",
      "value:  [6.181573  6.1812096 6.1794796 6.1776013 6.1776013]\n",
      "rho_best: 0.1\n",
      "d2_XW\n",
      "rho:  [1.e-01 1.e-02 1.e-03 1.e-04 1.e-05]\n",
      "value:  [5.87849351 6.2441227  6.19932502 6.19981075 6.20428991]\n",
      "rho_best: 0.01\n",
      "d3_X\n",
      "rho:  [1.e-01 1.e-02 1.e-03 1.e-04 1.e-05]\n",
      "value:  [5.87849351 6.31321941 6.30763356 6.31503143 6.32378834]\n",
      "rho_best: 1e-05\n",
      "d_DR\n",
      "rho:  [1.e-01 1.e-02 1.e-03 1.e-04 1.e-05]\n",
      "value:  [6.07456526 6.12133585 6.109575   6.11026246 6.11409357]\n",
      "rho_best: 0.01\n"
     ]
    }
   ],
   "source": [
    "# Learn ITRs\n",
    "proxy = proxITR(A=train[[\"A\"]], X=train[[\"X0\",\"X1\",\"X2\"]], Z=train[[\"Z\"]], W=train[[\"W\"]], Y=train[[\"Y\"]], learning_rate=0.1, n_epoch=2000, opt='LBFGS', verbose=True)\n",
    "d1_X  = proxy.fit_d1_X_cv(gamma_f='auto', n_gamma_hs=10, linearity=linearity, n_components=int(2*np.sqrt(samp_size)), rhos = np.power(10.,-np.arange(1,6)))\n",
    "p_d1_X  = d1_X(test[[\"X0\",\"X1\",\"X2\"]])\n",
    "d1_XZ = proxy.fit_d1_XZ_cv(gamma_f='auto', n_gamma_hs=10, linearity=linearity, n_components=int(2*np.sqrt(samp_size)), rhos = np.power(10.,-np.arange(1,6)))\n",
    "p_d1_XZ = d1_XZ(test[[\"X0\",\"X1\",\"X2\",\"Z\"]])\n",
    "d2_XW = proxy.fit_d2_XW_cv(gamma_f='auto', n_gamma_hs=10, linearity=linearity, n_components=int(2*np.sqrt(samp_size)), rhos = np.power(10.,-np.arange(1,6)))\n",
    "p_d2_XW = d2_XW(test[[\"X0\",\"X1\",\"X2\",\"W\"]])\n",
    "d3_X  = proxy.fit_d3_X_cv(gamma_f='auto', n_gamma_hs=10, linearity=linearity, n_components=int(2*np.sqrt(samp_size)), rhos = np.power(10.,-np.arange(1,6)))\n",
    "p_d3_X  = d3_X(test[[\"X0\",\"X1\",\"X2\"]])\n",
    "d_DR  = proxy.fit_d_DR_cv(gamma_f='auto', n_gamma_hs=10, linearity=linearity, n_components=int(2*np.sqrt(samp_size)), rhos = np.power(10.,-np.arange(1,6)), learning_rate=0.01)\n",
    "p_d_DR  = d_DR(test[[\"X0\",\"X1\",\"X2\"]])"
   ]
  },
  {
   "cell_type": "code",
   "execution_count": 18,
   "metadata": {},
   "outputs": [
    {
     "output_type": "execute_result",
     "data": {
      "text/plain": [
       "  method     value\n",
       "0   d1_X  6.162302\n",
       "1  d1_XZ  6.211354\n",
       "2  d2_XW  6.157277\n",
       "3   d3_X  6.155118\n",
       "4   d_DR  6.147160\n",
       "5     d4  6.157277"
      ],
      "text/html": "<div>\n<style scoped>\n    .dataframe tbody tr th:only-of-type {\n        vertical-align: middle;\n    }\n\n    .dataframe tbody tr th {\n        vertical-align: top;\n    }\n\n    .dataframe thead th {\n        text-align: right;\n    }\n</style>\n<table border=\"1\" class=\"dataframe\">\n  <thead>\n    <tr style=\"text-align: right;\">\n      <th></th>\n      <th>method</th>\n      <th>value</th>\n    </tr>\n  </thead>\n  <tbody>\n    <tr>\n      <th>0</th>\n      <td>d1_X</td>\n      <td>6.162302</td>\n    </tr>\n    <tr>\n      <th>1</th>\n      <td>d1_XZ</td>\n      <td>6.211354</td>\n    </tr>\n    <tr>\n      <th>2</th>\n      <td>d2_XW</td>\n      <td>6.157277</td>\n    </tr>\n    <tr>\n      <th>3</th>\n      <td>d3_X</td>\n      <td>6.155118</td>\n    </tr>\n    <tr>\n      <th>4</th>\n      <td>d_DR</td>\n      <td>6.147160</td>\n    </tr>\n    <tr>\n      <th>5</th>\n      <td>d4</td>\n      <td>6.157277</td>\n    </tr>\n  </tbody>\n</table>\n</div>"
     },
     "metadata": {},
     "execution_count": 18
    }
   ],
   "source": [
    "# Calculate Value\n",
    "v_d1_X  = value_fun(p_d1_X, test[[\"A\"]],test[[\"Y\"]],test[[\"X0\",\"X1\"]],test[[\"U\"]])\n",
    "v_d1_XZ = value_fun(p_d1_XZ,test[[\"A\"]],test[[\"Y\"]],test[[\"X0\",\"X1\"]],test[[\"U\"]])\n",
    "v_d2_XW = value_fun(p_d2_XW,test[[\"A\"]],test[[\"Y\"]],test[[\"X0\",\"X1\"]],test[[\"U\"]])\n",
    "v_d3_X  = value_fun(p_d3_X, test[[\"A\"]],test[[\"Y\"]],test[[\"X0\",\"X1\"]],test[[\"U\"]])\n",
    "v_d_DR  = value_fun(p_d_DR, test[[\"A\"]],test[[\"Y\"]],test[[\"X0\",\"X1\"]],test[[\"U\"]])\n",
    "if proxy.cv_d1_XZ > proxy.cv_d2_XW:\n",
    "    v_d4 = v_d1_XZ\n",
    "else:\n",
    "    v_d4 = v_d2_XW\n",
    "pd.DataFrame.from_dict({'method':['d1_X','d1_XZ','d2_XW','d3_X','d_DR','d4'],\n",
    "                        'value':[v_d1_X,v_d1_XZ,v_d2_XW,v_d3_X,v_d_DR,v_d4]})"
   ]
  },
  {
   "source": [
    "### L2, Assumption 10 fails"
   ],
   "cell_type": "markdown",
   "metadata": {}
  },
  {
   "cell_type": "code",
   "execution_count": 19,
   "metadata": {},
   "outputs": [],
   "source": [
    "# Setting\n",
    "linearity    = 'linear'\n",
    "indepOutProx = 'WdepY'\n",
    "Xonly        = 'X'"
   ]
  },
  {
   "cell_type": "code",
   "execution_count": 20,
   "metadata": {},
   "outputs": [
    {
     "output_type": "execute_result",
     "data": {
      "text/plain": [
       "6.1655366102378295"
      ]
     },
     "metadata": {},
     "execution_count": 20
    }
   ],
   "source": [
    "# Generate Test Data\n",
    "test = prox_data(500000, add_noise=False).gen_Y(linearity=linearity, indepOutProx= indepOutProx, Xonly = Xonly)\n",
    "value_fun(test[[\"GOR\"]].to_numpy(int).reshape(-1), test[[\"A\"]],test[[\"Y\"]],test[[\"X0\",\"X1\"]],test[[\"U\"]])"
   ]
  },
  {
   "cell_type": "code",
   "execution_count": 21,
   "metadata": {},
   "outputs": [],
   "source": [
    "# Generate Training Data\n",
    "samp_size = 2000\n",
    "train = prox_data(samp_size=samp_size, add_noise=True).gen_Y(linearity=linearity, indepOutProx= indepOutProx, Xonly = Xonly)"
   ]
  },
  {
   "cell_type": "code",
   "execution_count": 22,
   "metadata": {},
   "outputs": [
    {
     "output_type": "stream",
     "name": "stdout",
     "text": [
      "d1_X\n",
      "rho:  [1.e-01 1.e-02 1.e-03 1.e-04 1.e-05]\n",
      "value:  [6.138482  6.1452875 6.146569  6.14742   6.147792 ]\n",
      "rho_best: 1e-05\n",
      "d1_XZ\n",
      "rho:  [1.e-01 1.e-02 1.e-03 1.e-04 1.e-05]\n",
      "value:  [6.1387854 6.144933  6.1451716 6.14682   6.146674 ]\n",
      "rho_best: 0.0001\n",
      "d2_XW\n",
      "rho:  [1.e-01 1.e-02 1.e-03 1.e-04 1.e-05]\n",
      "value:  [5.79736335 6.02528882 6.00128173 5.96028181 6.02061166]\n",
      "rho_best: 0.01\n",
      "d3_X\n",
      "rho:  [1.e-01 1.e-02 1.e-03 1.e-04 1.e-05]\n",
      "value:  [5.80035587 5.94738515 5.99370644 5.98606595 5.99587982]\n",
      "rho_best: 1e-05\n",
      "d_DR\n",
      "rho:  [1.e-01 1.e-02 1.e-03 1.e-04 1.e-05]\n",
      "value:  [6.10500359 6.10811508 6.10340724 6.10045115 6.09929773]\n",
      "rho_best: 0.01\n"
     ]
    }
   ],
   "source": [
    "# Learn ITRs\n",
    "proxy = proxITR(A=train[[\"A\"]], X=train[[\"X0\",\"X1\",\"X2\"]], Z=train[[\"Z\"]], W=train[[\"W\"]], Y=train[[\"Y\"]], learning_rate=0.1, n_epoch=2000, opt='LBFGS', verbose=True)\n",
    "d1_X  = proxy.fit_d1_X_cv(gamma_f='auto', n_gamma_hs=10, linearity=linearity, n_components=int(2*np.sqrt(samp_size)), rhos = np.power(10.,-np.arange(1,6)))\n",
    "p_d1_X  = d1_X(test[[\"X0\",\"X1\",\"X2\"]])\n",
    "d1_XZ = proxy.fit_d1_XZ_cv(gamma_f='auto', n_gamma_hs=10, linearity=linearity, n_components=int(2*np.sqrt(samp_size)), rhos = np.power(10.,-np.arange(1,6)))\n",
    "p_d1_XZ = d1_XZ(test[[\"X0\",\"X1\",\"X2\",\"Z\"]])\n",
    "d2_XW = proxy.fit_d2_XW_cv(gamma_f='auto', n_gamma_hs=10, linearity=linearity, n_components=int(2*np.sqrt(samp_size)), rhos = np.power(10.,-np.arange(1,6)))\n",
    "p_d2_XW = d2_XW(test[[\"X0\",\"X1\",\"X2\",\"W\"]])\n",
    "d3_X  = proxy.fit_d3_X_cv(gamma_f='auto', n_gamma_hs=10, linearity=linearity, n_components=int(2*np.sqrt(samp_size)), rhos = np.power(10.,-np.arange(1,6)))\n",
    "p_d3_X  = d3_X(test[[\"X0\",\"X1\",\"X2\"]])\n",
    "d_DR  = proxy.fit_d_DR_cv(gamma_f='auto', n_gamma_hs=10, linearity=linearity, n_components=int(2*np.sqrt(samp_size)), rhos = np.power(10.,-np.arange(1,6)), learning_rate=0.01)\n",
    "p_d_DR  = d_DR(test[[\"X0\",\"X1\",\"X2\"]])"
   ]
  },
  {
   "cell_type": "code",
   "execution_count": 23,
   "metadata": {},
   "outputs": [
    {
     "output_type": "execute_result",
     "data": {
      "text/plain": [
       "  method     value\n",
       "0   d1_X  6.149491\n",
       "1  d1_XZ  6.136608\n",
       "2  d2_XW  6.077733\n",
       "3   d3_X  6.078348\n",
       "4   d_DR  6.144255\n",
       "5     d4  6.136608"
      ],
      "text/html": "<div>\n<style scoped>\n    .dataframe tbody tr th:only-of-type {\n        vertical-align: middle;\n    }\n\n    .dataframe tbody tr th {\n        vertical-align: top;\n    }\n\n    .dataframe thead th {\n        text-align: right;\n    }\n</style>\n<table border=\"1\" class=\"dataframe\">\n  <thead>\n    <tr style=\"text-align: right;\">\n      <th></th>\n      <th>method</th>\n      <th>value</th>\n    </tr>\n  </thead>\n  <tbody>\n    <tr>\n      <th>0</th>\n      <td>d1_X</td>\n      <td>6.149491</td>\n    </tr>\n    <tr>\n      <th>1</th>\n      <td>d1_XZ</td>\n      <td>6.136608</td>\n    </tr>\n    <tr>\n      <th>2</th>\n      <td>d2_XW</td>\n      <td>6.077733</td>\n    </tr>\n    <tr>\n      <th>3</th>\n      <td>d3_X</td>\n      <td>6.078348</td>\n    </tr>\n    <tr>\n      <th>4</th>\n      <td>d_DR</td>\n      <td>6.144255</td>\n    </tr>\n    <tr>\n      <th>5</th>\n      <td>d4</td>\n      <td>6.136608</td>\n    </tr>\n  </tbody>\n</table>\n</div>"
     },
     "metadata": {},
     "execution_count": 23
    }
   ],
   "source": [
    "# Calculate Value\n",
    "v_d1_X  = value_fun(p_d1_X, test[[\"A\"]],test[[\"Y\"]],test[[\"X0\",\"X1\"]],test[[\"U\"]])\n",
    "v_d1_XZ = value_fun(p_d1_XZ,test[[\"A\"]],test[[\"Y\"]],test[[\"X0\",\"X1\"]],test[[\"U\"]])\n",
    "v_d2_XW = value_fun(p_d2_XW,test[[\"A\"]],test[[\"Y\"]],test[[\"X0\",\"X1\"]],test[[\"U\"]])\n",
    "v_d3_X  = value_fun(p_d3_X, test[[\"A\"]],test[[\"Y\"]],test[[\"X0\",\"X1\"]],test[[\"U\"]])\n",
    "v_d_DR  = value_fun(p_d_DR, test[[\"A\"]],test[[\"Y\"]],test[[\"X0\",\"X1\"]],test[[\"U\"]])\n",
    "if proxy.cv_d1_XZ > proxy.cv_d2_XW:\n",
    "    v_d4 = v_d1_XZ\n",
    "else:\n",
    "    v_d4 = v_d2_XW\n",
    "pd.DataFrame.from_dict({'method':['d1_X','d1_XZ','d2_XW','d3_X','d_DR','d4'],\n",
    "                        'value':[v_d1_X,v_d1_XZ,v_d2_XW,v_d3_X,v_d_DR,v_d4]})"
   ]
  },
  {
   "source": [
    "### N1, Assumption 10 holds"
   ],
   "cell_type": "markdown",
   "metadata": {}
  },
  {
   "cell_type": "code",
   "execution_count": 24,
   "metadata": {},
   "outputs": [],
   "source": [
    "# Setting\n",
    "linearity    = 'nonlinear'\n",
    "indepOutProx = 'WindepY'\n",
    "Xonly        = 'XW'"
   ]
  },
  {
   "cell_type": "code",
   "execution_count": 25,
   "metadata": {},
   "outputs": [
    {
     "output_type": "execute_result",
     "data": {
      "text/plain": [
       "4.869601683270521"
      ]
     },
     "metadata": {},
     "execution_count": 25
    }
   ],
   "source": [
    "# Generate Test Data\n",
    "test = prox_data(500000, add_noise=False).gen_Y(linearity=linearity, indepOutProx= indepOutProx, Xonly = Xonly)\n",
    "value_fun(test[[\"GOR\"]].to_numpy(int).reshape(-1), test[[\"A\"]],test[[\"Y\"]],test[[\"X0\",\"X1\"]],test[[\"U\"]])"
   ]
  },
  {
   "cell_type": "code",
   "execution_count": 26,
   "metadata": {},
   "outputs": [],
   "source": [
    "# Generate Training Data\n",
    "samp_size = 2000\n",
    "train = prox_data(samp_size=samp_size, add_noise=True).gen_Y(linearity=linearity, indepOutProx= indepOutProx, Xonly = Xonly)"
   ]
  },
  {
   "cell_type": "code",
   "execution_count": 27,
   "metadata": {},
   "outputs": [
    {
     "output_type": "stream",
     "name": "stdout",
     "text": [
      "d1_X\n",
      "rho:  [1.e-01 1.e-02 1.e-03 1.e-04 1.e-05]\n",
      "value:  [4.241563  4.225907  4.2017784 4.199397  4.2041225]\n",
      "rho_best: 0.1\n",
      "d1_XZ\n",
      "rho:  [1.e-01 1.e-02 1.e-03 1.e-04 1.e-05]\n",
      "value:  [4.3725405 4.375687  4.341916  4.3449464 4.3452387]\n",
      "rho_best: 0.01\n",
      "d2_XW\n",
      "rho:  [1.e-01 1.e-02 1.e-03 1.e-04 1.e-05]\n",
      "value:  [4.28426898 4.31679384 4.32546732 4.27950828 4.29533601]\n",
      "rho_best: 0.001\n",
      "d3_X\n",
      "rho:  [1.e-01 1.e-02 1.e-03 1.e-04 1.e-05]\n",
      "value:  [4.03926064 4.01211581 3.96293243 3.97098322 3.9958759 ]\n",
      "rho_best: 0.1\n",
      "d_DR\n",
      "rho:  [1.e-01 1.e-02 1.e-03 1.e-04 1.e-05]\n",
      "value:  [4.24081969 4.2445701  4.26305154 4.20272578 4.17363331]\n",
      "rho_best: 0.001\n"
     ]
    }
   ],
   "source": [
    "proxy = proxITR(A=train[[\"A\"]], X=train[[\"X0\",\"X1\",\"X2\"]], Z=train[[\"Z\"]], W=train[[\"W\"]], Y=train[[\"Y\"]], learning_rate=0.1, n_epoch=2000, batch_size=200, opt='SGD', verbose=True)\n",
    "d1_X  = proxy.fit_d1_X_cv(gamma_f='auto', n_gamma_hs=10, linearity=linearity, n_components=int(2*np.sqrt(samp_size)), rhos = np.power(10.,-np.arange(1,6)))\n",
    "p_d1_X  = d1_X(test[[\"X0\",\"X1\",\"X2\"]])\n",
    "d1_XZ = proxy.fit_d1_XZ_cv(gamma_f='auto', n_gamma_hs=10, linearity=linearity, n_components=int(2*np.sqrt(samp_size)), rhos = np.power(10.,-np.arange(1,6)))\n",
    "p_d1_XZ = d1_XZ(test[[\"X0\",\"X1\",\"X2\",\"Z\"]])\n",
    "d2_XW = proxy.fit_d2_XW_cv(gamma_f='auto', n_gamma_hs=10, linearity=linearity, n_components=int(2*np.sqrt(samp_size)), rhos = np.power(10.,-np.arange(1,6)))\n",
    "p_d2_XW = d2_XW(test[[\"X0\",\"X1\",\"X2\",\"W\"]])\n",
    "d3_X  = proxy.fit_d3_X_cv(gamma_f='auto', n_gamma_hs=10, linearity=linearity, n_components=int(2*np.sqrt(samp_size)), rhos = np.power(10.,-np.arange(1,6)))\n",
    "p_d3_X  = d3_X(test[[\"X0\",\"X1\",\"X2\"]])\n",
    "d_DR  = proxy.fit_d_DR_cv(gamma_f='auto', n_gamma_hs=10, linearity=linearity, n_components=int(2*np.sqrt(samp_size)), rhos = np.power(10.,-np.arange(1,6)))\n",
    "p_d_DR  = d_DR(test[[\"X0\",\"X1\",\"X2\"]])"
   ]
  },
  {
   "cell_type": "code",
   "execution_count": 28,
   "metadata": {},
   "outputs": [
    {
     "output_type": "execute_result",
     "data": {
      "text/plain": [
       "  method     value\n",
       "0   d1_X  4.208487\n",
       "1  d1_XZ  4.304459\n",
       "2  d2_XW  4.229064\n",
       "3   d3_X  4.152721\n",
       "4   d_DR  4.193878\n",
       "5     d4  4.304459"
      ],
      "text/html": "<div>\n<style scoped>\n    .dataframe tbody tr th:only-of-type {\n        vertical-align: middle;\n    }\n\n    .dataframe tbody tr th {\n        vertical-align: top;\n    }\n\n    .dataframe thead th {\n        text-align: right;\n    }\n</style>\n<table border=\"1\" class=\"dataframe\">\n  <thead>\n    <tr style=\"text-align: right;\">\n      <th></th>\n      <th>method</th>\n      <th>value</th>\n    </tr>\n  </thead>\n  <tbody>\n    <tr>\n      <th>0</th>\n      <td>d1_X</td>\n      <td>4.208487</td>\n    </tr>\n    <tr>\n      <th>1</th>\n      <td>d1_XZ</td>\n      <td>4.304459</td>\n    </tr>\n    <tr>\n      <th>2</th>\n      <td>d2_XW</td>\n      <td>4.229064</td>\n    </tr>\n    <tr>\n      <th>3</th>\n      <td>d3_X</td>\n      <td>4.152721</td>\n    </tr>\n    <tr>\n      <th>4</th>\n      <td>d_DR</td>\n      <td>4.193878</td>\n    </tr>\n    <tr>\n      <th>5</th>\n      <td>d4</td>\n      <td>4.304459</td>\n    </tr>\n  </tbody>\n</table>\n</div>"
     },
     "metadata": {},
     "execution_count": 28
    }
   ],
   "source": [
    "# Calculate Value\n",
    "v_d1_X  = value_fun(p_d1_X, test[[\"A\"]],test[[\"Y\"]],test[[\"X0\",\"X1\"]],test[[\"U\"]])\n",
    "v_d1_XZ = value_fun(p_d1_XZ,test[[\"A\"]],test[[\"Y\"]],test[[\"X0\",\"X1\"]],test[[\"U\"]])\n",
    "v_d2_XW = value_fun(p_d2_XW,test[[\"A\"]],test[[\"Y\"]],test[[\"X0\",\"X1\"]],test[[\"U\"]])\n",
    "v_d3_X  = value_fun(p_d3_X, test[[\"A\"]],test[[\"Y\"]],test[[\"X0\",\"X1\"]],test[[\"U\"]])\n",
    "v_d_DR  = value_fun(p_d_DR, test[[\"A\"]],test[[\"Y\"]],test[[\"X0\",\"X1\"]],test[[\"U\"]])\n",
    "if proxy.cv_d1_XZ > proxy.cv_d2_XW:\n",
    "    v_d4 = v_d1_XZ\n",
    "else:\n",
    "    v_d4 = v_d2_XW\n",
    "pd.DataFrame.from_dict({'method':['d1_X','d1_XZ','d2_XW','d3_X','d_DR','d4'],\n",
    "                        'value':[v_d1_X,v_d1_XZ,v_d2_XW,v_d3_X,v_d_DR,v_d4]})"
   ]
  },
  {
   "source": [
    "### N1, Assumption 10 fails"
   ],
   "cell_type": "markdown",
   "metadata": {}
  },
  {
   "cell_type": "code",
   "execution_count": 29,
   "metadata": {},
   "outputs": [],
   "source": [
    "# Setting\n",
    "linearity    = 'nonlinear'\n",
    "indepOutProx = 'WdepY'\n",
    "Xonly        = 'XW'"
   ]
  },
  {
   "cell_type": "code",
   "execution_count": 30,
   "metadata": {},
   "outputs": [
    {
     "output_type": "execute_result",
     "data": {
      "text/plain": [
       "4.874850908443785"
      ]
     },
     "metadata": {},
     "execution_count": 30
    }
   ],
   "source": [
    "# Generate Test Data\n",
    "test = prox_data(500000, add_noise=False).gen_Y(linearity=linearity, indepOutProx= indepOutProx, Xonly = Xonly)\n",
    "value_fun(test[[\"GOR\"]].to_numpy(int).reshape(-1), test[[\"A\"]],test[[\"Y\"]],test[[\"X0\",\"X1\"]],test[[\"U\"]])"
   ]
  },
  {
   "cell_type": "code",
   "execution_count": 31,
   "metadata": {},
   "outputs": [],
   "source": [
    "# Generate Training Data\n",
    "samp_size = 2000\n",
    "train = prox_data(samp_size=samp_size, add_noise=True).gen_Y(linearity=linearity, indepOutProx= indepOutProx, Xonly = Xonly)"
   ]
  },
  {
   "cell_type": "code",
   "execution_count": 32,
   "metadata": {},
   "outputs": [
    {
     "output_type": "stream",
     "name": "stdout",
     "text": [
      "d1_X\n",
      "rho:  [1.e-01 1.e-02 1.e-03 1.e-04 1.e-05]\n",
      "value:  [4.180254  4.186386  4.188185  4.1538887 4.158159 ]\n",
      "rho_best: 0.001\n",
      "d1_XZ\n",
      "rho:  [1.e-01 1.e-02 1.e-03 1.e-04 1.e-05]\n",
      "value:  [4.382603  4.3883386 4.4043045 4.3653617 4.37253  ]\n",
      "rho_best: 0.001\n",
      "d2_XW\n",
      "rho:  [1.e-01 1.e-02 1.e-03 1.e-04 1.e-05]\n",
      "value:  [4.25116586 4.25343246 4.19198985 4.22786002 4.24295947]\n",
      "rho_best: 0.01\n",
      "d3_X\n",
      "rho:  [1.e-01 1.e-02 1.e-03 1.e-04 1.e-05]\n",
      "value:  [4.08864948 4.12087624 4.08027184 4.096299   4.08724806]\n",
      "rho_best: 0.01\n",
      "d_DR\n",
      "rho:  [1.e-01 1.e-02 1.e-03 1.e-04 1.e-05]\n",
      "value:  [4.19199998 4.16319099 4.16298307 4.13728774 4.14298121]\n",
      "rho_best: 0.1\n"
     ]
    }
   ],
   "source": [
    "proxy = proxITR(A=train[[\"A\"]], X=train[[\"X0\",\"X1\",\"X2\"]], Z=train[[\"Z\"]], W=train[[\"W\"]], Y=train[[\"Y\"]], learning_rate=0.1, n_epoch=2000, batch_size=200, opt='SGD', verbose=True)\n",
    "d1_X  = proxy.fit_d1_X_cv(gamma_f='auto', n_gamma_hs=10, linearity=linearity, n_components=int(2*np.sqrt(samp_size)), rhos = np.power(10.,-np.arange(1,6)))\n",
    "p_d1_X  = d1_X(test[[\"X0\",\"X1\",\"X2\"]])\n",
    "d1_XZ = proxy.fit_d1_XZ_cv(gamma_f='auto', n_gamma_hs=10, linearity=linearity, n_components=int(2*np.sqrt(samp_size)), rhos = np.power(10.,-np.arange(1,6)))\n",
    "p_d1_XZ = d1_XZ(test[[\"X0\",\"X1\",\"X2\",\"Z\"]])\n",
    "d2_XW = proxy.fit_d2_XW_cv(gamma_f='auto', n_gamma_hs=10, linearity=linearity, n_components=int(2*np.sqrt(samp_size)), rhos = np.power(10.,-np.arange(1,6)))\n",
    "p_d2_XW = d2_XW(test[[\"X0\",\"X1\",\"X2\",\"W\"]])\n",
    "d3_X  = proxy.fit_d3_X_cv(gamma_f='auto', n_gamma_hs=10, linearity=linearity, n_components=int(2*np.sqrt(samp_size)), rhos = np.power(10.,-np.arange(1,6)))\n",
    "p_d3_X  = d3_X(test[[\"X0\",\"X1\",\"X2\"]])\n",
    "d_DR  = proxy.fit_d_DR_cv(gamma_f='auto', n_gamma_hs=10, linearity=linearity, n_components=int(2*np.sqrt(samp_size)), rhos = np.power(10.,-np.arange(1,6)))\n",
    "p_d_DR  = d_DR(test[[\"X0\",\"X1\",\"X2\"]])"
   ]
  },
  {
   "cell_type": "code",
   "execution_count": 33,
   "metadata": {},
   "outputs": [
    {
     "output_type": "execute_result",
     "data": {
      "text/plain": [
       "  method     value\n",
       "0   d1_X  4.195265\n",
       "1  d1_XZ  4.291929\n",
       "2  d2_XW  4.287518\n",
       "3   d3_X  4.128514\n",
       "4   d_DR  4.220117\n",
       "5     d4  4.291929"
      ],
      "text/html": "<div>\n<style scoped>\n    .dataframe tbody tr th:only-of-type {\n        vertical-align: middle;\n    }\n\n    .dataframe tbody tr th {\n        vertical-align: top;\n    }\n\n    .dataframe thead th {\n        text-align: right;\n    }\n</style>\n<table border=\"1\" class=\"dataframe\">\n  <thead>\n    <tr style=\"text-align: right;\">\n      <th></th>\n      <th>method</th>\n      <th>value</th>\n    </tr>\n  </thead>\n  <tbody>\n    <tr>\n      <th>0</th>\n      <td>d1_X</td>\n      <td>4.195265</td>\n    </tr>\n    <tr>\n      <th>1</th>\n      <td>d1_XZ</td>\n      <td>4.291929</td>\n    </tr>\n    <tr>\n      <th>2</th>\n      <td>d2_XW</td>\n      <td>4.287518</td>\n    </tr>\n    <tr>\n      <th>3</th>\n      <td>d3_X</td>\n      <td>4.128514</td>\n    </tr>\n    <tr>\n      <th>4</th>\n      <td>d_DR</td>\n      <td>4.220117</td>\n    </tr>\n    <tr>\n      <th>5</th>\n      <td>d4</td>\n      <td>4.291929</td>\n    </tr>\n  </tbody>\n</table>\n</div>"
     },
     "metadata": {},
     "execution_count": 33
    }
   ],
   "source": [
    "# Calculate Value\n",
    "v_d1_X  = value_fun(p_d1_X, test[[\"A\"]],test[[\"Y\"]],test[[\"X0\",\"X1\"]],test[[\"U\"]])\n",
    "v_d1_XZ = value_fun(p_d1_XZ,test[[\"A\"]],test[[\"Y\"]],test[[\"X0\",\"X1\"]],test[[\"U\"]])\n",
    "v_d2_XW = value_fun(p_d2_XW,test[[\"A\"]],test[[\"Y\"]],test[[\"X0\",\"X1\"]],test[[\"U\"]])\n",
    "v_d3_X  = value_fun(p_d3_X, test[[\"A\"]],test[[\"Y\"]],test[[\"X0\",\"X1\"]],test[[\"U\"]])\n",
    "v_d_DR  = value_fun(p_d_DR, test[[\"A\"]],test[[\"Y\"]],test[[\"X0\",\"X1\"]],test[[\"U\"]])\n",
    "if proxy.cv_d1_XZ > proxy.cv_d2_XW:\n",
    "    v_d4 = v_d1_XZ\n",
    "else:\n",
    "    v_d4 = v_d2_XW\n",
    "pd.DataFrame.from_dict({'method':['d1_X','d1_XZ','d2_XW','d3_X','d_DR','d4'],\n",
    "                        'value':[v_d1_X,v_d1_XZ,v_d2_XW,v_d3_X,v_d_DR,v_d4]})"
   ]
  },
  {
   "source": [
    "### N2, Assumption 10 holds"
   ],
   "cell_type": "markdown",
   "metadata": {}
  },
  {
   "cell_type": "code",
   "execution_count": 34,
   "metadata": {},
   "outputs": [],
   "source": [
    "# Setting\n",
    "linearity    = 'nonlinear'\n",
    "indepOutProx = 'WindepY'\n",
    "Xonly        = 'X'"
   ]
  },
  {
   "cell_type": "code",
   "execution_count": 35,
   "metadata": {},
   "outputs": [
    {
     "output_type": "execute_result",
     "data": {
      "text/plain": [
       "4.594705056662993"
      ]
     },
     "metadata": {},
     "execution_count": 35
    }
   ],
   "source": [
    "# Generate Test Data\n",
    "test = prox_data(500000, add_noise=False).gen_Y(linearity=linearity, indepOutProx= indepOutProx, Xonly = Xonly)\n",
    "value_fun(test[[\"GOR\"]].to_numpy(int).reshape(-1), test[[\"A\"]],test[[\"Y\"]],test[[\"X0\",\"X1\"]],test[[\"U\"]])"
   ]
  },
  {
   "cell_type": "code",
   "execution_count": 36,
   "metadata": {},
   "outputs": [],
   "source": [
    "# Generate Training Data\n",
    "samp_size = 2000\n",
    "train = prox_data(samp_size=samp_size, add_noise=True).gen_Y(linearity=linearity, indepOutProx= indepOutProx, Xonly = Xonly)"
   ]
  },
  {
   "cell_type": "code",
   "execution_count": 37,
   "metadata": {},
   "outputs": [
    {
     "output_type": "stream",
     "name": "stdout",
     "text": [
      "d1_X\n",
      "rho:  [1.e-01 1.e-02 1.e-03 1.e-04 1.e-05]\n",
      "value:  [4.6684628 4.6699    4.6683125 4.659698  4.6627827]\n",
      "rho_best: 0.01\n",
      "d1_XZ\n",
      "rho:  [1.e-01 1.e-02 1.e-03 1.e-04 1.e-05]\n",
      "value:  [4.684244  4.6841354 4.6926494 4.685613  4.682728 ]\n",
      "rho_best: 0.001\n",
      "d2_XW\n",
      "rho:  [1.e-01 1.e-02 1.e-03 1.e-04 1.e-05]\n",
      "value:  [4.40133253 4.39883021 4.4294202  4.53306437 4.48397412]\n",
      "rho_best: 0.0001\n",
      "d3_X\n",
      "rho:  [1.e-01 1.e-02 1.e-03 1.e-04 1.e-05]\n",
      "value:  [4.31879445 4.32138342 4.33485795 4.37505705 4.42874238]\n",
      "rho_best: 1e-05\n",
      "d_DR\n",
      "rho:  [1.e-01 1.e-02 1.e-03 1.e-04 1.e-05]\n",
      "value:  [4.41752935 4.43586425 4.39836469 4.37956475 4.35421008]\n",
      "rho_best: 0.01\n"
     ]
    }
   ],
   "source": [
    "proxy = proxITR(A=train[[\"A\"]], X=train[[\"X0\",\"X1\",\"X2\"]], Z=train[[\"Z\"]], W=train[[\"W\"]], Y=train[[\"Y\"]], learning_rate=0.1, n_epoch=2000, batch_size=200, opt='SGD', verbose=True)\n",
    "d1_X  = proxy.fit_d1_X_cv(gamma_f='auto', n_gamma_hs=10, linearity=linearity, n_components=int(2*np.sqrt(samp_size)), rhos = np.power(10.,-np.arange(1,6)))\n",
    "p_d1_X  = d1_X(test[[\"X0\",\"X1\",\"X2\"]])\n",
    "d1_XZ = proxy.fit_d1_XZ_cv(gamma_f='auto', n_gamma_hs=10, linearity=linearity, n_components=int(2*np.sqrt(samp_size)), rhos = np.power(10.,-np.arange(1,6)))\n",
    "p_d1_XZ = d1_XZ(test[[\"X0\",\"X1\",\"X2\",\"Z\"]])\n",
    "d2_XW = proxy.fit_d2_XW_cv(gamma_f='auto', n_gamma_hs=10, linearity=linearity, n_components=int(2*np.sqrt(samp_size)), rhos = np.power(10.,-np.arange(1,6)))\n",
    "p_d2_XW = d2_XW(test[[\"X0\",\"X1\",\"X2\",\"W\"]])\n",
    "d3_X  = proxy.fit_d3_X_cv(gamma_f='auto', n_gamma_hs=10, linearity=linearity, n_components=int(2*np.sqrt(samp_size)), rhos = np.power(10.,-np.arange(1,6)))\n",
    "p_d3_X  = d3_X(test[[\"X0\",\"X1\",\"X2\"]])\n",
    "d_DR  = proxy.fit_d_DR_cv(gamma_f='auto', n_gamma_hs=10, linearity=linearity, n_components=int(2*np.sqrt(samp_size)), rhos = np.power(10.,-np.arange(1,6)))\n",
    "p_d_DR  = d_DR(test[[\"X0\",\"X1\",\"X2\"]])"
   ]
  },
  {
   "cell_type": "code",
   "execution_count": 38,
   "metadata": {},
   "outputs": [
    {
     "output_type": "execute_result",
     "data": {
      "text/plain": [
       "  method     value\n",
       "0   d1_X  4.565069\n",
       "1  d1_XZ  4.441181\n",
       "2  d2_XW  4.472548\n",
       "3   d3_X  4.450704\n",
       "4   d_DR  4.533154\n",
       "5     d4  4.441181"
      ],
      "text/html": "<div>\n<style scoped>\n    .dataframe tbody tr th:only-of-type {\n        vertical-align: middle;\n    }\n\n    .dataframe tbody tr th {\n        vertical-align: top;\n    }\n\n    .dataframe thead th {\n        text-align: right;\n    }\n</style>\n<table border=\"1\" class=\"dataframe\">\n  <thead>\n    <tr style=\"text-align: right;\">\n      <th></th>\n      <th>method</th>\n      <th>value</th>\n    </tr>\n  </thead>\n  <tbody>\n    <tr>\n      <th>0</th>\n      <td>d1_X</td>\n      <td>4.565069</td>\n    </tr>\n    <tr>\n      <th>1</th>\n      <td>d1_XZ</td>\n      <td>4.441181</td>\n    </tr>\n    <tr>\n      <th>2</th>\n      <td>d2_XW</td>\n      <td>4.472548</td>\n    </tr>\n    <tr>\n      <th>3</th>\n      <td>d3_X</td>\n      <td>4.450704</td>\n    </tr>\n    <tr>\n      <th>4</th>\n      <td>d_DR</td>\n      <td>4.533154</td>\n    </tr>\n    <tr>\n      <th>5</th>\n      <td>d4</td>\n      <td>4.441181</td>\n    </tr>\n  </tbody>\n</table>\n</div>"
     },
     "metadata": {},
     "execution_count": 38
    }
   ],
   "source": [
    "# Calculate Value\n",
    "v_d1_X  = value_fun(p_d1_X, test[[\"A\"]],test[[\"Y\"]],test[[\"X0\",\"X1\"]],test[[\"U\"]])\n",
    "v_d1_XZ = value_fun(p_d1_XZ,test[[\"A\"]],test[[\"Y\"]],test[[\"X0\",\"X1\"]],test[[\"U\"]])\n",
    "v_d2_XW = value_fun(p_d2_XW,test[[\"A\"]],test[[\"Y\"]],test[[\"X0\",\"X1\"]],test[[\"U\"]])\n",
    "v_d3_X  = value_fun(p_d3_X, test[[\"A\"]],test[[\"Y\"]],test[[\"X0\",\"X1\"]],test[[\"U\"]])\n",
    "v_d_DR  = value_fun(p_d_DR, test[[\"A\"]],test[[\"Y\"]],test[[\"X0\",\"X1\"]],test[[\"U\"]])\n",
    "if proxy.cv_d1_XZ > proxy.cv_d2_XW:\n",
    "    v_d4 = v_d1_XZ\n",
    "else:\n",
    "    v_d4 = v_d2_XW\n",
    "pd.DataFrame.from_dict({'method':['d1_X','d1_XZ','d2_XW','d3_X','d_DR','d4'],\n",
    "                        'value':[v_d1_X,v_d1_XZ,v_d2_XW,v_d3_X,v_d_DR,v_d4]})"
   ]
  },
  {
   "source": [
    "### N2, Assumption 10 fails"
   ],
   "cell_type": "markdown",
   "metadata": {}
  },
  {
   "cell_type": "code",
   "execution_count": 39,
   "metadata": {},
   "outputs": [],
   "source": [
    "# Setting\n",
    "linearity    = 'nonlinear'\n",
    "indepOutProx = 'WdepY'\n",
    "Xonly        = 'X'"
   ]
  },
  {
   "cell_type": "code",
   "execution_count": 40,
   "metadata": {},
   "outputs": [
    {
     "output_type": "execute_result",
     "data": {
      "text/plain": [
       "4.614626155350836"
      ]
     },
     "metadata": {},
     "execution_count": 40
    }
   ],
   "source": [
    "# Generate Test Data\n",
    "test = prox_data(500000, add_noise=False).gen_Y(linearity=linearity, indepOutProx= indepOutProx, Xonly = Xonly)\n",
    "value_fun(test[[\"GOR\"]].to_numpy(int).reshape(-1), test[[\"A\"]],test[[\"Y\"]],test[[\"X0\",\"X1\"]],test[[\"U\"]])"
   ]
  },
  {
   "cell_type": "code",
   "execution_count": 41,
   "metadata": {},
   "outputs": [
    {
     "output_type": "stream",
     "name": "stdout",
     "text": [
      "d1_X\n",
      "rho:  [1.e-01 1.e-02 1.e-03 1.e-04 1.e-05]\n",
      "value:  [4.6738777 4.6665425 4.672474  4.6639752 4.658164 ]\n",
      "rho_best: 0.1\n",
      "d1_XZ\n",
      "rho:  [1.e-01 1.e-02 1.e-03 1.e-04 1.e-05]\n",
      "value:  [4.697095  4.685781  4.6937284 4.6809034 4.6842465]\n",
      "rho_best: 0.1\n",
      "d2_XW\n",
      "rho:  [1.e-01 1.e-02 1.e-03 1.e-04 1.e-05]\n",
      "value:  [4.41575689 4.50141368 4.44443955 4.49868504 4.50019947]\n",
      "rho_best: 0.01\n",
      "d3_X\n",
      "rho:  [1.e-01 1.e-02 1.e-03 1.e-04 1.e-05]\n",
      "value:  [4.31170609 4.33214946 4.36974403 4.34463265 4.40702808]\n",
      "rho_best: 1e-05\n",
      "d_DR\n",
      "rho:  [1.e-01 1.e-02 1.e-03 1.e-04 1.e-05]\n",
      "value:  [4.4479797  4.41102671 4.42644016 4.38523492 4.36829802]\n",
      "rho_best: 0.1\n"
     ]
    }
   ],
   "source": [
    "proxy = proxITR(A=train[[\"A\"]], X=train[[\"X0\",\"X1\",\"X2\"]], Z=train[[\"Z\"]], W=train[[\"W\"]], Y=train[[\"Y\"]], learning_rate=0.1, n_epoch=2000, batch_size=200, opt='SGD', verbose=True)\n",
    "d1_X  = proxy.fit_d1_X_cv(gamma_f='auto', n_gamma_hs=10, linearity=linearity, n_components=int(2*np.sqrt(samp_size)), rhos = np.power(10.,-np.arange(1,6)))\n",
    "p_d1_X  = d1_X(test[[\"X0\",\"X1\",\"X2\"]])\n",
    "d1_XZ = proxy.fit_d1_XZ_cv(gamma_f='auto', n_gamma_hs=10, linearity=linearity, n_components=int(2*np.sqrt(samp_size)), rhos = np.power(10.,-np.arange(1,6)))\n",
    "p_d1_XZ = d1_XZ(test[[\"X0\",\"X1\",\"X2\",\"Z\"]])\n",
    "d2_XW = proxy.fit_d2_XW_cv(gamma_f='auto', n_gamma_hs=10, linearity=linearity, n_components=int(2*np.sqrt(samp_size)), rhos = np.power(10.,-np.arange(1,6)))\n",
    "p_d2_XW = d2_XW(test[[\"X0\",\"X1\",\"X2\",\"W\"]])\n",
    "d3_X  = proxy.fit_d3_X_cv(gamma_f='auto', n_gamma_hs=10, linearity=linearity, n_components=int(2*np.sqrt(samp_size)), rhos = np.power(10.,-np.arange(1,6)))\n",
    "p_d3_X  = d3_X(test[[\"X0\",\"X1\",\"X2\"]])\n",
    "d_DR  = proxy.fit_d_DR_cv(gamma_f='auto', n_gamma_hs=10, linearity=linearity, n_components=int(2*np.sqrt(samp_size)), rhos = np.power(10.,-np.arange(1,6)))\n",
    "p_d_DR  = d_DR(test[[\"X0\",\"X1\",\"X2\"]])"
   ]
  },
  {
   "cell_type": "code",
   "execution_count": 42,
   "metadata": {},
   "outputs": [
    {
     "output_type": "execute_result",
     "data": {
      "text/plain": [
       "  method     value\n",
       "0   d1_X  4.591785\n",
       "1  d1_XZ  4.451697\n",
       "2  d2_XW  4.540790\n",
       "3   d3_X  4.469727\n",
       "4   d_DR  4.550059\n",
       "5     d4  4.451697"
      ],
      "text/html": "<div>\n<style scoped>\n    .dataframe tbody tr th:only-of-type {\n        vertical-align: middle;\n    }\n\n    .dataframe tbody tr th {\n        vertical-align: top;\n    }\n\n    .dataframe thead th {\n        text-align: right;\n    }\n</style>\n<table border=\"1\" class=\"dataframe\">\n  <thead>\n    <tr style=\"text-align: right;\">\n      <th></th>\n      <th>method</th>\n      <th>value</th>\n    </tr>\n  </thead>\n  <tbody>\n    <tr>\n      <th>0</th>\n      <td>d1_X</td>\n      <td>4.591785</td>\n    </tr>\n    <tr>\n      <th>1</th>\n      <td>d1_XZ</td>\n      <td>4.451697</td>\n    </tr>\n    <tr>\n      <th>2</th>\n      <td>d2_XW</td>\n      <td>4.540790</td>\n    </tr>\n    <tr>\n      <th>3</th>\n      <td>d3_X</td>\n      <td>4.469727</td>\n    </tr>\n    <tr>\n      <th>4</th>\n      <td>d_DR</td>\n      <td>4.550059</td>\n    </tr>\n    <tr>\n      <th>5</th>\n      <td>d4</td>\n      <td>4.451697</td>\n    </tr>\n  </tbody>\n</table>\n</div>"
     },
     "metadata": {},
     "execution_count": 42
    }
   ],
   "source": [
    "# Calculate Value\n",
    "v_d1_X  = value_fun(p_d1_X, test[[\"A\"]],test[[\"Y\"]],test[[\"X0\",\"X1\"]],test[[\"U\"]])\n",
    "v_d1_XZ = value_fun(p_d1_XZ,test[[\"A\"]],test[[\"Y\"]],test[[\"X0\",\"X1\"]],test[[\"U\"]])\n",
    "v_d2_XW = value_fun(p_d2_XW,test[[\"A\"]],test[[\"Y\"]],test[[\"X0\",\"X1\"]],test[[\"U\"]])\n",
    "v_d3_X  = value_fun(p_d3_X, test[[\"A\"]],test[[\"Y\"]],test[[\"X0\",\"X1\"]],test[[\"U\"]])\n",
    "v_d_DR  = value_fun(p_d_DR, test[[\"A\"]],test[[\"Y\"]],test[[\"X0\",\"X1\"]],test[[\"U\"]])\n",
    "if proxy.cv_d1_XZ > proxy.cv_d2_XW:\n",
    "    v_d4 = v_d1_XZ\n",
    "else:\n",
    "    v_d4 = v_d2_XW\n",
    "pd.DataFrame.from_dict({'method':['d1_X','d1_XZ','d2_XW','d3_X','d_DR','d4'],\n",
    "                        'value':[v_d1_X,v_d1_XZ,v_d2_XW,v_d3_X,v_d_DR,v_d4]})"
   ]
  }
 ],
 "metadata": {
  "kernelspec": {
   "display_name": "Python 3.9.2 64-bit ('proxITR': conda)",
   "name": "python392jvsc74a57bd08194bde729486d9e9ad3e66d209f7a7b7f6ea043ea5bfb0c9c84f6d6d89f5ac9",
   "language": "python"
  },
  "language_info": {
   "codemirror_mode": {
    "name": "ipython",
    "version": 3
   },
   "file_extension": ".py",
   "mimetype": "text/x-python",
   "name": "python",
   "nbconvert_exporter": "python",
   "pygments_lexer": "ipython3",
   "version": "3.9.2"
  },
  "metadata": {
   "interpreter": {
    "hash": "8194bde729486d9e9ad3e66d209f7a7b7f6ea043ea5bfb0c9c84f6d6d89f5ac9"
   }
  },
  "orig_nbformat": 2
 },
 "nbformat": 4,
 "nbformat_minor": 2
}