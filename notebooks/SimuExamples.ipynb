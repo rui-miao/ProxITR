{
 "cells": [
  {
   "cell_type": "code",
   "execution_count": null,
   "metadata": {},
   "outputs": [],
   "source": [
    "import sys\n",
    "print(sys.executable) #check jupyter kernel\n",
    "import os\n",
    "module_path = os.path.abspath(os.path.join('..'))\n",
    "if module_path not in sys.path:\n",
    "    sys.path.append(module_path)"
   ]
  },
  {
   "cell_type": "code",
   "execution_count": null,
   "metadata": {},
   "outputs": [],
   "source": [
    "from data.simu_setting import prox_data\n",
    "from src.proxITR import proxITR\n",
    "import numpy as np\n",
    "import pandas as pd\n",
    "import sklearn\n",
    "from sklearn.model_selection import train_test_split\n",
    "from sklearn.preprocessing import RobustScaler as Scaler\n",
    "from sklearn.kernel_approximation import Nystroem"
   ]
  },
  {
   "cell_type": "markdown",
   "metadata": {},
   "source": [
    "### Value Function"
   ]
  },
  {
   "cell_type": "code",
   "execution_count": null,
   "metadata": {},
   "outputs": [],
   "source": [
    "def value_fun(d,A,Y,X,U):\n",
    "    A = A.to_numpy().reshape(-1)\n",
    "    Y = Y.to_numpy().reshape(-1)\n",
    "    U = U.to_numpy().reshape(-1)\n",
    "    X = X.to_numpy()\n",
    "    return np.mean((np.abs((np.sign(A-0.5)-d))<0.5)*Y*(1. + np.exp(np.sign(A-0.5)*(0.09375+X @ [0.1875, 0.1875] -0.25*U))))"
   ]
  },
  {
   "cell_type": "markdown",
   "metadata": {},
   "source": [
    "## Examples for Different Simulation Settings"
   ]
  },
  {
   "cell_type": "markdown",
   "metadata": {},
   "source": [
    "### Scenario L1"
   ]
  },
  {
   "cell_type": "code",
   "execution_count": null,
   "metadata": {},
   "outputs": [],
   "source": [
    "# Setting\n",
    "linearity    = 'linear'\n",
    "Xonly        = 'XW'"
   ]
  },
  {
   "cell_type": "code",
   "execution_count": null,
   "metadata": {},
   "outputs": [],
   "source": [
    "# Generate Test Data\n",
    "test = prox_data(500000, add_noise=False).gen_Y(linearity=linearity, Xonly = Xonly)\n",
    "value_fun(test[[\"GOR\"]].to_numpy(int).reshape(-1), test[[\"A\"]],test[[\"Y\"]],test[[\"X0\",\"X1\"]],test[[\"U\"]])"
   ]
  },
  {
   "cell_type": "code",
   "execution_count": null,
   "metadata": {},
   "outputs": [],
   "source": [
    "# Generate Training Data\n",
    "samp_size = 2000\n",
    "train = prox_data(samp_size=samp_size, add_noise=True).gen_Y(linearity=linearity, Xonly = Xonly)"
   ]
  },
  {
   "cell_type": "code",
   "execution_count": null,
   "metadata": {},
   "outputs": [],
   "source": [
    "# Learn ITRs\n",
    "rhos = np.power(2.,-np.arange(-2,7))\n",
    "proxy = proxITR(A=train[[\"A\"]], X=train[[\"X0\",\"X1\",\"X2\",\"X3\",\"X4\",\"X5\",\"X6\",\"X7\",\"X8\",\"X9\"]], Z=train[[\"Z\"]], W=train[[\"W\"]], Y=train[[\"Y\"]], \n",
    "                                learning_rate= 0.1, n_epoch=2000, opt='LBFGS', verbose=True)\n",
    "d1_XZ = proxy.fit_d1_XZ_cv(gamma_f='auto', n_gamma_hs=10, \n",
    "        alpha_scales=[c for c in np.geomspace(0.5, 1e5, 20)],\n",
    "        linearity=linearity, n_components=int(2*np.sqrt(samp_size)), rhos = rhos)\n",
    "p_d1_XZ = d1_XZ(test[[\"X0\",\"X1\",\"X2\",\"X3\",\"X4\",\"X5\",\"X6\",\"X7\",\"X8\",\"X9\",\"Z\"]])\n",
    "\n",
    "d2_XW = proxy.fit_d2_XW_cv(gamma_f='auto', n_gamma_hs=10, \n",
    "        alpha_scales=[c for c in np.geomspace(0.1, 1e3, 20)],\n",
    "        linearity=linearity, n_components=int(2*np.sqrt(samp_size)), rhos = rhos)\n",
    "p_d2_XW = d2_XW(test[[\"X0\",\"X1\",\"X2\",\"X3\",\"X4\",\"X5\",\"X6\",\"X7\",\"X8\",\"X9\",\"W\"]])\n",
    "\n",
    "d_DR  = proxy.fit_d_DR_cv(gamma_f='auto', n_gamma_hs=10, \n",
    "        h_alpha_scales=[c for c in np.geomspace(0.5, 1e5, 20)],\n",
    "        q_alpha_scales=[c for c in np.geomspace(0.1, 1e3, 20)],\n",
    "        linearity=linearity, n_components=int(2*np.sqrt(samp_size)), rhos = rhos, learning_rate=1e-2)\n",
    "p_d_DR  = d_DR(test[[\"X0\",\"X1\",\"X2\",\"X3\",\"X4\",\"X5\",\"X6\",\"X7\",\"X8\",\"X9\"]])\n",
    "\n",
    "d1_X  = proxy.fit_d1_X_cv(gamma_f='auto', n_gamma_hs=10, \n",
    "        alpha_scales=[c for c in np.geomspace(0.5, 1e5, 20)],\n",
    "        linearity=linearity, n_components=int(2*np.sqrt(samp_size)), rhos = rhos)\n",
    "p_d1_X  = d1_X(test[[\"X0\",\"X1\",\"X2\",\"X3\",\"X4\",\"X5\",\"X6\",\"X7\",\"X8\",\"X9\"]])\n",
    "\n",
    "d2_X  = proxy.fit_d2_X_cv(gamma_f='auto', n_gamma_hs=10, \n",
    "        alpha_scales=[c for c in np.geomspace(0.1, 1e3, 20)],\n",
    "        linearity=linearity, n_components=int(2*np.sqrt(samp_size)), rhos = rhos)\n",
    "p_d2_X  = d2_X(test[[\"X0\",\"X1\",\"X2\",\"X3\",\"X4\",\"X5\",\"X6\",\"X7\",\"X8\",\"X9\"]])"
   ]
  },
  {
   "cell_type": "code",
   "execution_count": null,
   "metadata": {},
   "outputs": [],
   "source": [
    "# Calculate Value\n",
    "v_d1_XZ = value_fun(p_d1_XZ,test[[\"A\"]],test[[\"Y\"]],test[[\"X0\",\"X1\"]],test[[\"U\"]])\n",
    "v_d2_XW = value_fun(p_d2_XW,test[[\"A\"]],test[[\"Y\"]],test[[\"X0\",\"X1\"]],test[[\"U\"]])\n",
    "v_d_DR  = value_fun(p_d_DR, test[[\"A\"]],test[[\"Y\"]],test[[\"X0\",\"X1\"]],test[[\"U\"]])\n",
    "v_d1_X  = value_fun(p_d1_X, test[[\"A\"]],test[[\"Y\"]],test[[\"X0\",\"X1\"]],test[[\"U\"]])\n",
    "v_d2_X  = value_fun(p_d2_X, test[[\"A\"]],test[[\"Y\"]],test[[\"X0\",\"X1\"]],test[[\"U\"]])\n",
    "if proxy.cv_d1_XZ > proxy.cv_d2_XW:\n",
    "    v_d4 = v_d1_XZ\n",
    "else:\n",
    "    v_d4 = v_d2_XW\n",
    "# Table of values\n",
    "pd.DataFrame.from_dict({'method':['d1_XZ','d2_XW','d4','d_DR','d1_X','d2_X'],\n",
    "                        'value':[v_d1_XZ,v_d2_XW,v_d4,v_d_DR,v_d1_X,v_d2_X]})"
   ]
  },
  {
   "cell_type": "code",
   "execution_count": null,
   "metadata": {},
   "outputs": [],
   "source": [
    "proxy = proxITR(A=train[[\"A\"]], X=train[[\"X0\",\"X1\",\"X2\",\"X3\",\"X4\",\"X5\",\"X6\",\"X7\",\"X8\",\"X9\"]], Z=train[[\"Z\"]], W=train[[\"W\"]], Y=train[[\"Y\"]], \n",
    "                god=True, d_X_opt = train[[\"GOR_X\"]])\n",
    "CI = proxy.eif_CI(gamma_f='auto', n_gamma_hs=10, n_alphas=20,\n",
    "            h_alpha_scales=[c for c in np.geomspace(0.5, 1e5, 20)],\n",
    "            q_alpha_scales=[c for c in np.geomspace(0.1, 1e3, 20)],\n",
    "            n_components=int(2*np.sqrt(samp_size)))\n",
    "CI"
   ]
  },
  {
   "cell_type": "markdown",
   "metadata": {},
   "source": [
    "### Scenario L2"
   ]
  },
  {
   "cell_type": "code",
   "execution_count": null,
   "metadata": {},
   "outputs": [],
   "source": [
    "# Setting\n",
    "linearity    = 'linear'\n",
    "Xonly        = 'X'"
   ]
  },
  {
   "cell_type": "code",
   "execution_count": null,
   "metadata": {},
   "outputs": [],
   "source": [
    "# Generate Test Data\n",
    "test = prox_data(500000, add_noise=False).gen_Y(linearity=linearity, Xonly = Xonly)\n",
    "value_fun(test[[\"GOR\"]].to_numpy(int).reshape(-1), test[[\"A\"]],test[[\"Y\"]],test[[\"X0\",\"X1\"]],test[[\"U\"]])"
   ]
  },
  {
   "cell_type": "code",
   "execution_count": null,
   "metadata": {},
   "outputs": [],
   "source": [
    "# Generate Training Data\n",
    "samp_size = 2000\n",
    "train = prox_data(samp_size=samp_size, add_noise=True).gen_Y(linearity=linearity, Xonly = Xonly)"
   ]
  },
  {
   "cell_type": "code",
   "execution_count": null,
   "metadata": {},
   "outputs": [],
   "source": [
    "# Learn ITRs\n",
    "rhos = np.power(2.,-np.arange(-2,7))\n",
    "proxy = proxITR(A=train[[\"A\"]], X=train[[\"X0\",\"X1\",\"X2\",\"X3\",\"X4\",\"X5\",\"X6\",\"X7\",\"X8\",\"X9\"]], Z=train[[\"Z\"]], W=train[[\"W\"]], Y=train[[\"Y\"]], \n",
    "                                learning_rate= 0.1, n_epoch=2000, opt='LBFGS', verbose=True)\n",
    "d1_XZ = proxy.fit_d1_XZ_cv(gamma_f='auto', n_gamma_hs=10, \n",
    "        alpha_scales=[c for c in np.geomspace(0.5, 1e5, 20)],\n",
    "        linearity=linearity, n_components=int(2*np.sqrt(samp_size)), rhos = rhos)\n",
    "p_d1_XZ = d1_XZ(test[[\"X0\",\"X1\",\"X2\",\"X3\",\"X4\",\"X5\",\"X6\",\"X7\",\"X8\",\"X9\",\"Z\"]])\n",
    "\n",
    "d2_XW = proxy.fit_d2_XW_cv(gamma_f='auto', n_gamma_hs=10, \n",
    "        alpha_scales=[c for c in np.geomspace(0.1, 1e3, 20)],\n",
    "        linearity=linearity, n_components=int(2*np.sqrt(samp_size)), rhos = rhos)\n",
    "p_d2_XW = d2_XW(test[[\"X0\",\"X1\",\"X2\",\"X3\",\"X4\",\"X5\",\"X6\",\"X7\",\"X8\",\"X9\",\"W\"]])\n",
    "\n",
    "d_DR  = proxy.fit_d_DR_cv(gamma_f='auto', n_gamma_hs=10, \n",
    "        h_alpha_scales=[c for c in np.geomspace(0.5, 1e5, 20)],\n",
    "        q_alpha_scales=[c for c in np.geomspace(0.1, 1e3, 20)],\n",
    "        linearity=linearity, n_components=int(2*np.sqrt(samp_size)), rhos = rhos, learning_rate=1e-2)\n",
    "p_d_DR  = d_DR(test[[\"X0\",\"X1\",\"X2\",\"X3\",\"X4\",\"X5\",\"X6\",\"X7\",\"X8\",\"X9\"]])\n",
    "\n",
    "d1_X  = proxy.fit_d1_X_cv(gamma_f='auto', n_gamma_hs=10, \n",
    "        alpha_scales=[c for c in np.geomspace(0.5, 1e5, 20)],\n",
    "        linearity=linearity, n_components=int(2*np.sqrt(samp_size)), rhos = rhos)\n",
    "p_d1_X  = d1_X(test[[\"X0\",\"X1\",\"X2\",\"X3\",\"X4\",\"X5\",\"X6\",\"X7\",\"X8\",\"X9\"]])\n",
    "\n",
    "d2_X  = proxy.fit_d2_X_cv(gamma_f='auto', n_gamma_hs=10, \n",
    "        alpha_scales=[c for c in np.geomspace(0.1, 1e3, 20)],\n",
    "        linearity=linearity, n_components=int(2*np.sqrt(samp_size)), rhos = rhos)\n",
    "p_d2_X  = d2_X(test[[\"X0\",\"X1\",\"X2\",\"X3\",\"X4\",\"X5\",\"X6\",\"X7\",\"X8\",\"X9\"]])"
   ]
  },
  {
   "cell_type": "code",
   "execution_count": null,
   "metadata": {},
   "outputs": [],
   "source": [
    "# Calculate Value\n",
    "v_d1_XZ = value_fun(p_d1_XZ,test[[\"A\"]],test[[\"Y\"]],test[[\"X0\",\"X1\"]],test[[\"U\"]])\n",
    "v_d2_XW = value_fun(p_d2_XW,test[[\"A\"]],test[[\"Y\"]],test[[\"X0\",\"X1\"]],test[[\"U\"]])\n",
    "v_d_DR  = value_fun(p_d_DR, test[[\"A\"]],test[[\"Y\"]],test[[\"X0\",\"X1\"]],test[[\"U\"]])\n",
    "v_d1_X  = value_fun(p_d1_X, test[[\"A\"]],test[[\"Y\"]],test[[\"X0\",\"X1\"]],test[[\"U\"]])\n",
    "v_d2_X  = value_fun(p_d2_X, test[[\"A\"]],test[[\"Y\"]],test[[\"X0\",\"X1\"]],test[[\"U\"]])\n",
    "if proxy.cv_d1_XZ > proxy.cv_d2_XW:\n",
    "    v_d4 = v_d1_XZ\n",
    "else:\n",
    "    v_d4 = v_d2_XW\n",
    "# Table of values\n",
    "pd.DataFrame.from_dict({'method':['d1_XZ','d2_XW','d4','d_DR','d1_X','d2_X'],\n",
    "                        'value':[v_d1_XZ,v_d2_XW,v_d4,v_d_DR,v_d1_X,v_d2_X]})"
   ]
  },
  {
   "cell_type": "code",
   "execution_count": null,
   "metadata": {},
   "outputs": [],
   "source": [
    "proxy = proxITR(A=train[[\"A\"]], X=train[[\"X0\",\"X1\",\"X2\",\"X3\",\"X4\",\"X5\",\"X6\",\"X7\",\"X8\",\"X9\"]], Z=train[[\"Z\"]], W=train[[\"W\"]], Y=train[[\"Y\"]], \n",
    "                god=True, d_X_opt = train[[\"GOR_X\"]])\n",
    "CI = proxy.eif_CI(gamma_f='auto', n_gamma_hs=10, n_alphas=20,\n",
    "            h_alpha_scales=[c for c in np.geomspace(0.5, 1e5, 20)],\n",
    "            q_alpha_scales=[c for c in np.geomspace(0.1, 1e3, 20)],\n",
    "            n_components=int(2*np.sqrt(samp_size)))\n",
    "CI"
   ]
  },
  {
   "cell_type": "markdown",
   "metadata": {},
   "source": [
    "### Scenario N1"
   ]
  },
  {
   "cell_type": "code",
   "execution_count": null,
   "metadata": {},
   "outputs": [],
   "source": [
    "# Setting\n",
    "linearity    = 'nonlinear'\n",
    "Xonly        = 'XW'"
   ]
  },
  {
   "cell_type": "code",
   "execution_count": null,
   "metadata": {},
   "outputs": [],
   "source": [
    "# Generate Test Data\n",
    "test = prox_data(500000, add_noise=False).gen_Y(linearity=linearity, Xonly = Xonly)\n",
    "value_fun(test[[\"GOR\"]].to_numpy(int).reshape(-1), test[[\"A\"]],test[[\"Y\"]],test[[\"X0\",\"X1\"]],test[[\"U\"]])"
   ]
  },
  {
   "cell_type": "code",
   "execution_count": null,
   "metadata": {},
   "outputs": [],
   "source": [
    "# Generate Training Data\n",
    "samp_size = 2000\n",
    "train = prox_data(samp_size=samp_size, add_noise=True).gen_Y(linearity=linearity, Xonly = Xonly)"
   ]
  },
  {
   "cell_type": "code",
   "execution_count": null,
   "metadata": {},
   "outputs": [],
   "source": [
    "rhos = np.power(2.,-np.arange(-1,8))\n",
    "proxy = proxITR(A=train[[\"A\"]], X=train[[\"X0\",\"X1\",\"X2\",\"X3\",\"X4\",\"X5\",\"X6\",\"X7\",\"X8\",\"X9\"]], Z=train[[\"Z\"]], W=train[[\"W\"]], Y=train[[\"Y\"]], learning_rate=0.1, n_epoch=2000, batch_size=300, opt='SGD', verbose=False)\n",
    "d1_XZ = proxy.fit_d1_XZ_cv(gamma_f='auto', n_gamma_hs=10, \n",
    "        alpha_scales=[c for c in np.geomspace(0.5, 1e5, 20)],\n",
    "        linearity=linearity, n_components=int(2*np.sqrt(samp_size)), rhos = rhos)\n",
    "p_d1_XZ = d1_XZ(test[[\"X0\",\"X1\",\"X2\",\"X3\",\"X4\",\"X5\",\"X6\",\"X7\",\"X8\",\"X9\",\"Z\"]])\n",
    "d2_XW = proxy.fit_d2_XW_cv(gamma_f='auto', n_gamma_hs=10, \n",
    "        alpha_scales=[c for c in np.geomspace(0.1, 1e3, 20)],\n",
    "        linearity=linearity, n_components=int(2*np.sqrt(samp_size)), rhos = rhos)\n",
    "p_d2_XW = d2_XW(test[[\"X0\",\"X1\",\"X2\",\"X3\",\"X4\",\"X5\",\"X6\",\"X7\",\"X8\",\"X9\",\"W\"]])\n",
    "d_DR  = proxy.fit_d_DR_cv(gamma_f='auto', n_gamma_hs=10, \n",
    "        h_alpha_scales=[c for c in np.geomspace(0.5, 1e5, 20)],\n",
    "        q_alpha_scales=[c for c in np.geomspace(0.1, 1e3, 20)],\n",
    "        linearity=linearity, n_components=int(2*np.sqrt(samp_size)), rhos = rhos)\n",
    "p_d_DR  = d_DR(test[[\"X0\",\"X1\",\"X2\",\"X3\",\"X4\",\"X5\",\"X6\",\"X7\",\"X8\",\"X9\"]])\n",
    "d1_X  = proxy.fit_d1_X_cv(gamma_f='auto', n_gamma_hs=10, \n",
    "        alpha_scales=[c for c in np.geomspace(0.5, 1e5, 20)],\n",
    "        linearity=linearity, n_components=int(2*np.sqrt(samp_size)), rhos = rhos)\n",
    "p_d1_X  = d1_X(test[[\"X0\",\"X1\",\"X2\",\"X3\",\"X4\",\"X5\",\"X6\",\"X7\",\"X8\",\"X9\"]])\n",
    "d2_X  = proxy.fit_d2_X_cv(gamma_f='auto', n_gamma_hs=10, \n",
    "        alpha_scales=[c for c in np.geomspace(0.1, 1e3, 20)],\n",
    "        linearity=linearity, n_components=int(2*np.sqrt(samp_size)), rhos = rhos)\n",
    "p_d2_X  = d2_X(test[[\"X0\",\"X1\",\"X2\",\"X3\",\"X4\",\"X5\",\"X6\",\"X7\",\"X8\",\"X9\"]])"
   ]
  },
  {
   "cell_type": "code",
   "execution_count": null,
   "metadata": {},
   "outputs": [],
   "source": [
    "# Calculate Value\n",
    "v_d1_XZ = value_fun(p_d1_XZ,test[[\"A\"]],test[[\"Y\"]],test[[\"X0\",\"X1\"]],test[[\"U\"]])\n",
    "v_d2_XW = value_fun(p_d2_XW,test[[\"A\"]],test[[\"Y\"]],test[[\"X0\",\"X1\"]],test[[\"U\"]])\n",
    "v_d_DR  = value_fun(p_d_DR, test[[\"A\"]],test[[\"Y\"]],test[[\"X0\",\"X1\"]],test[[\"U\"]])\n",
    "v_d1_X  = value_fun(p_d1_X, test[[\"A\"]],test[[\"Y\"]],test[[\"X0\",\"X1\"]],test[[\"U\"]])\n",
    "v_d2_X  = value_fun(p_d2_X, test[[\"A\"]],test[[\"Y\"]],test[[\"X0\",\"X1\"]],test[[\"U\"]])\n",
    "if proxy.cv_d1_XZ > proxy.cv_d2_XW:\n",
    "    v_d4 = v_d1_XZ\n",
    "else:\n",
    "    v_d4 = v_d2_XW\n",
    "# Table of values\n",
    "pd.DataFrame.from_dict({'method':['d1_XZ','d2_XW','d4','d_DR','d1_X','d2_X'],\n",
    "                        'value':[v_d1_XZ,v_d2_XW,v_d4,v_d_DR,v_d1_X,v_d2_X]})"
   ]
  },
  {
   "cell_type": "code",
   "execution_count": null,
   "metadata": {},
   "outputs": [],
   "source": [
    "proxy = proxITR(A=train[[\"A\"]], X=train[[\"X0\",\"X1\",\"X2\",\"X3\",\"X4\",\"X5\",\"X6\",\"X7\",\"X8\",\"X9\"]], Z=train[[\"Z\"]], W=train[[\"W\"]], Y=train[[\"Y\"]], \n",
    "                god=True, d_X_opt = train[[\"GOR_X\"]])\n",
    "CI = proxy.eif_CI(gamma_f='auto', n_gamma_hs=10, n_alphas=20,\n",
    "            h_alpha_scales=[c for c in np.geomspace(0.5, 1e5, 20)],\n",
    "            q_alpha_scales=[c for c in np.geomspace(0.1, 1e3, 20)],\n",
    "            n_components=int(2*np.sqrt(samp_size)))\n",
    "CI"
   ]
  },
  {
   "cell_type": "markdown",
   "metadata": {},
   "source": [
    "### Scenario N2"
   ]
  },
  {
   "cell_type": "code",
   "execution_count": null,
   "metadata": {},
   "outputs": [],
   "source": [
    "# Setting\n",
    "linearity    = 'nonlinear'\n",
    "Xonly        = 'X'"
   ]
  },
  {
   "cell_type": "code",
   "execution_count": null,
   "metadata": {},
   "outputs": [],
   "source": [
    "# Generate Test Data\n",
    "test = prox_data(500000, add_noise=False).gen_Y(linearity=linearity, Xonly = Xonly)\n",
    "value_fun(test[[\"GOR\"]].to_numpy(int).reshape(-1), test[[\"A\"]],test[[\"Y\"]],test[[\"X0\",\"X1\"]],test[[\"U\"]])"
   ]
  },
  {
   "cell_type": "code",
   "execution_count": null,
   "metadata": {},
   "outputs": [],
   "source": [
    "# Generate Training Data\n",
    "samp_size = 2000\n",
    "train = prox_data(samp_size=samp_size, add_noise=True).gen_Y(linearity=linearity, Xonly = Xonly)"
   ]
  },
  {
   "cell_type": "code",
   "execution_count": null,
   "metadata": {},
   "outputs": [],
   "source": [
    "rhos = np.power(2.,-np.arange(-1,8))\n",
    "proxy = proxITR(A=train[[\"A\"]], X=train[[\"X0\",\"X1\",\"X2\",\"X3\",\"X4\",\"X5\",\"X6\",\"X7\",\"X8\",\"X9\"]], Z=train[[\"Z\"]], W=train[[\"W\"]], Y=train[[\"Y\"]], learning_rate=0.1, n_epoch=2000, batch_size=300, opt='SGD', verbose=False)\n",
    "d1_XZ = proxy.fit_d1_XZ_cv(gamma_f='auto', n_gamma_hs=10, \n",
    "        alpha_scales=[c for c in np.geomspace(0.5, 1e5, 20)],\n",
    "        linearity=linearity, n_components=int(2*np.sqrt(samp_size)), rhos = rhos)\n",
    "p_d1_XZ = d1_XZ(test[[\"X0\",\"X1\",\"X2\",\"X3\",\"X4\",\"X5\",\"X6\",\"X7\",\"X8\",\"X9\",\"Z\"]])\n",
    "d2_XW = proxy.fit_d2_XW_cv(gamma_f='auto', n_gamma_hs=10, \n",
    "        alpha_scales=[c for c in np.geomspace(0.1, 1e3, 20)],\n",
    "        linearity=linearity, n_components=int(2*np.sqrt(samp_size)), rhos = rhos)\n",
    "p_d2_XW = d2_XW(test[[\"X0\",\"X1\",\"X2\",\"X3\",\"X4\",\"X5\",\"X6\",\"X7\",\"X8\",\"X9\",\"W\"]])\n",
    "d_DR  = proxy.fit_d_DR_cv(gamma_f='auto', n_gamma_hs=10, \n",
    "        h_alpha_scales=[c for c in np.geomspace(0.5, 1e5, 20)],\n",
    "        q_alpha_scales=[c for c in np.geomspace(0.1, 1e3, 20)],\n",
    "        linearity=linearity, n_components=int(2*np.sqrt(samp_size)), rhos = rhos)\n",
    "p_d_DR  = d_DR(test[[\"X0\",\"X1\",\"X2\",\"X3\",\"X4\",\"X5\",\"X6\",\"X7\",\"X8\",\"X9\"]])\n",
    "d1_X  = proxy.fit_d1_X_cv(gamma_f='auto', n_gamma_hs=10, \n",
    "        alpha_scales=[c for c in np.geomspace(0.5, 1e5, 20)],\n",
    "        linearity=linearity, n_components=int(2*np.sqrt(samp_size)), rhos = rhos)\n",
    "p_d1_X  = d1_X(test[[\"X0\",\"X1\",\"X2\",\"X3\",\"X4\",\"X5\",\"X6\",\"X7\",\"X8\",\"X9\"]])\n",
    "d2_X  = proxy.fit_d2_X_cv(gamma_f='auto', n_gamma_hs=10, \n",
    "        alpha_scales=[c for c in np.geomspace(0.1, 1e3, 20)],\n",
    "        linearity=linearity, n_components=int(2*np.sqrt(samp_size)), rhos = rhos)\n",
    "p_d2_X  = d2_X(test[[\"X0\",\"X1\",\"X2\",\"X3\",\"X4\",\"X5\",\"X6\",\"X7\",\"X8\",\"X9\"]])"
   ]
  },
  {
   "cell_type": "code",
   "execution_count": null,
   "metadata": {},
   "outputs": [],
   "source": [
    "# Calculate Value\n",
    "v_d1_XZ = value_fun(p_d1_XZ,test[[\"A\"]],test[[\"Y\"]],test[[\"X0\",\"X1\"]],test[[\"U\"]])\n",
    "v_d2_XW = value_fun(p_d2_XW,test[[\"A\"]],test[[\"Y\"]],test[[\"X0\",\"X1\"]],test[[\"U\"]])\n",
    "v_d_DR  = value_fun(p_d_DR, test[[\"A\"]],test[[\"Y\"]],test[[\"X0\",\"X1\"]],test[[\"U\"]])\n",
    "v_d1_X  = value_fun(p_d1_X, test[[\"A\"]],test[[\"Y\"]],test[[\"X0\",\"X1\"]],test[[\"U\"]])\n",
    "v_d2_X  = value_fun(p_d2_X, test[[\"A\"]],test[[\"Y\"]],test[[\"X0\",\"X1\"]],test[[\"U\"]])\n",
    "if proxy.cv_d1_XZ > proxy.cv_d2_XW:\n",
    "    v_d4 = v_d1_XZ\n",
    "else:\n",
    "    v_d4 = v_d2_XW\n",
    "# Table of values\n",
    "pd.DataFrame.from_dict({'method':['d1_XZ','d2_XW','d4','d_DR','d1_X','d2_X'],\n",
    "                        'value':[v_d1_XZ,v_d2_XW,v_d4,v_d_DR,v_d1_X,v_d2_X]})"
   ]
  },
  {
   "cell_type": "code",
   "execution_count": null,
   "metadata": {},
   "outputs": [],
   "source": [
    "proxy = proxITR(A=train[[\"A\"]], X=train[[\"X0\",\"X1\",\"X2\",\"X3\",\"X4\",\"X5\",\"X6\",\"X7\",\"X8\",\"X9\"]], Z=train[[\"Z\"]], W=train[[\"W\"]], Y=train[[\"Y\"]], \n",
    "                god=True, d_X_opt = train[[\"GOR_X\"]])\n",
    "CI = proxy.eif_CI(gamma_f='auto', n_gamma_hs=10, n_alphas=20,\n",
    "            h_alpha_scales=[c for c in np.geomspace(0.5, 1e5, 20)],\n",
    "            q_alpha_scales=[c for c in np.geomspace(0.1, 1e3, 20)],\n",
    "            n_components=int(2*np.sqrt(samp_size)))\n",
    "CI"
   ]
  }
 ],
 "metadata": {
  "interpreter": {
   "hash": "b9bcd8cdc2bdb7a8887cb358e8d821a141d38f97891772cd8e4ff62edfd37598"
  },
  "kernelspec": {
   "display_name": "Python 3.9.2 64-bit ('proxITR': conda)",
   "language": "python",
   "name": "python3"
  },
  "language_info": {
   "codemirror_mode": {
    "name": "ipython",
    "version": 3
   },
   "file_extension": ".py",
   "mimetype": "text/x-python",
   "name": "python",
   "nbconvert_exporter": "python",
   "pygments_lexer": "ipython3",
   "version": "3.7.10"
  },
  "metadata": {
   "interpreter": {
    "hash": "8194bde729486d9e9ad3e66d209f7a7b7f6ea043ea5bfb0c9c84f6d6d89f5ac9"
   }
  },
  "orig_nbformat": 2
 },
 "nbformat": 4,
 "nbformat_minor": 2
}
